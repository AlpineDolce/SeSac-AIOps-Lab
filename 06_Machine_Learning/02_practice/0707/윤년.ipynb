{
 "cells": [
  {
   "cell_type": "markdown",
   "metadata": {},
   "source": [
    "# 윤년 예측: 규칙 기반 문제를 머신러닝으로 해결하기\n",
    "\n",
    "이 노트북은 명확한 규칙(4년마다, 100년마다는 제외, 400년마다는 포함)을 가진 **윤년 판별** 문제를 머신러닝, 특히 **K-최근접 이웃(KNN)** 알고리즘으로 해결하는 과정을 보여줍니다.\n",
    "\n",
    "이를 통해 머신러닝 프로젝트의 기본적인 데이터 준비 및 처리 흐름을 학습하는 것을 목표로 합니다."
   ]
  },
  {
   "cell_type": "markdown",
   "metadata": {},
   "source": [
    "### 1. 데이터 생성\n",
    "\n",
    "머신러닝 모델을 학습시키기 위한 데이터셋을 직접 만듭니다. 1년부터 2025년까지 각 연도가 윤년인지 아닌지를 판별하여 입력 데이터(X)와 정답 데이터(y)를 구성합니다."
   ]
  },
  {
   "cell_type": "code",
   "execution_count": null,
   "metadata": {},
   "outputs": [],
   "source": [
    "# 윤년 판별 함수 정의\n",
    "def is_leap(year):\n",
    "    \"\"\"주어진 연도가 윤년이면 1, 아니면 0을 반환합니다.\"\"\"\n",
    "    if (year % 4 == 0 and year % 100 != 0) or (year % 400 == 0):\n",
    "        return 1 # 윤년\n",
    "    return 0   # 평년\n",
    "\n",
    "# 1년부터 2025년까지의 데이터 생성\n",
    "X_list = []\n",
    "y_list = []\n",
    "\n",
    "for year in range(1, 2026):\n",
    "    X_list.append(year)\n",
    "    y_list.append(is_leap(year))\n",
    "\n",
    "# 생성된 데이터 확인 (예: 2000년 근처)\n",
    "print(\"연도 데이터 (2000년~):\", X_list[1999:2010])\n",
    "print(\"윤년 레이블 (2000년~):\", y_list[1999:2010])"
   ]
  },
  {
   "cell_type": "markdown",
   "metadata": {},
   "source": [
    "### 2. 머신러닝을 위한 데이터 준비 (Numpy 배열 변환)\n",
    "\n",
    "`scikit-learn`의 머신러닝 모델은 파이썬 리스트가 아닌 `Numpy` 배열을 입력으로 받습니다. 또한, 입력 데이터 `X`는 항상 **2차원 배열**이어야 합니다.\n",
    "\n",
    "- **입력 데이터 (X)**: `(n_samples, n_features)` 형태의 2D 배열. 즉, (샘플의 수, 각 샘플의 특성 수)를 의미합니다. 이 문제에서는 특성이 '연도' 하나뿐이므로 `(2025, 1)` 형태가 되어야 합니다.\n",
    "- **타겟 데이터 (y)**: `(n_samples,)` 형태의 1D 배열."
   ]
  },
  {
   "cell_type": "code",
   "execution_count": null,
   "metadata": {},
   "outputs": [],
   "source": [
    "import numpy as np\n",
    "\n",
    "# 파이썬 리스트를 Numpy 배열로 변환\n",
    "X_np = np.array(X_list)\n",
    "y_np = np.array(y_list)\n",
    "\n",
    "print(\"변환 전 X 형태:\", X_np.shape) # (2025,)\n",
    "\n",
    "# reshape(-1, 1)을 사용하여 1D 배열을 2D 배열로 변환\n",
    "# -1은 '남은 모든 원소'를 의미하므로, 자동으로 샘플 수(2025)가 채워집니다.\n",
    "X = X_np.reshape(-1, 1)\n",
    "y = y_np\n",
    "\n",
    "print(\"변환 후 X 형태:\", X.shape) # (2025, 1)\n",
    "print(\"y 형태:\", y.shape) # (2025,)"
   ]
  },
  {
   "cell_type": "markdown",
   "metadata": {},
   "source": [
    "### 3. 훈련 및 테스트 데이터 분할\n",
    "\n",
    "모델의 일반화 성능을 평가하기 위해, 생성된 전체 데이터를 훈련 세트와 테스트 세트로 분리합니다."
   ]
  },
  {
   "cell_type": "code",
   "execution_count": null,
   "metadata": {},
   "outputs": [],
   "source": [
    "from sklearn.model_selection import train_test_split\n",
    "\n",
    "# test_size=0.3: 전체 데이터의 30%를 테스트 세트로 사용\n",
    "X_train, X_test, y_train, y_test = train_test_split(X, y, random_state=1, test_size=0.3)\n",
    "\n",
    "print(f\"훈련 데이터 형태: {X_train.shape}, {y_train.shape}\")\n",
    "print(f\"테스트 데이터 형태: {X_test.shape}, {y_test.shape}\")"
   ]
  },
  {
   "cell_type": "markdown",
   "metadata": {},
   "source": [
    "### 4. 모델 학습 및 평가\n",
    "\n",
    "K-최근접 이웃(KNN) 분류 알고리즘을 사용하여 모델을 학습하고, 훈련 세트와 테스트 세트에 대한 정확도를 평가합니다."
   ]
  },
  {
   "cell_type": "code",
   "execution_count": null,
   "metadata": {},
   "outputs": [],
   "source": [
    "from sklearn.neighbors import KNeighborsClassifier\n",
    "\n",
    "# 이웃의 수를 3으로 설정하여 모델 생성\n",
    "model = KNeighborsClassifier(n_neighbors=3)\n",
    "\n",
    "# 훈련 데이터로 모델 학습\n",
    "model.fit(X_train, y_train)\n",
    "\n",
    "# 성능 평가 (정확도)\n",
    "train_score = model.score(X_train, y_train)\n",
    "test_score = model.score(X_test, y_test)\n",
    "\n",
    "print(f\"훈련 세트 정확도: {train_score:.4f}\")\n",
    "print(f\"테스트 세트 정확도: {test_score:.4f}\")\n",
    "# 규칙이 매우 명확한 문제이므로, 머신러닝 모델이 거의 완벽하게 패턴을 학습한 것을 볼 수 있습니다."
   ]
  }
 ],
 "metadata": {
  "kernelspec": {
   "display_name": "Python 3",
   "language": "python",
   "name": "python3"
  },
  "language_info": {
   "codemirror_mode": {
    "name": "ipython",
    "version": 3
   },
   "file_extension": ".py",
   "mimetype": "text/x-python",
   "name": "python",
   "nbconvert_exporter": "python",
   "pygments_lexer": "ipython3",
   "version": "3.9.7"
  }
 },
 "nbformat": 4,
 "nbformat_minor": 4
}