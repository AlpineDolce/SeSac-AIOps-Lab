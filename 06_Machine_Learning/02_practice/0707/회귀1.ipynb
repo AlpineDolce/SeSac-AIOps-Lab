{
 "cells": [
  {
   "cell_type": "markdown",
   "metadata": {},
   "source": [
    "# 선형 회귀 (Linear Regression): 기본 원리 및 구현\n",
    "\n",
    "이 노트북은 머신러닝에서 가장 기본적이고 널리 사용되는 회귀 모델인 **선형 회귀(Linear Regression)**의 원리를 이해하고, 간단한 가상 데이터를 사용하여 모델을 학습시키고 예측하는 과정을 다룹니다.\n",
    "\n",
    "### 선형 회귀란?\n",
    "선형 회귀는 독립 변수(feature)와 종속 변수(target) 간의 선형 관계를 모델링하여, 독립 변수의 값을 통해 종속 변수의 값을 예측하는 통계적 방법입니다. 즉, 데이터에 가장 잘 맞는 '직선'을 찾아내는 과정이라고 할 수 있습니다."
   ]
  },
  {
   "cell_type": "markdown",
   "metadata": {},
   "source": [
    "### 1. 라이브러리 임포트"
   ]
  },
  {
   "cell_type": "code",
   "execution_count": null,
   "metadata": {},
   "outputs": [],
   "source": [
    "import numpy as np\n",
    "import matplotlib.pyplot as plt\n",
    "from sklearn.linear_model import LinearRegression\n",
    "from sklearn.model_selection import train_test_split # 데이터 분할을 위해 추가"
   ]
  },
  {
   "cell_type": "markdown",
   "metadata": {},
   "source": [
    "### 2. 가상 데이터 생성\n",
    "\n",
    "선형 회귀 모델 학습에 사용할 간단한 1차원 가상 데이터를 생성합니다. 실제 데이터는 아니지만, 선형 관계를 명확히 보여주기 위해 임의의 노이즈를 추가합니다."
   ]
  },
  {
   "cell_type": "code",
   "execution_count": null,
   "metadata": {},
   "outputs": [],
   "source": [
    "# 데이터 포인트 개수\n",
    "n_samples = 100\n",
    "\n",
    "# 독립 변수 X (0부터 10까지 균등하게 분포)\n",
    "X = np.linspace(0, 10, n_samples).reshape(-1, 1) # LinearRegression은 2D 배열을 입력으로 받습니다.\n",
    "\n",
    "# 종속 변수 y (선형 관계 + 노이즈)\n",
    "# y = 2 * X + 1 + random_noise\n",
    "y = 2 * X + 1 + np.random.randn(n_samples, 1) * 2 # 노이즈 추가\n",
    "\n",
    "print(f\"X 형태: {X.shape}\")\n",
    "print(f\"y 형태: {y.shape}\")\n",
    "print(\"\\nX 샘플 (상위 5개):\\n\", X[:5])\n",
    "print(\"\\ny 샘플 (상위 5개):\\n\", y[:5])"
   ]
  },
  {
   "cell_type": "markdown",
   "metadata": {},
   "source": [
    "### 3. 데이터 시각화\n",
    "\n",
    "생성된 데이터를 산점도(scatter plot)로 그려 독립 변수와 종속 변수 간의 관계를 시각적으로 확인합니다."
   ]
  },
  {
   "cell_type": "code",
   "execution_count": null,
   "metadata": {},
   "outputs": [],
   "source": [
    "plt.figure(figsize=(8, 6))\n",
    "plt.scatter(X, y, color='blue', label='원본 데이터')\n",
    "plt.xlabel('X (독립 변수)')\n",
    "plt.ylabel('y (종속 변수)')\n",
    "plt.title('가상 데이터 산점도')\n",
    "plt.grid(True)\n",
    "plt.legend()\n",
    "plt.show()"
   ]
  },
  {
   "cell_type": "markdown",
   "metadata": {},
   "source": [
    "### 4. 선형 회귀 모델 학습\n",
    "\n",
    "`scikit-learn`의 `LinearRegression` 모델을 사용하여 데이터를 학습시킵니다. 모델은 `fit()` 메소드를 통해 훈련 데이터로부터 최적의 회귀선(계수와 절편)을 찾습니다."
   ]
  },
  {
   "cell_type": "code",
   "execution_count": null,
   "metadata": {},
   "outputs": [],
   "source": [
    "# 모델 객체 생성\n",
    "model = LinearRegression()\n",
    "\n",
    "# 모델 학습\n",
    "model.fit(X, y)\n",
    "\n",
    "print(\"--- 학습된 모델 정보 ---\")\n",
    "print(f\"계수 (Coefficient): {model.coef_[0][0]:.2f}\") # 기울기\n",
    "print(f\"절편 (Intercept): {model.intercept_[0]:.2f}\") # y절편"
   ]
  },
  {
   "cell_type": "markdown",
   "metadata": {},
   "source": [
    "### 5. 예측 및 평가\n",
    "\n",
    "학습된 모델을 사용하여 새로운 `X` 값에 대한 `y` 값을 예측하고, 모델의 성능을 평가합니다. 회귀 모델의 성능은 주로 **결정 계수(R-squared)**로 평가하며, 1에 가까울수록 모델이 데이터를 잘 설명한다고 볼 수 있습니다."
   ]
  },
  {
   "cell_type": "code",
   "execution_count": null,
   "metadata": {},
   "outputs": [],
   "source": [
    "# 모델을 사용하여 예측 수행\n",
    "y_pred = model.predict(X)\n",
    "\n",
    "# 모델 성능 평가 (결정 계수 R^2)\n",
    "score = model.score(X, y)\n",
    "\n",
    "print(\"--- 모델 예측 및 평가 ---\")\n",
    "print(f\"예측된 y 샘플 (상위 5개):\\n\", y_pred[:5])\n",
    "print(f\"모델 결정 계수 (R^2): {score:.4f}\")"
   ]
  },
  {
   "cell_type": "markdown",
   "metadata": {},
   "source": [
    "### 6. 회귀선 시각화\n",
    "\n",
    "원본 데이터 산점도 위에 학습된 회귀선을 그려, 모델이 데이터를 얼마나 잘 표현하는지 시각적으로 확인합니다."
   ]
  },
  {
   "cell_type": "code",
   "execution_count": null,
   "metadata": {},
   "outputs": [],
   "source": [
    "plt.figure(figsize=(8, 6))\n",
    "plt.scatter(X, y, color='blue', label='원본 데이터')\n",
    "plt.plot(X, y_pred, color='red', linewidth=2, label='회귀선')\n",
    "plt.xlabel('X (독립 변수)')\n",
    "plt.ylabel('y (종속 변수)')\n",
    "plt.title('선형 회귀 결과')\n",
    "plt.grid(True)\n",
    "plt.legend()\n",
    "plt.show()"
   ]
  }
 ],
 "metadata": {
  "kernelspec": {
   "display_name": "Python 3",
   "language": "python",
   "name": "python3"
  },
  "language_info": {
   "codemirror_mode": {
    "name": "ipython",
    "version": 3
   },
   "file_extension": ".py",
   "mimetype": "text/x-python",
   "name": "python",
   "nbconvert_exporter": "python",
   "pygments_lexer": "ipython3",
   "version": "3.9.7"
  }
 },
 "nbformat": 4,
 "nbformat_minor": 4
}