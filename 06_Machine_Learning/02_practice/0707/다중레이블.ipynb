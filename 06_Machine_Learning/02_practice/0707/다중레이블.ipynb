{
 "cells": [
  {
   "cell_type": "markdown",
   "metadata": {},
   "source": [
    "# 다중 레이블 분류 (Multi-label Classification)\n",
    "\n",
    "이 노트북은 하나의 샘플이 여러 개의 레이블(클래스)을 동시에 가질 수 있는 **다중 레이블 분류** 문제를 다룹니다.\n",
    "\n",
    "예를 들어, 영화 장르를 예측하는 문제에서 하나의 영화는 '코미디', '액션', '로맨스' 등 여러 장르에 속할 수 있습니다.\n",
    "\n",
    "**학습 과정:**\n",
    "1.  `scikit-learn`을 사용하여 다중 레이블 분류를 위한 가상 데이터셋 생성\n",
    "2.  데이터를 훈련 세트와 테스트 세트로 분할\n",
    "3.  `MultiOutputClassifier`와 `SVC`(서포트 벡터 머신)를 사용하여 모델 구성 및 훈련\n",
    "4.  모델 성능 평가 (Hamming Loss, Jaccard Score, F1-Score 등)"
   ]
  },
  {
   "cell_type": "markdown",
   "metadata": {},
   "source": [
    "### 1. 라이브러리 임포트"
   ]
  },
  {
   "cell_type": "code",
   "execution_count": null,
   "metadata": {},
   "outputs": [],
   "source": [
    "import numpy as np\n",
    "from sklearn.svm import SVC\n",
    "from sklearn.multioutput import MultiOutputClassifier\n",
    "from sklearn.datasets import make_multilabel_classification\n",
    "from sklearn.model_selection import train_test_split\n",
    "from sklearn.metrics import hamming_loss, jaccard_score, f1_score"
   ]
  },
  {
   "cell_type": "markdown",
   "metadata": {},
   "source": [
    "### 2. 다중 레이블 데이터 생성\n",
    "`make_multilabel_classification` 함수를 사용하여 가상의 데이터셋을 생성합니다.\n",
    "\n",
    "- `n_samples`: 생성할 샘플의 수\n",
    "- `n_features`: 각 샘플의 특성(feature) 수\n",
    "- `n_classes`: 전체 가능한 레이블의 종류\n",
    "- `n_labels`: 각 샘플이 평균적으로 가질 레이블의 수"
   ]
  },
  {
   "cell_type": "code",
   "execution_count": null,
   "metadata": {},
   "outputs": [],
   "source": [
    "X, y = make_multilabel_classification(n_samples=100, n_features=20, n_classes=5,\n",
    "                                      n_labels=2, random_state=42)\n",
    "\n",
    "print(\"특성(X) 데이터 형태:\", X.shape)\n",
    "print(\"레이블(y) 데이터 형태:\", y.shape)\n",
    "print(\"\n첫 5개 샘플의 레이블 (이진 행렬):\")\n",
    "print(y[:5])"
   ]
  },
  {
   "cell_type": "markdown",
   "metadata": {},
   "source": [
    "### 3. 훈련 및 테스트 세트 분리\n",
    "생성된 데이터를 모델 학습을 위한 훈련 세트와 성능 평가를 위한 테스트 세트로 분리합니다."
   ]
  },
  {
   "cell_type": "code",
   "execution_count": null,
   "metadata": {},
   "outputs": [],
   "source": [
    "X_train, X_test, y_train, y_test = train_test_split(X, y, test_size=0.3, random_state=42)\n",
    "\n",
    "print(f\"훈련 데이터: {X_train.shape}, {y_train.shape}\")\n",
    "print(f\"테스트 데이터: {X_test.shape}, {y_test.shape}\")"
   ]
  },
  {
   "cell_type": "markdown",
   "metadata": {},
   "source": [
    "### 4. 모델 구성 및 훈련\n",
    "\n",
    "다중 레이블 분류를 위해 `MultiOutputClassifier`를 사용합니다. 이 분류기는 각 레이블(클래스)에 대해 독립적인 분류기를 하나씩 훈련시키는 래퍼(wrapper)입니다.\n",
    "\n",
    "- **기본 분류기(Base Estimator)**: 여기서는 `SVC`(서포트 벡터 분류기)를 사용합니다.\n",
    "- **`MultiOutputClassifier`**: `SVC`를 각 레이블에 대해 개별적으로 학습하고 예측을 수행합니다."
   ]
  },
  {
   "cell_type": "code",
   "execution_count": null,
   "metadata": {},
   "outputs": [],
   "source": [
    "# 각 레이블을 예측할 기본 모델로 SVC를 설정합니다.\n",
    "base_svm = SVC(kernel='linear', probability=True, random_state=42)\n",
    "\n",
    "# MultiOutputClassifier로 SVC를 감싸 다중 레이블 문제에 적용합니다.\n",
    "# n_jobs=-1은 가능한 모든 CPU 코어를 사용하여 병렬로 훈련을 진행하라는 의미입니다.\n",
    "multi_label_svm = MultiOutputClassifier(base_svm, n_jobs=-1)\n",
    "\n",
    "print(\"모델 훈련 시작...\")\n",
    "multi_label_svm.fit(X_train, y_train)\n",
    "print(\"모델 훈련 완료.\")"
   ]
  },
  {
   "cell_type": "markdown",
   "metadata": {},
   "source": [
    "### 5. 예측\n",
    "훈련된 모델을 사용하여 테스트 데이터의 레이블을 예측합니다."
   ]
  },
  {
   "cell_type": "code",
   "execution_count": null,
   "metadata": {},
   "outputs": [],
   "source": [
    "y_pred = multi_label_svm.predict(X_test)\n",
    "\n",
    "print(\"실제 레이블 (첫 5개):\")\n",
    "print(y_test[:5])\n",
    "print(\"\n예측된 레이블 (첫 5개):\")\n",
    "print(y_pred[:5])"
   ]
  },
  {
   "cell_type": "markdown",
   "metadata": {},
   "source": [
    "### 6. 모델 평가\n",
    "다중 레이블 분류는 단일 레이블 분류와 다른 평가 지표를 사용합니다."
   ]
  },
  {
   "cell_type": "markdown",
   "metadata": {},
   "source": [
    "#### 6.1. 햄밍 손실 (Hamming Loss)\n",
    "전체 레이블 중에서 잘못 예측된 레이블의 비율을 나타냅니다. **0에 가까울수록** 모델 성능이 좋다는 것을 의미합니다.\n",
    "\n",
    "(예: 샘플 1의 실제 레이블이 `[1, 0, 1]`이고 예측이 `[1, 1, 1]`이라면, 3개 레이블 중 1개가 잘못 예측되었으므로 이 샘플의 Hamming Loss는 1/3 입니다.)"
   ]
  },
  {
   "cell_type": "code",
   "execution_count": null,
   "metadata": {},
   "outputs": [],
   "source": [
    "h_loss = hamming_loss(y_test, y_pred)\n",
    "print(f\"Hamming Loss: {h_loss:.4f}\")"
   ]
  },
  {
   "cell_type": "markdown",
   "metadata": {},
   "source": [
    "#### 6.2. 자카드 점수 (Jaccard Score / Exact Match Ratio)\n",
    "한 샘플에 대한 모든 레이블을 **완벽하게** 예측한 경우에만 정답으로 인정하는 엄격한 지표입니다. `average='samples'` 옵션은 각 샘플별 자카드 점수의 평균을 계산합니다.\n",
    "\n",
    "**1에 가까울수록** 성능이 좋습니다."
   ]
  },
  {
   "cell_type": "code",
   "execution_count": null,
   "metadata": {},
   "outputs": [],
   "source": [
    "# average='samples'는 각 샘플에 대해 정확히 일치하는 레이블의 비율을 계산한 후 평균을 냅니다.\n",
    "jaccard_similarity = jaccard_score(y_test, y_pred, average='samples')\n",
    "print(f\"Jaccard Score (samples average): {jaccard_similarity:.4f}\")"
   ]
  },
  {
   "cell_type": "markdown",
   "metadata": {},
   "source": [
    "#### 6.3. F1-점수 (F1-Score)\n",
    "정밀도(Precision)와 재현율(Recall)의 조화 평균으로, 다중 레이블 분류에서 가장 널리 사용되는 지표 중 하나입니다.\n",
    "\n",
    "- `average='micro'`: 모든 레이블의 예측 결과를 (TP, FP, FN) 하나로 합쳐서 계산합니다. 레이블 간의 불균형이 심할 때 유용합니다.\n",
    "- `average='macro'`: 각 레이블별 F1-점수를 각각 계산한 후, 그 점수들의 산술 평균을 냅니다. 모든 레이블을 동등하게 중요하다고 간주합니다.\n",
    "\n",
    "**1에 가까울수록** 성능이 좋습니다."
   ]
  },
  {
   "cell_type": "code",
   "execution_count": null,
   "metadata": {},
   "outputs": [],
   "source": [
    "# micro: 전체 TP, FP, FN을 합산하여 계산 (레이블 불균형에 덜 민감)\n",
    "f1_micro = f1_score(y_test, y_pred, average='micro')\n",
    "print(f\"Micro F1-score: {f1_micro:.4f}\")\n",
    "\n",
    "# macro: 각 레이블에 대한 F1-score를 계산한 후 평균 (레이블 불균형에 민감)\n",
    "f1_macro = f1_score(y_test, y_pred, average='macro')\n",
    "print(f\"Macro F1-score: {f1_macro:.4f}\")"
   ]
  }
 ],
 "metadata": {
  "kernelspec": {
   "display_name": "Python 3",
   "language": "python",
   "name": "python3"
  },
  "language_info": {
   "codemirror_mode": {
    "name": "ipython",
    "version": 3
   },
   "file_extension": ".py",
   "mimetype": "text/x-python",
   "name": "python",
   "nbconvert_exporter": "python",
   "pygments_lexer": "ipython3",
   "version": "3.9.7"
  }
 },
 "nbformat": 4,
 "nbformat_minor": 4
}