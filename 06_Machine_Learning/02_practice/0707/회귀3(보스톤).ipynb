{
 "cells": [
  {
   "cell_type": "markdown",
   "metadata": {},
   "source": [
    "# 보스턴 주택 가격 데이터셋 로드 및 초기 데이터 준비\n",
    "\n",
    "이 노트북은 **보스턴 주택 가격 데이터셋**을 외부 URL에서 직접 로드하고, 머신러닝 모델 학습에 필요한 특성(X)과 타겟(y) 데이터로 재구성하는 과정을 다룹니다.\n",
    "\n",
    "---\n",
    "**주의**: 보스턴 주택 가격 데이터셋에는 인종(B)과 관련된 특성이 포함되어 있어 윤리적인 문제가 제기되었습니다. `scikit-learn`에서는 이 데이터셋을 더 이상 직접 제공하지 않으며, 본 노트북에서는 학습 목적으로 외부 URL에서 데이터를 로드하여 사용합니다."
   ]
  },
  {
   "cell_type": "markdown",
   "metadata": {},
   "source": [
    "### 1. 라이브러리 임포트"
   ]
  },
  {
   "cell_type": "code",
   "execution_count": null,
   "metadata": {},
   "outputs": [],
   "source": [
    "import pandas as pd   \n",
    "import numpy as np     \n"
   ]
  },
  {
   "cell_type": "markdown",
   "metadata": {},
   "source": [
    "### 2. 데이터 로드\n",
    "\n",
    "보스턴 주택 가격 데이터는 특정 형식으로 웹에 공개되어 있습니다. `pandas.read_csv`를 사용하여 이 데이터를 불러옵니다.\n",
    "\n",
    "- `sep=\"\\s+\"`: 하나 이상의 공백을 구분자로 사용합니다.\n",
    "- `skiprows=22`: 데이터의 실제 시작 전 22줄을 건너뜁니다.\n",
    "- `header=None`: 파일에 헤더(컬럼명)가 없음을 명시합니다."
   ]
  },
  {
   "cell_type": "code",
   "execution_count": null,
   "metadata": {},
   "outputs": [],
   "source": [
    "url=\"http://lib.stat.cmu.edu/datasets/boston\"\n",
    "\n",
    "try:\n",
    "    df_raw = pd.read_csv(url, sep=\"\\s+\", skiprows=22, header=None)\n",
    "    print(\"데이터 로드 성공!\")\n",
    "    print(\"\\n로드된 원본 데이터프레임 상위 10행:\")\n",
    "    print(df_raw.head(10))\n",
    "except Exception as e:\n",
    "    print(f\"데이터 로드 중 오류 발생: {e}\")\n",
    "    df_raw = None"
   ]
  },
  {
   "cell_type": "markdown",
   "metadata": {},
   "source": [
    "### 3. 데이터 재구성 (특성 X와 타겟 y 분리)\n",
    "\n",
    "로드된 데이터는 특성(X)과 타겟(y)이 번갈아 가며 저장되어 있는 특이한 구조를 가집니다. `numpy.hstack`을 사용하여 이들을 올바르게 분리하고 재구성합니다.\n",
    "\n",
    "- `df_raw.values[::2, :]`: 짝수 인덱스 행(0, 2, 4, ...)의 모든 열을 가져옵니다. 이것이 특성 데이터의 첫 번째 부분입니다.\n",
    "- `df_raw.values[1::2, :2]`: 홀수 인덱스 행(1, 3, 5, ...)의 처음 두 열을 가져옵니다. 이것이 특성 데이터의 두 번째 부분입니다.\n",
    "- `np.hstack()`: 이 두 부분을 수평으로 이어붙여 최종 특성 행렬 `X`를 만듭니다.\n",
    "- `df_raw.values[1::2, 2]`: 홀수 인덱스 행의 세 번째 열이 타겟 변수 `y`입니다."
   ]
  },
  {
   "cell_type": "code",
   "execution_count": null,
   "metadata": {},
   "outputs": [],
   "source": [
    "if df_raw is not None:\n",
    "    X = np.hstack( [df_raw.values[::2, : ],  df_raw.values[1::2, :2]] )\n",
    "    y = df_raw.values[1::2, 2]\n",
    "\n",
    "    print(f\"\\n재구성된 특성 데이터 (X) 형태: {X.shape}\")\n",
    "    print(f\"재구성된 타겟 데이터 (y) 형태: {y.shape}\")\n",
    "    print(\"\\n재구성된 특성 데이터 (X) 샘플 (상위 5개):\\n\", X[:5])\n",
    "    print(\"\\n재구성된 타겟 데이터 (y) 샘플 (상위 5개):\\n\", y[:5])"
   ]
  },
  {
   "cell_type": "markdown",
   "metadata": {},
   "source": [
    "### 결론\n",
    "\n",
    "이제 보스턴 주택 가격 데이터셋이 머신러닝 모델 학습에 적합한 특성(X)과 타겟(y) 형태로 준비되었습니다. 이 데이터를 사용하여 선형 회귀 분석을 포함한 다양한 회귀 모델을 학습하고 평가할 수 있습니다."
   ]
  }
 ],
 "metadata": {
  "kernelspec": {
   "display_name": "Python 3",
   "language": "python",
   "name": "python3"
  },
  "language_info": {
   "codemirror_mode": {
    "name": "ipython",
    "version": 3
   },
   "file_extension": ".py",
   "mimetype": "text/x-python",
   "name": "python",
   "nbconvert_exporter": "python",
   "pygments_lexer": "ipython3",
   "version": "3.9.7"
  }
 },
 "nbformat": 4,
 "nbformat_minor": 4
}