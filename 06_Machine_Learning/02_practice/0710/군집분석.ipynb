{
 "cells": [
  {
   "cell_type": "markdown",
   "metadata": {},
   "source": [
    "# 군집 분석 (Clustering)\n",
    "\n",
    "- **군집 분석**은 정답(label)이 없는 데이터에 대해 비슷한 특성을 가진 데이터끼리 그룹화하는 비지도 학습 방법입니다.\n",
    "- 이 예제에서는 `sklearn.cluster.KMeans` 알고리즘을 사용하여 가상으로 생성된 데이터 포인트를 3개의 군집으로 분류합니다.\n",
    "- `np.random.normal()` 함수를 사용하여 정규분포(가우시안 분포)를 따르는 데이터를 생성합니다."
   ]
  },
  {
   "cell_type": "code",
   "execution_count": null,
   "metadata": {},
   "outputs": [],
   "source": [
    "import numpy as np\n",
    "import matplotlib.pyplot as plt\n",
    "from sklearn.cluster import KMeans"
   ]
  },
  {
   "cell_type": "markdown",
   "metadata": {},
   "source": [
    "## 1. 데이터 생성\n",
    "\n",
    "- `np.random.normal()`을 사용하여 세 개의 다른 정규분포를 따르는 2차원 데이터 그룹(x1, x2, x3)을 생성합니다.\n",
    "- 각 그룹은 50개의 데이터 포인트를 가집니다.\n",
    "- `np.vstack()`을 사용하여 생성된 세 그룹의 데이터를 하나의 배열로 결합합니다."
   ]
  },
  {
   "cell_type": "code",
   "execution_count": null,
   "metadata": {},
   "outputs": [],
   "source": [
    "np.random.seed(42)\n",
    "x1 = np.random.normal(0,  1,(50,2))  # 평균 0, 표준편차 1\n",
    "x2 = np.random.normal(5,  1,(50,2))  # 평균 5, 표준편차 1\n",
    "x3 = np.random.normal(2.5,1,(50,2))  # 평균 2.5, 표준편차 1\n",
    "\n",
    "# vstack을 사용하여 세로로 데이터 결합\n",
    "X = np.vstack((x1, x2, x3))\n",
    "\n",
    "# 데이터 형태와 일부 데이터 확인\n",
    "print(\"Data Shape:\", X.shape)\n",
    "print(\"Data Sample (first 10 rows):\")\n",
    "print(X[:10])"
   ]
  },
  {
   "cell_type": "markdown",
   "metadata": {},
   "source": [
    "## 2. K-Means 모델 학습\n",
    "\n",
    "- `KMeans` 모델을 생성합니다.\n",
    "- `n_clusters=3`으로 설정하여 데이터를 3개의 군집으로 나눌 것을 지정합니다.\n",
    "- `fit()` 메서드를 사용하여 모델을 학습시킵니다."
   ]
  },
  {
   "cell_type": "code",
   "execution_count": null,
   "metadata": {},
   "outputs": [],
   "source": [
    "# n_clusters=3: 군집의 개수를 3개로 지정\n",
    "kmeans = KMeans(n_clusters=3, random_state=42, n_init=10)\n",
    "kmeans.fit(X)\n",
    "\n",
    "# 학습된 모델로 각 데이터 포인트가 어떤 군집에 속하는지 예측\n",
    "y_kmeans = kmeans.predict(X)\n",
    "print(\"Predicted clusters (first 20):\")\n",
    "print(y_kmeans[:20])"
   ]
  },
  {
   "cell_type": "markdown",
   "metadata": {},
   "source": [
    "## 3. 결과 확인\n",
    "\n",
    "- `cluster_centers_` 속성을 사용하여 각 군집의 중심점을 확인합니다."
   ]
  },
  {
   "cell_type": "code",
   "execution_count": null,
   "metadata": {},
   "outputs": [],
   "source": [
    "# 각 군집의 중심점 좌표 확인\n",
    "centers = kmeans.cluster_centers_\n",
    "print(\"Cluster Centers:\")\n",
    "print(centers)"
   ]
  },
  {
   "cell_type": "markdown",
   "metadata": {},
   "source": [
    "## 4. 시각화\n",
    "\n",
    "- `matplotlib.pyplot.scatter`를 사용하여 군집 결과를 시각화합니다.\n",
    "- 각 데이터 포인트를 예측된 군집(`y_kmeans`)에 따라 다른 색상으로 표시합니다.\n",
    "- 군집의 중심점은 빨간색 'X' 마커로 표시합니다."
   ]
  },
  {
   "cell_type": "code",
   "execution_count": null,
   "metadata": {},
   "outputs": [],
   "source": [
    "plt.figure(figsize=(10, 7))\n",
    "\n",
    "# 데이터 포인트를 군집별로 색상을 다르게하여 시각화\n",
    "plt.scatter(X[:, 0], X[:, 1], c=y_kmeans, cmap='viridis', s=50, alpha=0.7)\n",
    "\n",
    "# 군집의 중심점을 시각화\n",
    "plt.scatter(centers[:, 0], centers[:, 1], c='red', s=200, marker='X', label='Centroids')\n",
    "\n",
    "plt.title('K-Means Clustering')\n",
    "plt.xlabel('Feature 1')\n",
    "plt.ylabel('Feature 2')\n",
    "plt.legend()\n",
    "plt.grid(True)\n",
    "plt.show()"
   ]
  }
 ],
 "metadata": {
  "kernelspec": {
   "display_name": "Python 3",
   "language": "python",
   "name": "python3"
  },
  "language_info": {
   "codemirror_mode": {
    "name": "ipython",
    "version": 3
   },
   "file_extension": ".py",
   "mimetype": "text/x-python",
   "name": "python",
   "nbconvert_exporter": "python",
   "pygments_lexer": "ipython3",
   "version": "3.10.0"
  }
 },
 "nbformat": 4,
 "nbformat_minor": 4
}