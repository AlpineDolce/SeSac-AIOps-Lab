{
 "cells": [
  {
   "cell_type": "markdown",
   "metadata": {},
   "source": [
    "# 고차원 데이터 시각화: 유방암 데이터셋 탐색\n",
    "\n",
    "이 노트북은 특성의 개수가 많은 **고차원 데이터(High-Dimensional Data)**를 효과적으로 시각화하고 탐색하는 방법을 다룹니다. 특히 `scikit-learn`의 유방암 데이터셋(30개 특성)을 사용하여, 각 특성의 분포와 특성 간의 상관관계를 시각적으로 분석하는 과정을 보여줍니다.\n",
    "\n",
    "**학습 목표:**\n",
    "1.  `seaborn`과 `matplotlib`을 사용하여 고차원 데이터의 특성 분포를 클래스별로 시각화합니다.\n",
    "2.  특성 간의 상관관계를 히트맵으로 시각화하여 데이터의 구조를 파악합니다.\n",
    "3.  `pairplot`과 같은 시각화 도구가 고차원 데이터에 적용될 때의 한계를 이해합니다."
   ]
  },
  {
   "cell_type": "markdown",
   "metadata": {},
   "source": [
    "### 1. 라이브러리 임포트 및 데이터 로드"
   ]
  },
  {
   "cell_type": "code",
   "execution_count": null,
   "metadata": {},
   "outputs": [],
   "source": [
    "import matplotlib.pyplot as plt\n",
    "from sklearn.datasets import load_iris, load_breast_cancer \n",
    "import seaborn as sns \n",
    "import pandas as pd \n",
    "import numpy as np\n",
    "\n",
    "# 한글 폰트 설정 (Windows 기준)\n",
    "plt.rcParams['font.family'] = 'Malgun Gothic'\n",
    "plt.rcParams['axes.unicode_minus'] = False\n",
    "\n",
    "# 유방암 데이터셋 로드\n",
    "cancer = load_breast_cancer()\n",
    "\n",
    "# 데이터를 Pandas DataFrame으로 변환하여 다루기 쉽게 합니다.\n",
    "df_cancer = pd.DataFrame(cancer.data, columns=cancer.feature_names)\n",
    "df_cancer['target'] = cancer.target\n",
    "\n",
    "print(\"데이터프레임 상위 5행:\")\n",
    "print(df_cancer.head())"
   ]
  },
  {
   "cell_type": "markdown",
   "metadata": {},
   "source": [
    "### 2. 특성 관계 시각화 (Pairplot) - 고차원 데이터의 한계\n",
    "\n",
    "`seaborn.pairplot`은 데이터프레임 내의 모든 숫자형 특성 쌍에 대한 산점도와 각 특성의 분포(히스토그램 또는 KDE)를 한 번에 보여주는 강력한 도구입니다. `hue` 옵션을 사용하면 타겟 클래스별로 색상을 구분하여 시각화할 수 있습니다.\n",
    "\n",
    "**하지만, 특성의 개수가 많아질수록 `pairplot`은 비효율적이 됩니다.** 유방암 데이터셋은 30개의 특성을 가지고 있으므로, `pairplot`을 그리면 `30 * 30 = 900`개의 차트가 생성되어 시각적으로 복잡하고 실행 시간이 매우 오래 걸립니다. 따라서 이 데이터셋에는 적합하지 않습니다.\n",
    "\n",
    "```python\n",
    "# 유방암 데이터셋에 pairplot을 적용하면 매우 많은 차트가 생성되어 실행 시간이 오래 걸립니다.\n",
    "# sns.pairplot(df_cancer, hue=\"target\") \n",
    "# plt.show()\n",
    "```\n",
    "\n",
    "**참고**: 특성이 4개인 `iris` 데이터셋과 같이 특성 수가 적은 경우에는 `pairplot`이 매우 유용합니다."
   ]
  },
  {
   "cell_type": "markdown",
   "metadata": {},
   "source": [
    "### 3. 클래스별 특성 분포 시각화 (Histograms)\n",
    "\n",
    "각 특성의 분포를 악성(target=0)과 양성(target=1) 클래스별로 비교하는 히스토그램을 그려보면, 어떤 특성이 두 클래스를 잘 구분하는지 파악하는 데 도움이 됩니다."
   ]
  },
  {
   "cell_type": "code",
   "execution_count": null,
   "metadata": {},
   "outputs": [],
   "source": [
    "# 데이터를 악성(0)과 양성(1)으로 분리\n",
    "malignant_data = cancer.data[cancer.target == 0]\n",
    "benign_data = cancer.data[cancer.target == 1]\n",
    "\n",
    "print(f\"악성 데이터 형태: {malignant_data.shape}\")\n",
    "print(f\"양성 데이터 형태: {benign_data.shape}\")\n",
    "\n",
    "# 30개의 특성에 대한 히스토그램을 그리기 위해 15행 2열의 서브플롯을 생성\n",
    "fig, axes = plt.subplots(15, 2, figsize=(10, 20))\n",
    "ax = axes.ravel() # 2차원 axes 배열을 1차원으로 평탄화\n",
    "\n",
    "for i in range(cancer.data.shape[1]): # 특성의 개수만큼 반복 (30개)\n",
    "    # 각 특성(컬럼)의 값 범위를 기준으로 50개의 구간(bins)을 생성\n",
    "    _, bins = np.histogram(cancer.data[:, i], bins=50)\n",
    "    \n",
    "    # 악성 데이터의 히스토그램 (보라색)\n",
    "    ax[i].hist(malignant_data[:, i], bins=bins, color='purple', alpha=0.5, label='악성')\n",
    "    # 양성 데이터의 히스토그램 (초록색)\n",
    "    ax[i].hist(benign_data[:, i], bins=bins, color='green', alpha=0.5, label='양성')\n",
    "    \n",
    "    # 각 서브플롯의 제목을 특성 이름으로 설정\n",
    "    ax[i].set_title(cancer.feature_names[i])\n",
    "    ax[i].set_yticks(()) # y축 눈금 제거\n",
    "\n",
    "# 첫 번째 서브플롯에만 범례와 축 레이블 추가\n",
    "ax[0].set_xlabel('특성 값')\n",
    "ax[0].set_ylabel('빈도')\n",
    "ax[0].legend()\n",
    "\n",
    "fig.tight_layout() # 서브플롯 간의 간격을 자동으로 조절\n",
    "plt.show()"
   ]
  },
  {
   "cell_type": "markdown",
   "metadata": {},
   "source": [
    "### 4. 특성 간 상관관계 시각화 (Heatmap)\n",
    "\n",
    "히트맵은 특성들 간의 상관계수를 색상으로 표현하여, 어떤 특성들이 서로 강한 관계를 가지는지 한눈에 파악할 수 있게 해줍니다.\n",
    "\n",
    "- **상관계수**: 두 특성 간의 선형 관계 강도를 나타내는 지표. -1(강한 음의 상관관계)부터 1(강한 양의 상관관계)까지의 값을 가집니다. 0에 가까우면 관계가 거의 없습니다.\n",
    "- **`df.corr()`**: DataFrame의 모든 숫자형 컬럼 간의 상관계수 행렬을 계산합니다."
   ]
  },
  {
   "cell_type": "code",
   "execution_count": null,
   "metadata": {},
   "outputs": [],
   "source": [
    "# 상관관계 행렬 계산\n",
    "correlation_matrix = df_cancer.corr()\n",
    "\n",
    "print(\"상관관계 행렬 (일부):\")\n",
    "print(correlation_matrix.iloc[:5, :5]) # 상위 5x5만 출력하여 확인\n",
    "\n",
    "# 히트맵 시각화\n",
    "plt.figure(figsize=(12, 10))\n",
    "sns.heatmap(correlation_matrix,\n",
    "            annot=True,      # 셀에 상관계수 값 표시\n",
    "            cmap='coolwarm', # 색상 맵 (양의 상관관계는 붉은색, 음의 상관관계는 푸른색)\n",
    "            fmt='.2f',       # 표시될 숫자의 소수점 자리수 지정\n",
    "            linewidths=.5    # 셀 사이에 선 추가\n",
    "           )\n",
    "plt.xticks(rotation=45, ha='right') # x축 레이블 회전\n",
    "plt.yticks(rotation=0)\n",
    "plt.title('특성 간 상관관계 히트맵')\n",
    "plt.tight_layout() # 레이블 겹침 방지\n",
    "plt.show()"
   ]
  },
  {
   "cell_type": "markdown",
   "metadata": {},
   "source": [
    "### 결론\n",
    "\n",
    "고차원 데이터는 그 자체로 이해하기 어렵지만, 히스토그램과 히트맵과 같은 시각화 도구를 통해 데이터의 분포와 특성 간의 관계를 파악할 수 있습니다. 이러한 탐색적 데이터 분석(EDA)은 데이터의 복잡성을 줄이고(차원 축소), 모델 학습에 더 적합한 특성을 선택하는 데 중요한 통찰력을 제공합니다."
   ]
  }
 ],
 "metadata": {
  "kernelspec": {
   "display_name": "Python 3",
   "language": "python",
   "name": "python3"
  },
  "language_info": {
   "codemirror_mode": {
    "name": "ipython",
    "version": 3
   },
   "file_extension": ".py",
   "mimetype": "text/x-python",
   "name": "python",
   "nbconvert_exporter": "python",
   "pygments_lexer": "ipython3",
   "version": "3.9.7"
  }
 },
 "nbformat": 4,
 "nbformat_minor": 4
}