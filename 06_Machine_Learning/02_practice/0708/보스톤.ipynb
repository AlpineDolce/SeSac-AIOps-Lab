{
 "cells": [
  {
   "cell_type": "markdown",
   "metadata": {},
   "source": [
    "# Boston 주택 가격 데이터셋 로드 및 탐색\n",
    "\n",
    "이 노트북은 `scikit-learn`의 `fetch_openml` 함수를 사용하여 Boston 주택 가격 데이터셋을 로드하고, 데이터의 기본적인 구조와 내용을 탐색하는 과정을 보여줍니다.\n",
    "\n",
    "---\n",
    "**참고: `load_boston` 함수에 대하여**\n",
    "\n",
    "과거에는 `sklearn.datasets.load_boston` 함수를 사용하여 이 데이터셋을 불러왔습니다. 하지만 이 데이터셋에는 인종(B)과 관련된 특성이 포함되어 있어 윤리적인 문제가 제기되었고, `scikit-learn` 버전 1.2부터는 `load_boston` 함수가 **삭제(deprecated)** 되었습니다. \n",
    "\n",
    "따라서 현재는 `fetch_openml(name=\"boston\")`을 사용하여 데이터를 불러오는 것이 권장됩니다."
   ]
  },
  {
   "cell_type": "markdown",
   "metadata": {},
   "source": [
    "### 1. 라이브러리 임포트"
   ]
  },
  {
   "cell_type": "code",
   "execution_count": null,
   "metadata": {},
   "outputs": [],
   "source": [
    "from sklearn.datasets import fetch_openml\n",
    "import pandas as pd\n",
    "import numpy as np"
   ]
  },
  {
   "cell_type": "markdown",
   "metadata": {},
   "source": [
    "### 2. 데이터 로드\n",
    "\n",
    "`fetch_openml` 함수를 사용하여 OpenML 데이터베이스로부터 Boston 데이터셋을 가져옵니다.\n",
    "- `as_frame=True` 옵션을 사용하면 데이터를 `pandas`의 DataFrame 형식으로 편리하게 받아올 수 있습니다."
   ]
  },
  {
   "cell_type": "code",
   "execution_count": null,
   "metadata": {},
   "outputs": [],
   "source": [
    "try:\n",
    "    # as_frame=True로 설정하여 데이터를 DataFrame으로 바로 받습니다.\n",
    "    boston = fetch_openml(\"boston\", version=1, as_frame=True)\n",
    "    print(\"데이터 로드 성공!\")\n",
    "except Exception as e:\n",
    "    print(f\"데이터 로드 중 오류가 발생했습니다: {e}\")\n",
    "    boston = None"
   ]
  },
  {
   "cell_type": "markdown",
   "metadata": {},
   "source": [
    "### 3. 데이터 구조 확인\n",
    "\n",
    "로드된 데이터는 `scikit-learn`의 `Bunch` 객체 형식으로, 여러 정보를 담고 있습니다. `keys()` 메소드로 어떤 정보들이 있는지 확인할 수 있습니다."
   ]
  },
  {
   "cell_type": "code",
   "execution_count": null,
   "metadata": {},
   "outputs": [],
   "source": [
    "if boston:\n",
    "    print(\"데이터 객체 타입:\", type(boston))\n",
    "    print(\"\n데이터셋의 키:\", boston.keys())"
   ]
  },
  {
   "cell_type": "markdown",
   "metadata": {},
   "source": [
    "#### 데이터 설명서(DESCR) 확인\n",
    "\n",
    "`DESCR` 키에는 데이터셋의 출처, 각 특성의 의미 등 상세한 설명이 포함되어 있습니다."
   ]
  },
  {
   "cell_type": "code",
   "execution_count": null,
   "metadata": {},
   "outputs": [],
   "source": [
    "if boston:\n",
    "    # 설명이 매우 길기 때문에, 필요할 때 주석을 해제하여 확인하는 것을 권장합니다.\n",
    "    print(boston[\"DESCR\"])"
   ]
  },
  {
   "cell_type": "markdown",
   "metadata": {},
   "source": [
    "### 4. 특성(X)과 타겟(y) 데이터 분리\n",
    "\n",
    "머신러닝 모델 학습을 위해 입력 데이터인 특성(X)과 예측 대상인 타겟(y)을 분리합니다."
   ]
  },
  {
   "cell_type": "code",
   "execution_count": null,
   "metadata": {},
   "outputs": [],
   "source": [
    "if boston:\n",
    "    # as_frame=True로 로드했기 때문에 .data와 .target 속성으로 쉽게 접근 가능합니다.\n",
    "    X = boston.data\n",
    "    y = boston.target # 원본 코드의 오타(targeet)를 수정했습니다.\n",
    "\n",
    "    print(\"--- 특성 데이터 (X) ---\")\n",
    "    print(\"형태:\", X.shape)\n",
    "    print(X.head())\n",
    "    \n",
    "    print(\"\n--- 타겟 데이터 (y) ---\")\n",
    "    print(\"형태:\", y.shape)\n",
    "    print(y.head())"
   ]
  }
 ],
 "metadata": {
  "kernelspec": {
   "display_name": "Python 3",
   "language": "python",
   "name": "python3"
  },
  "language_info": {
   "codemirror_mode": {
    "name": "ipython",
    "version": 3
   },
   "file_extension": ".py",
   "mimetype": "text/x-python",
   "name": "python",
   "nbconvert_exporter": "python",
   "pygments_lexer": "ipython3",
   "version": "3.9.7"
  }
 },
 "nbformat": 4,
 "nbformat_minor": 4
}