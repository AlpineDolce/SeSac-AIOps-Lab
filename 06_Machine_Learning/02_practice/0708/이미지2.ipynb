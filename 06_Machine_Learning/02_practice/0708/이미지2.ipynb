{
 "cells": [
  {
   "cell_type": "markdown",
   "metadata": {},
   "source": [
    "# 여러 이미지 파일을 하나의 데이터셋으로 만들기\n",
    "\n",
    "이 노트북은 특정 폴더에 있는 여러 이미지 파일을 한 번에 불러와 머신러닝 모델에 사용하기 적합한 형태로 가공하고, 이를 하나의 파일로 저장하는 과정을 다룹니다. \n",
    "\n",
    "**주요 과정:**\n",
    "1.  특정 폴더의 모든 이미지 파일 경로를 가져옵니다.\n",
    "2.  각 이미지의 크기를 동일하게 맞춥니다 (**리사이즈, Resize**).\n",
    "3.  이미지를 `Numpy` 배열로 변환합니다.\n",
    "4.  처리된 모든 이미지 배열을 하나의 압축 파일( `.npz` )로 저장합니다.\n",
    "5.  저장된 파일을 다시 불러와 이미지가 잘 저장되었는지 시각적으로 확인합니다."
   ]
  },
  {
   "cell_type": "markdown",
   "metadata": {},
   "source": [
    "### 1. 라이브러리 임포트"
   ]
  },
  {
   "cell_type": "code",
   "execution_count": null,
   "metadata": {},
   "outputs": [],
   "source": [
    "import PIL.Image as pilimg\n",
    "import os\n",
    "import matplotlib.pyplot as plt\n",
    "import numpy as np"
   ]
  },
  {
   "cell_type": "markdown",
   "metadata": {},
   "source": [
    "### 2. 이미지 파일 목록 가져오기\n",
    "\n",
    "`os.listdir()` 함수를 사용하여 지정된 폴더 내의 모든 파일 및 디렉토리 이름을 리스트로 가져옵니다."
   ]
  },
  {
   "cell_type": "code",
   "execution_count": null,
   "metadata": {},
   "outputs": [],
   "source": [
    "path = \"./images/animal\"\n",
    "\n",
    "try:\n",
    "    filename_list = os.listdir(path)\n",
    "    print(f\"{path} 폴더의 파일 목록:\")\n",
    "    print(filename_list)\n",
    "except FileNotFoundError:\n",
    "    print(f\"오류: {path} 폴더를 찾을 수 없습니다.\")\n",
    "    print(\"노트북 파일과 같은 위치에 'images/animal' 폴더를 만들고 이미지 파일들을 넣어주세요.\")\n",
    "    filename_list = []"
   ]
  },
  {
   "cell_type": "markdown",
   "metadata": {},
   "source": [
    "### 3. 이미지 불러오기, 리사이즈 및 Numpy 배열 변환\n",
    "\n",
    "가져온 파일 목록을 순회하면서 각 이미지를 처리합니다.\n",
    "\n",
    "**리사이즈(Resize)의 중요성**: 머신러닝, 특히 딥러닝 모델은 일반적으로 고정된 크기의 입력을 받습니다. 따라서 원본 이미지들의 크기가 제각각이더라도, 모델에 입력하기 전에 모두 동일한 크기(예: 80x80)로 통일시켜 주어야 합니다."
   ]
  },
  {
   "cell_type": "code",
   "execution_count": null,
   "metadata": {},
   "outputs": [],
   "source": [
    "image_list = []\n",
    "if filename_list:\n",
    "    for filename in filename_list:\n",
    "        filepath = os.path.join(path, filename) # os.path.join으로 안전하게 경로 결합\n",
    "        try:\n",
    "            # 이미지 열기\n",
    "            temp_img = pilimg.open(filepath)\n",
    "            \n",
    "            # 이미지 크기를 80x80으로 통일\n",
    "            resized_img = temp_img.resize((80, 80))\n",
    "            \n",
    "            # Numpy 배열로 변환하여 리스트에 추가\n",
    "            img_array = np.array(resized_img)\n",
    "            image_list.append(img_array)\n",
    "            \n",
    "            print(f\"{filename} 처리 완료, 배열 형태: {img_array.shape}\")\n",
    "        except Exception as e:\n",
    "            print(f\"{filename} 처리 중 오류 발생: {e}\")\n",
    "            \n",
    "    # 최종적으로 리스트에 저장된 이미지 배열의 개수 확인\n",
    "    print(f\"\\n총 {len(image_list)}개의 이미지가 처리되었습니다.\")"
   ]
  },
  {
   "cell_type": "markdown",
   "metadata": {},
   "source": [
    "### 4. 데이터셋을 NPZ 파일로 저장\n",
    "\n",
    "`np.savez()` 함수를 사용하면 여러 개의 Numpy 배열을 하나의 압축된 파일(`.npz`)로 효율적으로 저장할 수 있습니다. 나중에 이 파일 하나만 불러오면 모든 이미지 데이터를 한 번에 사용할 수 있어 편리합니다."
   ]
  },
  {
   "cell_type": "code",
   "execution_count": null,
   "metadata": {},
   "outputs": [],
   "source": [
    "if image_list:\n",
    "    # 'data'라는 키로 image_list를 저장합니다.\n",
    "    np.savez(\"animal_dataset.npz\", data=image_list)\n",
    "    print(\"\"animal_dataset.npz\" 파일로 성공적으로 저장했습니다.\")"
   ]
  },
  {
   "cell_type": "markdown",
   "metadata": {},
   "source": [
    "### 5. 저장된 데이터셋 로드 및 시각화 확인\n",
    "\n",
    "저장된 `.npz` 파일을 `np.load()`로 다시 불러온 후, `matplotlib`을 사용하여 이미지가 올바르게 저장되었는지 직접 눈으로 확인합니다."
   ]
  },
  {
   "cell_type": "code",
   "execution_count": null,
   "metadata": {},
   "outputs": [],
   "source": [
    "try:\n",
    "    # npz 파일 로드\n",
    "    loaded_data = np.load(\"animal_dataset.npz\")\n",
    "    \n",
    "    # 저장할 때 사용한 키('data')로 데이터에 접근\n",
    "    image_dataset = loaded_data[\"data\"]\n",
    "    \n",
    "    print(\"로드된 데이터셋 형태:\", image_dataset.shape)\n",
    "    \n",
    "    # Matplotlib를 사용하여 이미지 출력\n",
    "    plt.figure(figsize=(20, 5)) # 전체 그림의 크기 설정\n",
    "    num_images = len(image_dataset)\n",
    "    for i in range(num_images):\n",
    "        plt.subplot(1, num_images, i + 1) # 1행, num_images열의 그리드에서 i+1번째 위치\n",
    "        plt.imshow(image_dataset[i])\n",
    "        plt.axis('off') # 축 정보 끄기\n",
    "    plt.show()\n",
    "except FileNotFoundError:\n",
    "    print(\"animal_dataset.npz 파일을 찾을 수 없습니다. 이전 단계가 정상적으로 실행되었는지 확인하세요.\")"
   ]
  }
 ],
 "metadata": {
  "kernelspec": {
   "display_name": "Python 3",
   "language": "python",
   "name": "python3"
  },
  "language_info": {
   "codemirror_mode": {
    "name": "ipython",
    "version": 3
   },
   "file_extension": ".py",
   "mimetype": "text/x-python",
   "name": "python",
   "nbconvert_exporter": "python",
   "pygments_lexer": "ipython3",
   "version": "3.9.7"
  }
 },
 "nbformat": 4,
 "nbformat_minor": 4
}