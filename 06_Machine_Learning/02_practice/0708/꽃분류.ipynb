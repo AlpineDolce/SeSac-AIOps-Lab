{
 "cells": [
  {
   "cell_type": "markdown",
   "metadata": {},
   "source": [
    "# 꽃 이미지 분류\n",
    "\n",
    "- 5종류의 꽃(daisy, dandelion, sunflower, rose, tulip) 이미지를 분류하는 머신러닝 모델을 만듭니다.\n",
    "- K-최근접 이웃(K-Nearest Neighbors) 알고리즘을 사용합니다."
   ]
  },
  {
   "cell_type": "code",
   "execution_count": null,
   "metadata": {},
   "outputs": [],
   "source": [
    "import numpy as np\n",
    "import os\n",
    "import PIL.Image as pilimg\n",
    "import imghdr\n",
    "import pandas as pd\n",
    "from sklearn.model_selection import train_test_split\n",
    "from sklearn.neighbors import KNeighborsClassifier"
   ]
  },
  {
   "cell_type": "markdown",
   "metadata": {},
   "source": [
    "## 1. 데이터 준비 (Raw Image to NPZ)\n",
    "\n",
    "- 각 꽃 폴더에 있는 이미지 파일들을 읽어 Numpy 배열로 변환합니다.\n",
    "- 이미지 크기를 (80, 80)으로 통일하고, 각 폴더에 따라 0~4까지 레이블링을 수행합니다.\n",
    "- 변환된 데이터는 `daisy.npz`, `dandelion.npz` 등과 같이 꽃 종류별로 `.npz` 파일로 저장됩니다.\n",
    "\n",
    "**참고:** 아래 `makeData`와 `filesave` 함수는 원본 이미지 파일(`.jpg`, `.png` 등)을 머신러닝에 사용하기 좋은 `.npz` 포맷으로 변환하는 전처리 과정입니다. 이 과정은 한 번만 실행하면 됩니다. 만약 `.npz` 파일들이 이미 존재한다면 이 셀은 실행할 필요가 없습니다."
   ]
  },
  {
   "cell_type": "code",
   "execution_count": null,
   "metadata": {},
   "outputs": [],
   "source": [
    "# makeData => 폴더명과 라벨을 주면 해당 폴더 데이터를 읽어 numpy 배열로 바꾸고 라벨링\n",
    "def makeData(folder, label):\n",
    "    data =[]  # 이미지의 피처를 저장\n",
    "    labels=[] # 라벨 저장\n",
    "    \n",
    "    # './data/flowers' 경로는 실제 데이터 위치에 맞게 수정해야 할 수 있습니다.\n",
    "    path = \"./data/flowers/\" + folder \n",
    "    \n",
    "    if not os.path.isdir(path):\n",
    "        print(f\"경고: '{path}' 디렉토리를 찾을 수 없습니다. 경로를 확인해주세요.\")\n",
    "        return\n",
    "\n",
    "    for filename in os.listdir(path):\n",
    "        try:\n",
    "            filepath = os.path.join(path, filename)\n",
    "            kind = imghdr.what(filepath) # 파일의 종류 확인\n",
    "            \n",
    "            if kind in [\"gif\", \"png\", \"jpg\", \"jpeg\"]:\n",
    "                img = pilimg.open(filepath)\n",
    "                # 이미지 크기를 80x80으로 통일\n",
    "                resize_img = img.resize((80, 80))\n",
    "                pixel = np.array(resize_img)  # 이미지를 numpy 배열로 변환\n",
    "                \n",
    "                # 컬러 이미지만(3채널) 사용\n",
    "                if pixel.shape == (80, 80, 3):\n",
    "                    data.append(pixel)\n",
    "                    labels.append(label)\n",
    "        except Exception as e:\n",
    "            print(f\"파일 처리 오류: {filename}, 오류: {e}\")\n",
    "\n",
    "    print(f\"'{folder}' 처리 완료. 총 {len(data)}개의 이미지.\")\n",
    "    # 파일로 저장하기\n",
    "    np.savez(\"{}.npz\".format(folder), data=data, targets=labels)\n",
    "\n",
    "def filesave():\n",
    "    # 1. 파일로 저장하기\n",
    "    print(\"데이터 변환 및 저장을 시작합니다...\")\n",
    "    makeData(\"daisy\", \"0\") \n",
    "    makeData(\"dandelion\", \"1\") \n",
    "    makeData(\"sunflower\", \"2\") \n",
    "    makeData(\"rose\", \"3\") \n",
    "    makeData(\"tulip\", \"4\")\n",
    "    print(\"데이터 변환 및 저장 완료.\")"
   ]
  },
  {
   "cell_type": "code",
   "execution_count": null,
   "metadata": {},
   "outputs": [],
   "source": [
    "# 아래 주석을 해제하고 실행하면 이미지 파일들을 .npz 파일로 변환합니다.\n",
    "# .npz 파일이 이미 있다면 실행할 필요 없습니다.\n",
    "# filesave()"
   ]
  },
  {
   "cell_type": "markdown",
   "metadata": {},
   "source": [
    "## 2. 데이터 로딩\n",
    "\n",
    "- 전처리 단계에서 생성된 `.npz` 파일들을 불러옵니다.\n",
    "- 각 파일을 하나로 합쳐 전체 데이터셋을 구성합니다."
   ]
  },
  {
   "cell_type": "code",
   "execution_count": null,
   "metadata": {},
   "outputs": [],
   "source": [
    "def loadData():\n",
    "    try:\n",
    "        daisy = np.load(\"daisy.npz\")\n",
    "        dandelion = np.load(\"dandelion.npz\")\n",
    "        sunflower = np.load(\"sunflower.npz\")\n",
    "        rose = np.load(\"rose.npz\")\n",
    "        tulip = np.load(\"tulip.npz\")\n",
    "    except FileNotFoundError as e:\n",
    "        print(f\"오류: {e}\")\n",
    "        print(\"'.npz' 파일을 찾을 수 없습니다. 이전 단계에서 'filesave()'를 실행했는지 확인해주세요.\")\n",
    "        return None, None\n",
    "\n",
    "    data = np.concatenate((daisy[\"data\"], dandelion[\"data\"], sunflower[\"data\"], rose[\"data\"], tulip[\"data\"]))\n",
    "    target = np.concatenate((daisy[\"targets\"], dandelion[\"targets\"], sunflower[\"targets\"], rose[\"targets\"], tulip[\"targets\"]))\n",
    "    \n",
    "    print(\"데이터 로딩 완료.\")\n",
    "    print(\"전체 데이터 형태:\", data.shape)\n",
    "    print(\"전체 타겟 형태:\", target.shape)\n",
    "    return data, target\n",
    "\n",
    "data, target = loadData()"
   ]
  },
  {
   "cell_type": "markdown",
   "metadata": {},
   "source": [
    "## 3. 데이터 전처리\n",
    "\n",
    "- **Reshape**: Scikit-learn의 KNN 모델은 2차원 데이터를 입력으로 받습니다. 따라서 (샘플 수, 80, 80, 3) 형태의 4차원 데이터를 (샘플 수, 80 * 80 * 3) 형태의 2차원 데이터로 변환합니다.\n",
    "- **Scaling**: 픽셀 값의 범위를 0~255에서 0~1 사이로 조정(정규화)합니다. 이는 모델의 학습 성능을 향상시키는 데 도움이 됩니다."
   ]
  },
  {
   "cell_type": "code",
   "execution_count": null,
   "metadata": {},
   "outputs": [],
   "source": [
    "if data is not None:\n",
    "    # 4차원 데이터를 2차원 데이터로 변환\n",
    "    # (샘플 수, 너비, 높이, 채널) -> (샘플 수, 너비*높이*채널)\n",
    "    data = data.reshape(data.shape[0], 80 * 80 * 3)\n",
    "    print(\"Reshape 이후 데이터 형태:\", data.shape)\n",
    "\n",
    "    # 데이터 스케일링 (0~1 사이로 정규화)\n",
    "    data = data / 255.0\n",
    "    print(\"데이터 스케일링 완료.\")"
   ]
  },
  {
   "cell_type": "markdown",
   "metadata": {},
   "source": [
    "## 4. 훈련 및 테스트 데이터 분리\n",
    "\n",
    "- 전체 데이터셋을 모델 학습에 사용할 훈련(Train) 데이터와 모델 성능 평가에 사용할 테스트(Test) 데이터로 분리합니다.\n",
    "- `train_test_split` 함수를 사용하여 50:50 비율로 나눕니다."
   ]
  },
  {
   "cell_type": "code",
   "execution_count": null,
   "metadata": {},
   "outputs": [],
   "source": [
    "if data is not None:\n",
    "    X_train, X_test, y_train, y_test = train_test_split(data, target, test_size=0.5, random_state=0)\n",
    "\n",
    "    print(\"훈련 데이터셋 크기:\", X_train.shape, y_train.shape)\n",
    "    print(\"테스트 데이터셋 크기:\", X_test.shape, y_test.shape)"
   ]
  },
  {
   "cell_type": "markdown",
   "metadata": {},
   "source": [
    "## 5. K-최근접 이웃(KNN) 모델 학습 및 평가\n",
    "\n",
    "- K-최근접 이웃 분류기 모델을 생성하고 훈련 데이터로 학습시킵니다.\n",
    "- 학습된 모델을 사용하여 훈련 데이터와 테스트 데이터에 대한 정확도(Accuracy)를 평가합니다."
   ]
  },
  {
   "cell_type": "code",
   "execution_count": null,
   "metadata": {},
   "outputs": [],
   "source": [
    "if 'X_train' in locals():\n",
    "    model = KNeighborsClassifier(n_neighbors=5)\n",
    "    model.fit(X_train, y_train)\n",
    "\n",
    "    train_score = model.score(X_train, y_train)\n",
    "    test_score = model.score(X_test, y_test)\n",
    "\n",
    "    print(f\"훈련 세트 정확도: {train_score:.4f}\")\n",
    "    print(f\"테스트 세트 정확도: {test_score:.4f}\")"
   ]
  }
 ],
 "metadata": {
  "kernelspec": {
   "display_name": "Python 3",
   "language": "python",
   "name": "python3"
  },
  "language_info": {
   "codemirror_mode": {
    "name": "ipython",
    "version": 3
   },
   "file_extension": ".py",
   "mimetype": "text/x-python",
   "name": "python",
   "nbconvert_exporter": "python",
   "pygments_lexer": "ipython3",
   "version": "3.9.7"
  }
 },
 "nbformat": 4,
 "nbformat_minor": 4
}