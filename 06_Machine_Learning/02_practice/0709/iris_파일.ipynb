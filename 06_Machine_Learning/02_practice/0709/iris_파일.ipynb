{
 "cells": [
  {
   "cell_type": "markdown",
   "metadata": {},
   "source": [
    "# 붓꽃(Iris) 품종 분류: 데이터 탐색 및 로지스틱 회귀 모델 학습\n",
    "\n",
    "이 노트북은 머신러닝에서 가장 유명한 데이터셋 중 하나인 **붓꽃(Iris) 데이터셋**을 사용하여 붓꽃의 품종을 분류하는 과정을 다룹니다. 데이터 로드부터 기본적인 탐색, 훈련 및 테스트 데이터 분할, 그리고 로지스틱 회귀 모델 학습 및 평가까지의 단계를 체계적으로 보여줍니다."
   ]
  },
  {
   "cell_type": "markdown",
   "metadata": {},
   "source": [
    "### 1. 라이브러리 임포트"
   ]
  },
  {
   "cell_type": "code",
   "execution_count": null,
   "metadata": {},
   "outputs": [],
   "source": [
    "import pandas as pd\n",
    "import numpy as np\n",
    "from sklearn.model_selection import train_test_split\n",
    "from sklearn.linear_model import LogisticRegression"
   ]
  },
  {
   "cell_type": "markdown",
   "metadata": {},
   "source": [
    "### 2. 데이터 로드 및 초기 탐색\n",
    "\n",
    "`iris.csv` 파일을 불러와 데이터의 기본적인 구조와 내용을 확인합니다.\n",
    "\n",
    "**붓꽃 데이터셋**: 붓꽃의 꽃받침 길이(sepal length), 꽃받침 너비(sepal width), 꽃잎 길이(petal length), 꽃잎 너비(petal width) 4가지 특성을 사용하여 3가지 품종(setosa, versicolor, virginica) 중 하나로 분류하는 문제입니다."
   ]
  },
  {
   "cell_type": "code",
   "execution_count": null,
   "metadata": {},
   "outputs": [],
   "source": [
    "try:\n",
    "    df = pd.read_csv(\"./data/iris.csv\")\n",
    "    print(\"데이터 로드 성공!\")\n",
    "except FileNotFoundError:\n",
    "    print(\"오류: './data/iris.csv' 파일을 찾을 수 없습니다.\")\n",
    "    print(\"노트북이 있는 폴더(02_practice/0716) 아래에 'data/iris.csv' 파일을 위치시켜 주세요.\")\n",
    "    df = None\n",
    "\n",
    "if df is not None:\n",
    "    print(\"\n데이터 상위 5행:\")\n",
    "    print(df.head())\n",
    "    print(\"\n컬럼 정보:\")\n",
    "    print(df.columns)\n",
    "    print(\"\n데이터 통계 요약:\")\n",
    "    print(df.describe())\n",
    "    print(\"\n데이터 정보 (결측치 확인):\")\n",
    "    df.info()"
   ]
  },
  {
   "cell_type": "markdown",
   "metadata": {},
   "source": [
    "### 3. 특성(X)과 타겟(y) 분리\n",
    "\n",
    "머신러닝 모델 학습을 위해 입력 특성(`X`)과 예측 대상인 타겟(`y`)을 분리합니다. 붓꽃 데이터셋에서는 처음 4개 컬럼이 특성이고, 마지막 컬럼이 품종(타겟)입니다."
   ]
  },
  {
   "cell_type": "code",
   "execution_count": null,
   "metadata": {},
   "outputs": [],
   "source": [
    "if df is not None:\n",
    "    # iloc를 사용하여 인덱스 기반으로 컬럼을 선택합니다.\n",
    "    X = df.iloc[:, :4] # 모든 행, 0부터 3까지의 컬럼 (특성)\n",
    "    y = df.iloc[:, 4]  # 모든 행, 4번째 컬럼 (타겟)\n",
    "\n",
    "    print(\"\n특성 데이터 (X) 상위 4행:\")\n",
    "    print(X.head(4))\n",
    "    print(\"\n타겟 데이터 (y) 상위 4행:\")\n",
    "    print(y.head(4))"
   ]
  },
  {
   "cell_type": "markdown",
   "metadata": {},
   "source": [
    "### 4. 데이터 분할\n",
    "\n",
    "모델의 일반화 성능을 평가하기 위해, 전체 데이터를 훈련 세트와 테스트 세트로 분할합니다."
   ]
  },
  {
   "cell_type": "code",
   "execution_count": null,
   "metadata": {},
   "outputs": [],
   "source": [
    "if df is not None:\n",
    "    X_train, X_test, y_train, y_test = train_test_split(X, y, random_state=0 )\n",
    "\n",
    "    print(f\"훈련 데이터 형태: {X_train.shape}, {y_train.shape}\")\n",
    "    print(f\"테스트 데이터 형태: {X_test.shape}, {y_test.shape}\")"
   ]
  },
  {
   "cell_type": "markdown",
   "metadata": {},
   "source": [
    "### 5. 모델 학습 및 평가 (로지스틱 회귀)\n",
    "\n",
    "로지스틱 회귀는 분류 문제에 사용되는 선형 모델입니다. 훈련 데이터로 모델을 학습시키고, 훈련 세트와 테스트 세트에 대한 정확도를 평가합니다."
   ]
  },
  {
   "cell_type": "code",
   "execution_count": null,
   "metadata": {},
   "outputs": [],
   "source": [
    "if df is not None:\n",
    "    model = LogisticRegression(max_iter=1000) # 수렴을 위해 max_iter 증가\n",
    "    model.fit(X_train, y_train)\n",
    "\n",
    "    train_score = model.score(X_train, y_train)\n",
    "    test_score = model.score(X_test, y_test)\n",
    "\n",
    "    print(\"--- 로지스틱 회귀 모델 ---\")\n",
    "    print(f\"훈련 세트 정확도: {train_score:.4f}\")\n",
    "    print(f\"테스트 세트 정확도: {test_score:.4f}\")\n",
    "\n",
    "    print(\"\n**참고**: 이 데이터셋은 결측치나 이상치가 없으며, 특성 스케일링 없이도 좋은 성능을 보입니다. 하지만 실제 데이터에서는 결측치/이상치 처리 및 특성 스케일링이 모델 성능에 큰 영향을 미칠 수 있습니다.\")"
   ]
  }
 ],
 "metadata": {
  "kernelspec": {
   "display_name": "Python 3",
   "language": "python",
   "name": "python3"
  },
  "language_info": {
   "codemirror_mode": {
    "name": "ipython",
    "version": 3
   },
   "file_extension": ".py",
   "mimetype": "text/x-python",
   "name": "python",
   "nbconvert_exporter": "python",
   "pygments_lexer": "ipython3",
   "version": "3.9.7"
  }
 },
 "nbformat": 4,
 "nbformat_minor": 4
}