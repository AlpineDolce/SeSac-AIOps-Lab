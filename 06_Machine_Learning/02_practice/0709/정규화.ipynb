{
 "cells": [
  {
   "cell_type": "markdown",
   "metadata": {},
   "source": [
    "# 특성 스케일링 (Feature Scaling): 다양한 스케일러 비교\n",
    "\n",
    "이 노트북은 머신러닝 모델 학습 전 데이터 전처리 단계에서 필수적인 **특성 스케일링(Feature Scaling)** 기법들을 다룹니다. \n",
    "\n",
    "특성 스케일링은 각 특성(feature)의 값 범위를 조정하여, 특정 특성이 모델 학습에 과도한 영향을 미치는 것을 방지하고 모델의 성능을 향상시키는 데 도움을 줍니다. 특히 **서포트 벡터 머신(SVM), 로지스틱 회귀, 신경망(딥러닝)**과 같이 특성 간의 거리를 기반으로 하는 알고리즘에서 매우 중요합니다.\n",
    "\n",
    "**학습 목표:**\n",
    "- `StandardScaler`, `RobustScaler`, `MinMaxScaler`, `Normalizer`의 개념과 사용 시점을 이해합니다.\n",
    "- 가상의 데이터를 통해 각 스케일러가 데이터를 어떻게 변환하는지 직접 확인합니다."
   ]
  },
  {
   "cell_type": "markdown",
   "metadata": {},
   "source": [
    "### 1. 라이브러리 임포트 및 샘플 데이터 생성"
   ]
  },
  {
   "cell_type": "code",
   "execution_count": null,
   "metadata": {},
   "outputs": [],
   "source": [
    "import pandas as pd\n",
    "import numpy as np\n",
    "from sklearn.preprocessing import StandardScaler, RobustScaler, MinMaxScaler, Normalizer\n",
    "\n",
    "# 스케일링을 위한 가상의 데이터 생성\n",
    "data = {\n",
    "    \"feature1\": [160, 165, 170, 175, 180, 155, 190, 172, 168, 178], # 키 (cm)\n",
    "    \"feature2\": [3000, 3200, 3500, 4900, 4800, 6000, 2800, 3300, 5600, 4700], # 월급 (만원)\n",
    "    \"feature3\": [3, 2, 1, 4, 4, 6, 12, 13, 11, 6] # 만족도 (1~10점)\n",
    "}\n",
    "\n",
    "df = pd.DataFrame(data)\n",
    "print(\"원본 데이터프레임:\")\n",
    "print(df)"
   ]
  },
  {
   "cell_type": "markdown",
   "metadata": {},
   "source": [
    "### 2. StandardScaler (표준화)\n",
    "\n",
    "- **개념**: 각 특성의 평균을 0으로, 표준편차를 1로 스케일링합니다. 데이터가 정규 분포를 따른다고 가정할 때 유용합니다.\n",
    "- **특징**: 이상치에 민감하게 반응합니다.\n",
    "- **사용 시점**: 선형 모델(로지스틱 회귀), SVM, 딥러닝 등 대부분의 머신러닝 알고리즘에 일반적으로 사용됩니다."
   ]
  },
  {
   "cell_type": "code",
   "execution_count": null,
   "metadata": {},
   "outputs": [],
   "source": [
    "ss = StandardScaler()\n",
    "df_scaled_ss = ss.fit_transform(df)\n",
    "\n",
    "print(\"StandardScaler 적용 후:\")\n",
    "print(df_scaled_ss)"
   ]
  },
  {
   "cell_type": "markdown",
   "metadata": {},
   "source": [
    "### 3. RobustScaler (강건한 스케일링)\n",
    "\n",
    "- **개념**: 중앙값(median)과 IQR(사분위수 범위)을 사용하여 스케일링합니다. 이상치의 영향을 최소화합니다.\n",
    "- **특징**: 데이터에 이상치가 많을 때 `StandardScaler`보다 더 안정적인 결과를 제공합니다.\n",
    "- **사용 시점**: 이상치가 많은 데이터셋에 적합합니다."
   ]
  },
  {
   "cell_type": "code",
   "execution_count": null,
   "metadata": {},
   "outputs": [],
   "source": [
    "rb = RobustScaler()\n",
    "df_scaled_rb = rb.fit_transform(df)\n",
    "\n",
    "print(\"RobustScaler 적용 후:\")\n",
    "print(df_scaled_rb)"
   ]
  },
  {
   "cell_type": "markdown",
   "metadata": {},
   "source": [
    "### 4. MinMaxScaler (최소-최대 정규화)\n",
    "\n",
    "- **개념**: 모든 특성 값을 0과 1 사이의 특정 범위로 스케일링합니다.\n",
    "- **특징**: 데이터의 최소값과 최대값을 사용하여 선형적으로 변환합니다.\n",
    "- **사용 시점**: 이미지 픽셀 값(0-255)을 0-1로 변환하거나, 특정 신경망의 입력값이 특정 범위 내에 있어야 할 때 유용합니다."
   ]
  },
  {
   "cell_type": "code",
   "execution_count": null,
   "metadata": {},
   "outputs": [],
   "source": [
    "mm = MinMaxScaler()\n",
    "df_scaled_mm = mm.fit_transform(df)\n",
    "\n",
    "print(\"MinMaxScaler 적용 후:\")\n",
    "print(df_scaled_mm)"
   ]
  },
  {
   "cell_type": "markdown",
   "metadata": {},
   "source": [
    "### 5. Normalizer (정규화)\n",
    "\n",
    "- **개념**: 각 샘플(행)의 특성 벡터를 단위 벡터(L1 또는 L2 노름이 1)로 스케일링합니다. 즉, 각 행의 모든 특성 값의 제곱합이 1이 되도록 만듭니다.\n",
    "- **특징**: 특성 간의 절대적인 크기보다는 상대적인 비율이 중요할 때 사용됩니다.\n",
    "- **사용 시점**: 주로 텍스트 분류(TF-IDF 벡터화 후), 군집 분석(코사인 유사도 계산) 등 벡터의 방향이 중요한 경우에 유용합니다."
   ]
  },
  {
   "cell_type": "code",
   "execution_count": null,
   "metadata": {},
   "outputs": [],
   "source": [
    "norm = Normalizer()\n",
    "df_scaled_norm = norm.fit_transform(df)\n",
    "\n",
    "print(\"Normalizer 적용 후:\")\n",
    "print(df_scaled_norm)"
   ]
  },
  {
   "cell_type": "markdown",
   "metadata": {},
   "source": [
    "### 결론\n",
    "\n",
    "각 스케일러는 데이터의 분포와 모델의 특성에 따라 다르게 작동합니다. 어떤 스케일러를 사용할지는 데이터의 특성(이상치 유무, 분포 형태)과 적용하려는 머신러닝 알고리즘의 요구사항을 고려하여 결정해야 합니다.\n",
    "\n",
    "- **StandardScaler**: 가장 일반적이고 널리 사용됩니다. 정규 분포를 따르는 데이터에 적합합니다.\n",
    "- **RobustScaler**: 이상치가 많은 데이터에 강건합니다.\n",
    "- **MinMaxScaler**: 데이터의 범위를 특정 구간(예: 0~1)으로 제한해야 할 때 사용됩니다.\n",
    "- **Normalizer**: 특성 벡터의 방향이 중요하고, 크기보다는 상대적인 비율이 중요할 때 사용됩니다."
   ]
  }
 ],
 "metadata": {
  "kernelspec": {
   "display_name": "Python 3",
   "language": "python",
   "name": "python3"
  },
  "language_info": {
   "codemirror_mode": {
    "name": "ipython",
    "version": 3
   },
   "file_extension": ".py",
   "mimetype": "text/x-python",
   "name": "python",
   "nbconvert_exporter": "python",
   "pygments_lexer": "ipython3",
   "version": "3.9.7"
  }
 },
 "nbformat": 4,
 "nbformat_minor": 4
}