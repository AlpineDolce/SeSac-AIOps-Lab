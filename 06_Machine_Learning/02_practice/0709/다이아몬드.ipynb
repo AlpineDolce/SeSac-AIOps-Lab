{
 "cells": [
  {
   "cell_type": "markdown",
   "metadata": {},
   "source": [
    "# 다이아몬드 데이터 분석 및 Cut 등급 예측\n",
    "이 노트북은 다이아몬드 데이터셋을 분석하고, 여러 특성(캐럿, 색상, 투명도 등)을 사용하여 다이아몬드의 `cut` 등급을 예측하는 머신러닝 모델을 구축하는 과정을 보여줍니다.\n",
    "\n",
    "**분석 과정:**\n",
    "1.  데이터 로드 및 탐색 (EDA)\n",
    "2.  범주형 데이터 전처리 (라벨 인코딩)\n",
    "3.  모델 학습을 위한 데이터 준비 (특성, 타겟 분리)\n",
    "4.  학습 및 테스트 데이터 분할\n",
    "5.  로지스틱 회귀 모델 학습 및 평가"
   ]
  },
  {
   "cell_type": "markdown",
   "metadata": {},
   "source": [
    "### 1. 라이브러리 임포트 및 데이터 로드"
   ]
  },
  {
   "cell_type": "code",
   "execution_count": null,
   "metadata": {},
   "outputs": [],
   "source": [
    "import pandas as pd\n",
    "import numpy as np\n",
    "\n",
    "try:\n",
    "    df = pd.read_csv(\"./data/diamonds.csv\")\n",
    "    print(\"데이터 로드 성공!\")\n",
    "except FileNotFoundError:\n",
    "    print(\"오류: './data/diamonds.csv' 파일을 찾을 수 없습니다.\")\n",
    "    print(\"노트북이 있는 폴더(02_practice/0716) 아래에 'data/diamonds.csv' 파일을 위치시켜 주세요.\")\n",
    "    df = None"
   ]
  },
  {
   "cell_type": "markdown",
   "metadata": {},
   "source": [
    "### 2. 데이터 탐색 (Exploratory Data Analysis - EDA)\n",
    "데이터의 기본적인 정보를 확인합니다."
   ]
  },
  {
   "cell_type": "code",
   "execution_count": null,
   "metadata": {},
   "outputs": [],
   "source": [
    "if df is not None:\n",
    "    print(\"데이터 샘플 (상위 5개):\")\n",
    "    print(df.head())\n",
    "    print(\"\n데이터 기본 정보:\")\n",
    "    print(df.info())\n",
    "    print(\"\n데이터 통계 요약:\")\n",
    "    print(df.describe())"
   ]
  },
  {
   "cell_type": "markdown",
   "metadata": {},
   "source": [
    "#### 범주형 데이터 확인\n",
    "`cut`, `color`, `clarity`와 같은 범주형(categorical) 데이터의 종류와 분포를 확인합니다."
   ]
  },
  {
   "cell_type": "code",
   "execution_count": null,
   "metadata": {},
   "outputs": [],
   "source": [
    "if df is not None:\n",
    "    print(\"--- cut 변수 ---\")\n",
    "    print(df[\"cut\"].value_counts())\n",
    "    print(\"\n--- color 변수 ---\")\n",
    "    print(df[\"color\"].value_counts())\n",
    "    print(\"\n--- clarity 변수 ---\")\n",
    "    print(df[\"clarity\"].value_counts())"
   ]
  },
  {
   "cell_type": "markdown",
   "metadata": {},
   "source": [
    "### 3. 데이터 전처리: 라벨 인코딩\n",
    "머신러닝 모델은 문자열 값을 직접 처리할 수 없으므로, `cut`, `color`, `clarity`와 같은 범주형 데이터를 숫자형으로 변환해야 합니다. 각 범주에 고유한 숫자를 부여하는 **라벨 인코딩(Label Encoding)**을 수행합니다."
   ]
  },
  {
   "cell_type": "code",
   "execution_count": null,
   "metadata": {},
   "outputs": [],
   "source": [
    "def get_label_map(field):\n",
    "    \"\"\"주어진 필드(컬럼)의 고유한 값들을 가져와 각 값에 숫자 라벨을 매핑하는 딕셔너리를 생성합니다.\"\"\"\n",
    "    unique_list = df[field].unique()\n",
    "    label_map = {item: index + 1 for index, item in enumerate(unique_list)}\n",
    "    return label_map\n",
    "\n",
    "if df is not None:\n",
    "    # 각 범주형 필드에 대해 라벨 인코딩 수행\n",
    "    color_map = get_label_map('color')\n",
    "    df['color_label'] = df['color'].map(color_map)\n",
    "\n",
    "    clarity_map = get_label_map('clarity')\n",
    "    df['clarity_label'] = df['clarity'].map(clarity_map)\n",
    "\n",
    "    cut_map = get_label_map('cut')\n",
    "    df['cut_label'] = df['cut'].map(cut_map)\n",
    "\n",
    "    print(\"라벨 인코딩 후 데이터 샘플:\")\n",
    "    print(df.head())"
   ]
  },
  {
   "cell_type": "markdown",
   "metadata": {},
   "source": [
    "### 4. 모델 학습을 위한 데이터 준비\n",
    "모델에 입력으로 사용할 특성(X)과 예측 대상이 될 타겟(y)을 분리합니다.\n",
    "\n",
    "- **특성 (X)**: `carat`, `depth`, `table`, `price`, `x`, `y`, `z` 및 라벨 인코딩된 `color_label`, `clarity_label`\n",
    "- **타겟 (y)**: 예측하고자 하는 `cut_label`"
   ]
  },
  {
   "cell_type": "code",
   "execution_count": null,
   "metadata": {},
   "outputs": [],
   "source": [
    "if df is not None:\n",
    "    X = df.loc[:, ['carat', 'depth', 'table', 'price', 'x', 'y', 'z', 'color_label', 'clarity_label']]\n",
    "    y = df.loc[:, 'cut_label']\n",
    "\n",
    "    print(\"--- 특성 데이터 (X) 샘플 ---\")\n",
    "    print(X.head())\n",
    "    print(\"\n--- 타겟 데이터 (y) 샘플 ---\")\n",
    "    print(y.head())"
   ]
  },
  {
   "cell_type": "markdown",
   "metadata": {},
   "source": [
    "### 5. 학습 및 테스트 데이터 분할\n",
    "모델의 성능을 객관적으로 평가하기 위해, 전체 데이터를 학습용(train)과 테스트용(test)으로 분리합니다. `random_state`를 설정하여 항상 동일한 방식으로 데이터가 분할되도록 합니다."
   ]
  },
  {
   "cell_type": "code",
   "execution_count": null,
   "metadata": {},
   "outputs": [],
   "source": [
    "from sklearn.model_selection import train_test_split\n",
    "\n",
    "if 'X' in locals() and 'y' in locals():\n",
    "    X_train, X_test, y_train, y_test = train_test_split(X, y, random_state=0)\n",
    "    print(f\"학습 데이터 크기: {X_train.shape}, {y_train.shape}\")\n",
    "    print(f\"테스트 데이터 크기: {X_test.shape}, {y_test.shape}\")"
   ]
  },
  {
   "cell_type": "markdown",
   "metadata": {},
   "source": [
    "### 6. 로지스틱 회귀 모델 학습 및 평가\n",
    "분류 문제에 사용되는 로지스틱 회귀 모델을 학습시키고, 학습 데이터와 테스트 데이터에 대한 정확도를 각각 평가합니다."
   ]
  },
  {
   "cell_type": "code",
   "execution_count": null,
   "metadata": {},
   "outputs": [],
   "source": [
    "from sklearn.linear_model import LogisticRegression\n",
    "\n",
    "if 'X_train' in locals():\n",
    "    model = LogisticRegression(max_iter=1000) # 반복 횟수를 늘려 모델이 수렴하도록 돕습니다.\n",
    "    model.fit(X_train, y_train)\n",
    "\n",
    "    train_score = model.score(X_train, y_train)\n",
    "    test_score = model.score(X_test, y_test)\n",
    "\n",
    "    print(f\"훈련 세트 정확도: {train_score:.4f}\")\n",
    "    print(f\"테스트 세트 정확도: {test_score:.4f}\")"
   ]
  },
  {
   "cell_type": "markdown",
   "metadata": {},
   "source": [
    "### ※ 참고: 원본 스크립트의 주석 처리된 코드\n",
    "원본 `.py` 스크립트에는 결측치 처리와 관련된 코드가 주석으로 남아있었습니다. 이 데이터셋에는 결측치가 없지만, 일반적인 데이터 분석 과정에서는 결측치 확인 및 처리가 매우 중요합니다.\n",
    "\n",
    "```python\n",
    "#결측치 확인 - 중간에 있을 수도 있으니까 \n",
    "print(df.isna().sum())\n",
    "\n",
    "#결측치 제거 - 대부분의 경우는 제거보다는 다른값으로 대체하는경우가 많다. \n",
    "df = df.dropna(how=\"any\", axis=0) #NaN 값이 있는 행은 모두 삭제해라\n",
    "```"
   ]
  }
 ],
 "metadata": {
  "kernelspec": {
   "display_name": "Python 3",
   "language": "python",
   "name": "python3"
  },
  "language_info": {
   "codemirror_mode": {
    "name": "ipython",
    "version": 3
   },
   "file_extension": ".py",
   "mimetype": "text/x-python",
   "name": "python",
   "nbconvert_exporter": "python",
   "pygments_lexer": "ipython3",
   "version": "3.9.7"
  }
 },
 "nbformat": 4,
 "nbformat_minor": 4
}