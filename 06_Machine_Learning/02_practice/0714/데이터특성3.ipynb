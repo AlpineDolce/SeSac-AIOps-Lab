{
 "cells": [
  {
   "cell_type": "markdown",
   "metadata": {},
   "source": [
    "# ColumnTransformer: 여러 컬럼에 각기 다른 전처리 적용하기\n",
    "\n",
    "이 노트북은 `scikit-learn`의 `ColumnTransformer` 클래스를 사용하여 데이터프레임의 각기 다른 컬럼에 서로 다른 전처리 방법을 한 번에 적용하는 효율적인 방법을 다룹니다.\n",
    "\n",
    "실제 데이터셋은 숫자형, 범주형 등 다양한 타입의 특성이 섞여 있는 경우가 많습니다. 이럴 때, 우리는 보통 다음과 같은 전처리를 수행합니다.\n",
    "- **숫자형 특성**: 값의 범위를 조정하는 스케일링 (예: `StandardScaler`)\n",
    "- **범주형 특성**: 문자열을 숫자 형태로 변환하는 인코딩 (예: `OneHotEncoder`)\n",
    "\n",
    "`ColumnTransformer`는 이러한 작업을 하나의 단계로 묶어 코드를 간결하고 체계적으로 만들어 줍니다."
   ]
  },
  {
   "cell_type": "markdown",
   "metadata": {},
   "source": [
    "### 1. 라이브러리 임포트 및 데이터 로드"
   ]
  },
  {
   "cell_type": "code",
   "execution_count": null,
   "metadata": {},
   "outputs": [],
   "source": [
    "import pandas as pd\n",
    "import mglearn\n",
    "import os\n",
    "import numpy as np\n",
    "\n",
    "# 전처리를 위한 scikit-learn 클래스\n",
    "from sklearn.preprocessing import OneHotEncoder, StandardScaler\n",
    "from sklearn.compose import ColumnTransformer"
   ]
  },
  {
   "cell_type": "code",
   "execution_count": null,
   "metadata": {},
   "outputs": [],
   "source": [
    "# adult 데이터셋 로드\n",
    "file_path = os.path.join(mglearn.datasets.DATA_PATH, \"adult.data\")\n",
    "data_all = pd.read_csv(file_path, header=None, index_col=False, \n",
    "                   names=['age', 'workclass', 'fnlwgt', 'education',  'education-num',\n",
    "                          'marital-status', 'occupation', 'relationship', 'race', 'gender',\n",
    "                          'capital-gain', 'capital-loss', 'hours-per-week', 'native-country',\n",
    "                          'income'])\n",
    "\n",
    "# 분석에 사용할 특성만 선택\n",
    "data = data_all[['age', 'workclass', 'education', 'gender', 'hours-per-week', 'occupation', 'income']]\n",
    "\n",
    "print(\"원본 데이터 샘플:\")\n",
    "data.head()"
   ]
  },
  {
   "cell_type": "markdown",
   "metadata": {},
   "source": [
    "### 2. ColumnTransformer 설정\n",
    "\n",
    "`ColumnTransformer`를 설정하여 어떤 컬럼에 어떤 변환을 적용할지 정의합니다.\n",
    "\n",
    "- **`age`, `hours-per-week`** (연속형 숫자) 컬럼에는 `StandardScaler`를 적용하여 표준 정규분포를 따르도록 스케일링합니다.\n",
    "- **`workclass`, `education`, `gender`, `occupation`** (범주형 문자) 컬럼에는 `OneHotEncoder`를 적용하여 원-핫 인코딩을 수행합니다."
   ]
  },
  {
   "cell_type": "code",
   "execution_count": null,
   "metadata": {},
   "outputs": [],
   "source": [
    "# ColumnTransformer 객체 생성\n",
    "# 리스트 형태로 (이름, 변환기, 적용할 컬럼 리스트) 튜플을 전달합니다.\n",
    "ct = ColumnTransformer([\n",
    "    (\"scaling\", StandardScaler(), ['age', 'hours-per-week']),\n",
    "    (\"onehot\", OneHotEncoder(sparse_output=False), ['workclass', 'education', 'gender', 'occupation'])\n",
    "    # income 컬럼은 타겟 변수이므로 여기서는 제외합니다.\n",
    "])\n",
    "# remainder='passthrough' 옵션을 사용하면 지정되지 않은 컬럼을 그대로 유지할 수 있습니다."
   ]
  },
  {
   "cell_type": "markdown",
   "metadata": {},
   "source": [
    "### 3. 데이터 변환 (Fit and Transform)\n",
    "\n",
    "설정한 `ColumnTransformer`를 데이터에 적용합니다.\n",
    "- `fit()`: 데이터로부터 스케일링에 필요한 평균/표준편차, 인코딩에 필요한 카테고리 등을 학습합니다.\n",
    "- `transform()`: 학습된 정보를 바탕으로 실제 데이터를 변환합니다.\n",
    "- `fit_transform()`: 위 두 과정을 한 번에 수행합니다."
   ]
  },
  {
   "cell_type": "code",
   "execution_count": null,
   "metadata": {},
   "outputs": [],
   "source": [
    "# 타겟 변수를 제외한 데이터에 ColumnTransformer를 적용합니다.\n",
    "# income 컬럼은 예측 대상이므로 입력 데이터에서 제외합니다.\n",
    "data_features = data.drop(\"income\", axis=1)\n",
    "\n",
    "# fit_transform을 사용하여 학습과 변환을 동시에 수행\n",
    "transformed_data = ct.fit_transform(data_features)\n",
    "\n",
    "print(\"변환된 데이터의 형태:\", transformed_data.shape)\n",
    "print(\"\n변환된 데이터 (Numpy 배열) 샘플:\")\n",
    "print(transformed_data[:5, :])"
   ]
  },
  {
   "cell_type": "markdown",
   "metadata": {},
   "source": [
    "### 4. 변환된 데이터 확인 (심화)\n",
    "\n",
    "`ColumnTransformer`의 결과는 컬럼 이름이 없는 `Numpy` 배열입니다. `get_feature_names_out()` 메소드를 사용하면 변환 후 생성된 특성들의 이름을 확인할 수 있어, 결과를 해석하는 데 도움이 됩니다."
   ]
  },
  {
   "cell_type": "code",
   "execution_count": null,
   "metadata": {},
   "outputs": [],
   "source": [
    "# 변환 후의 특성 이름 가져오기\n",
    "feature_names = ct.get_feature_names_out()\n",
    "print(\"생성된 특성 이름 (처음 10개):\", feature_names[:10])\n",
    "\n",
    "# 변환된 데이터를 다시 DataFrame으로 만들어 가독성 높이기\n",
    "transformed_df = pd.DataFrame(transformed_data, columns=feature_names)\n",
    "\n",
    "print(\"\n변환된 데이터를 DataFrame으로 표시:\")\n",
    "transformed_df.head()"
   ]
  }
 ],
 "metadata": {
  "kernelspec": {
   "display_name": "Python 3",
   "language": "python",
   "name": "python3"
  },
  "language_info": {
   "codemirror_mode": {
    "name": "ipython",
    "version": 3
   },
   "file_extension": ".py",
   "mimetype": "text/x-python",
   "name": "python",
   "nbconvert_exporter": "python",
   "pygments_lexer": "ipython3",
   "version": "3.9.7"
  }
 },
 "nbformat": 4,
 "nbformat_minor": 4
}