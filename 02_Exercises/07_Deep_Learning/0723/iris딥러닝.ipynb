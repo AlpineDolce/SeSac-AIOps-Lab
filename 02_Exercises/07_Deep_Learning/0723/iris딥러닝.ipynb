{
 "cells": [
  {
   "cell_type": "markdown",
   "metadata": {},
   "source": [
    "# Iris (붓꽃) 품종 분류 (기본 신경망)"
   ]
  },
  {
   "cell_type": "markdown",
   "metadata": {},
   "source": [
    "이 노트북은 Scikit-learn의 Iris 데이터셋을 사용하여 붓꽃의 품종을 분류하는 간단한 심층 신경망(DNN)을 구축, 훈련, 평가합니다.\n",
    "\n",
    "**프로세스:**\n",
    "1. **데이터 로딩 및 분할**: Iris 데이터셋을 로드하고 훈련 세트와 테스트 세트로 분할합니다.\n",
    "2. **데이터 전처리**: 특성(Feature)은 `StandardScaler`를 사용하여 스케일링하고, 레이블(Label)은 `to_categorical`을 사용하여 원-핫 인코딩합니다.\n",
    "3. **모델 구축**: `Dense` 레이어로 구성된 순차 모델을 정의합니다.\n",
    "4. **훈련 및 검증**: 모델을 학습시키고, 매 에포크마다 검증 세트로 성능을 모니터링합니다.\n",
    "5. **결과 시각화**: 훈련 과정의 정확도와 손실을 그래프로 시각화하여 과적합 여부를 확인합니다.\n",
    "6. **최종 평가**: 학습된 모델을 테스트 데이터셋으로 최종 평가합니다."
   ]
  },
  {
   "cell_type": "markdown",
   "metadata": {},
   "source": [
    "## 1. 라이브러리 임포트"
   ]
  },
  {
   "cell_type": "code",
   "execution_count": 1,
   "metadata": {},
   "outputs": [
    {
     "name": "stdout",
     "output_type": "stream",
     "text": [
      "WARNING:tensorflow:From c:\\Users\\Admin\\anaconda3\\envs\\aiops\\Lib\\site-packages\\keras\\src\\losses.py:2976: The name tf.losses.sparse_softmax_cross_entropy is deprecated. Please use tf.compat.v1.losses.sparse_softmax_cross_entropy instead.\n",
      "\n"
     ]
    }
   ],
   "source": [
    "import numpy as np\n",
    "import tensorflow as tf\n",
    "from tensorflow import keras\n",
    "from tensorflow.keras import layers, models\n",
    "from sklearn.model_selection import train_test_split\n",
    "from sklearn.datasets import load_iris\n",
    "from sklearn.preprocessing import StandardScaler\n",
    "from tensorflow.keras.utils import to_categorical\n",
    "import matplotlib.pyplot as plt\n",
    "\n",
    "# 재현성을 위한 랜덤 시드 설정\n",
    "tf.random.set_seed(1)"
   ]
  },
  {
   "cell_type": "markdown",
   "metadata": {},
   "source": [
    "## 2. 데이터 로딩 및 분할"
   ]
  },
  {
   "cell_type": "code",
   "execution_count": 2,
   "metadata": {},
   "outputs": [
    {
     "name": "stdout",
     "output_type": "stream",
     "text": [
      "훈련 데이터 형태: (105, 4)\n",
      "테스트 데이터 형태: (45, 4)\n"
     ]
    }
   ],
   "source": [
    "iris = load_iris()\n",
    "X = iris['data']\n",
    "y = iris[\"target\"]\n",
    "\n",
    "# 훈련 데이터와 테스트 데이터를 7:3 비율로 분할\n",
    "X_train, X_test, y_train, y_test = train_test_split(X, y, random_state=1, test_size=0.3)\n",
    "\n",
    "print(f\"훈련 데이터 형태: {X_train.shape}\")\n",
    "print(f\"테스트 데이터 형태: {X_test.shape}\")"
   ]
  },
  {
   "cell_type": "markdown",
   "metadata": {},
   "source": [
    "## 3. 데이터 전처리"
   ]
  },
  {
   "cell_type": "code",
   "execution_count": 3,
   "metadata": {},
   "outputs": [
    {
     "name": "stdout",
     "output_type": "stream",
     "text": [
      "스케일링된 첫 번째 훈련 데이터: [ 2.26050169 -1.05089682  1.77622921  1.42370971]\n",
      "원-핫 인코딩된 첫 번째 훈련 레이블: [0. 0. 1.]\n"
     ]
    }
   ],
   "source": [
    "# 특성 스케일링 (평균 0, 분산 1)\n",
    "scaler = StandardScaler()\n",
    "X_train_scaled = scaler.fit_transform(X_train)\n",
    "X_test_scaled = scaler.transform(X_test) # 테스트 데이터는 훈련 데이터의 스케일러로 변환\n",
    "\n",
    "# 레이블 원-핫 인코딩 (e.g., 2 -> [0, 0, 1])\n",
    "y_train_one_hot = to_categorical(y_train)\n",
    "y_test_one_hot = to_categorical(y_test)\n",
    "\n",
    "print(\"스케일링된 첫 번째 훈련 데이터:\\\n",
    "\", X_train_scaled[0])\n",
    "print(\"원-핫 인코딩된 첫 번째 훈련 레이블:\", y_train_one_hot[0])"
   ]
  },
  {
   "cell_type": "markdown",
   "metadata": {},
   "source": [
    "## 4. 모델 구축 및 컴파일"
   ]
  },
  {
   "cell_type": "code",
   "execution_count": 4,
   "metadata": {},
   "outputs": [
    {
     "name": "stdout",
     "output_type": "stream",
     "text": [
      "WARNING:tensorflow:From c:\\Users\\Admin\\anaconda3\\envs\\aiops\\Lib\\site-packages\\keras\\src\\backend.py:873: The name tf.get_default_graph is deprecated. Please use tf.compat.v1.get_default_graph instead.\n",
      "\n",
      "WARNING:tensorflow:From c:\\Users\\Admin\\anaconda3\\envs\\aiops\\Lib\\site-packages\\keras\\src\\optimizers\\__init__.py:309: The name tf.train.Optimizer is deprecated. Please use tf.compat.v1.train.Optimizer instead.\n",
      "\n",
      "Model: \"sequential\"\n",
      "_________________________________________________________________\n",
      " Layer (type)                Output Shape              Param #   \n",
      "=================================================================\n",
      " dense (Dense)               (None, 64)                320       \n",
      "                                                                 \n",
      " dense_1 (Dense)             (None, 64)                4160      \n",
      "                                                                 \n",
      " dense_2 (Dense)             (None, 128)               8320      \n",
      "                                                                 \n",
      " dense_3 (Dense)             (None, 3)                 387       \n",
      "                                                                 \n",
      "=================================================================\n",
      "Total params: 13187 (51.51 KB)\n",
      "Trainable params: 13187 (51.51 KB)\n",
      "Non-trainable params: 0 (0.00 Byte)\n",
      "_________________________________________________________________\n"
     ]
    }
   ],
   "source": [
    "model = models.Sequential([\n",
    "    layers.Dense(64, activation='relu', input_shape=(X_train_scaled.shape[1],)),\n",
    "    layers.Dense(64, activation='relu'),\n",
    "    layers.Dense(128, activation='relu'),\n",
    "    layers.Dense(3, activation='softmax') # 3개의 클래스에 대한 확률을 출력\n",
    "])\n",
    "\n",
    "# 모델 컴파일\n",
    "model.compile(optimizer='rmsprop',\n",
    "              loss='categorical_crossentropy', # 다중 클래스 분류를 위한 손실 함수\n",
    "              metrics=['accuracy'])\n",
    "\n",
    "model.summary()"
   ]
  },
  {
   "cell_type": "markdown",
   "metadata": {},
   "source": [
    "## 5. 모델 학습"
   ]
  },
  {
   "cell_type": "code",
   "execution_count": 5,
   "metadata": {},
   "outputs": [
    {
     "name": "stdout",
     "output_type": "stream",
     "text": [
      "Epoch 1/50\n",
      "WARNING:tensorflow:From c:\\Users\\Admin\\anaconda3\\envs\\aiops\\Lib\\site-packages\\keras\\src\\utils\\tf_utils.py:492: The name tf.ragged.RaggedTensorValue is deprecated. Please use tf.compat.v1.ragged.RaggedTensorValue instead.\n",
      "\n",
      "WARNING:tensorflow:From c:\\Users\\Admin\\anaconda3\\envs\\aiops\\Lib\\site-packages\\keras\\src\\engine\\base_layer_utils.py:384: The name tf.executing_eagerly_outside_functions is deprecated. Please use tf.compat.v1.executing_eagerly_outside_functions instead.\n",
      "\n",
      "7/7 [==============================] - 1s 31ms/step - loss: 0.9150 - accuracy: 0.6381 - val_loss: 0.7756 - val_accuracy: 0.7333\n",
      "Epoch 2/50\n",
      "7/7 [==============================] - 0s 6ms/step - loss: 0.6451 - accuracy: 0.8571 - val_loss: 0.6085 - val_accuracy: 0.7333\n",
      "Epoch 3/50\n",
      "7/7 [==============================] - 0s 6ms/step - loss: 0.4856 - accuracy: 0.8667 - val_loss: 0.5275 - val_accuracy: 0.7333\n",
      "Epoch 4/50\n",
      "7/7 [==============================] - 0s 6ms/step - loss: 0.3907 - accuracy: 0.8571 - val_loss: 0.4459 - val_accuracy: 0.7556\n",
      "Epoch 5/50\n",
      "7/7 [==============================] - 0s 6ms/step - loss: 0.3291 - accuracy: 0.8857 - val_loss: 0.4117 - val_accuracy: 0.7778\n",
      "Epoch 6/50\n",
      "7/7 [==============================] - 0s 6ms/step - loss: 0.2813 - accuracy: 0.8952 - val_loss: 0.3733 - val_accuracy: 0.8222\n",
      "Epoch 7/50\n",
      "7/7 [==============================] - 0s 7ms/step - loss: 0.2559 - accuracy: 0.8952 - val_loss: 0.3445 - val_accuracy: 0.8000\n",
      "Epoch 8/50\n",
      "7/7 [==============================] - 0s 6ms/step - loss: 0.2199 - accuracy: 0.9143 - val_loss: 0.3241 - val_accuracy: 0.8222\n",
      "Epoch 9/50\n",
      "7/7 [==============================] - 0s 6ms/step - loss: 0.1976 - accuracy: 0.9143 - val_loss: 0.3056 - val_accuracy: 0.8444\n",
      "Epoch 10/50\n",
      "7/7 [==============================] - 0s 5ms/step - loss: 0.1728 - accuracy: 0.9429 - val_loss: 0.2835 - val_accuracy: 0.8444\n",
      "Epoch 11/50\n",
      "7/7 [==============================] - 0s 7ms/step - loss: 0.1543 - accuracy: 0.9429 - val_loss: 0.2699 - val_accuracy: 0.8889\n",
      "Epoch 12/50\n",
      "7/7 [==============================] - 0s 6ms/step - loss: 0.1389 - accuracy: 0.9524 - val_loss: 0.2600 - val_accuracy: 0.8667\n",
      "Epoch 13/50\n",
      "7/7 [==============================] - 0s 6ms/step - loss: 0.1396 - accuracy: 0.9429 - val_loss: 0.2445 - val_accuracy: 0.8667\n",
      "Epoch 14/50\n",
      "7/7 [==============================] - 0s 5ms/step - loss: 0.1175 - accuracy: 0.9619 - val_loss: 0.2331 - val_accuracy: 0.8889\n",
      "Epoch 15/50\n",
      "7/7 [==============================] - 0s 7ms/step - loss: 0.1111 - accuracy: 0.9714 - val_loss: 0.2253 - val_accuracy: 0.8889\n",
      "Epoch 16/50\n",
      "7/7 [==============================] - 0s 5ms/step - loss: 0.0970 - accuracy: 0.9619 - val_loss: 0.2251 - val_accuracy: 0.9333\n",
      "Epoch 17/50\n",
      "7/7 [==============================] - 0s 5ms/step - loss: 0.0978 - accuracy: 0.9714 - val_loss: 0.2509 - val_accuracy: 0.9333\n",
      "Epoch 18/50\n",
      "7/7 [==============================] - 0s 5ms/step - loss: 0.1021 - accuracy: 0.9429 - val_loss: 0.1991 - val_accuracy: 0.9333\n",
      "Epoch 19/50\n",
      "7/7 [==============================] - 0s 5ms/step - loss: 0.0846 - accuracy: 0.9619 - val_loss: 0.1908 - val_accuracy: 0.9333\n",
      "Epoch 20/50\n",
      "7/7 [==============================] - 0s 4ms/step - loss: 0.0759 - accuracy: 0.9810 - val_loss: 0.1997 - val_accuracy: 0.9333\n",
      "Epoch 21/50\n",
      "7/7 [==============================] - 0s 5ms/step - loss: 0.0729 - accuracy: 0.9810 - val_loss: 0.2256 - val_accuracy: 0.9111\n",
      "Epoch 22/50\n",
      "7/7 [==============================] - 0s 5ms/step - loss: 0.0691 - accuracy: 0.9810 - val_loss: 0.1757 - val_accuracy: 0.9333\n",
      "Epoch 23/50\n",
      "7/7 [==============================] - 0s 5ms/step - loss: 0.0675 - accuracy: 0.9810 - val_loss: 0.1776 - val_accuracy: 0.9333\n",
      "Epoch 24/50\n",
      "7/7 [==============================] - 0s 5ms/step - loss: 0.0633 - accuracy: 0.9714 - val_loss: 0.1643 - val_accuracy: 0.9556\n",
      "Epoch 25/50\n",
      "7/7 [==============================] - 0s 6ms/step - loss: 0.0568 - accuracy: 0.9810 - val_loss: 0.1716 - val_accuracy: 0.9333\n",
      "Epoch 26/50\n",
      "7/7 [==============================] - 0s 5ms/step - loss: 0.0556 - accuracy: 0.9810 - val_loss: 0.1654 - val_accuracy: 0.9333\n",
      "Epoch 27/50\n",
      "7/7 [==============================] - 0s 5ms/step - loss: 0.0564 - accuracy: 0.9810 - val_loss: 0.1522 - val_accuracy: 0.9556\n",
      "Epoch 28/50\n",
      "7/7 [==============================] - 0s 5ms/step - loss: 0.0496 - accuracy: 0.9810 - val_loss: 0.1581 - val_accuracy: 0.9556\n",
      "Epoch 29/50\n",
      "7/7 [==============================] - 0s 5ms/step - loss: 0.0498 - accuracy: 0.9810 - val_loss: 0.1544 - val_accuracy: 0.9556\n",
      "Epoch 30/50\n",
      "7/7 [==============================] - 0s 6ms/step - loss: 0.0462 - accuracy: 0.9810 - val_loss: 0.1554 - val_accuracy: 0.9333\n",
      "Epoch 31/50\n",
      "7/7 [==============================] - 0s 6ms/step - loss: 0.0464 - accuracy: 0.9810 - val_loss: 0.1451 - val_accuracy: 0.9556\n",
      "Epoch 32/50\n",
      "7/7 [==============================] - 0s 5ms/step - loss: 0.0442 - accuracy: 0.9905 - val_loss: 0.1428 - val_accuracy: 0.9556\n",
      "Epoch 33/50\n",
      "7/7 [==============================] - 0s 6ms/step - loss: 0.0421 - accuracy: 0.9905 - val_loss: 0.1927 - val_accuracy: 0.9333\n",
      "Epoch 34/50\n",
      "7/7 [==============================] - 0s 5ms/step - loss: 0.0390 - accuracy: 1.0000 - val_loss: 0.1548 - val_accuracy: 0.9556\n",
      "Epoch 35/50\n",
      "7/7 [==============================] - 0s 4ms/step - loss: 0.0334 - accuracy: 0.9905 - val_loss: 0.1582 - val_accuracy: 0.9556\n",
      "Epoch 36/50\n",
      "7/7 [==============================] - 0s 5ms/step - loss: 0.0517 - accuracy: 0.9810 - val_loss: 0.1466 - val_accuracy: 0.9556\n",
      "Epoch 37/50\n",
      "7/7 [==============================] - 0s 5ms/step - loss: 0.0373 - accuracy: 0.9905 - val_loss: 0.1597 - val_accuracy: 0.9556\n",
      "Epoch 38/50\n",
      "7/7 [==============================] - 0s 5ms/step - loss: 0.0338 - accuracy: 0.9905 - val_loss: 0.1549 - val_accuracy: 0.9556\n",
      "Epoch 39/50\n",
      "7/7 [==============================] - 0s 5ms/step - loss: 0.0472 - accuracy: 0.9810 - val_loss: 0.1536 - val_accuracy: 0.9556\n",
      "Epoch 40/50\n",
      "7/7 [==============================] - 0s 5ms/step - loss: 0.0354 - accuracy: 0.9905 - val_loss: 0.1500 - val_accuracy: 0.9556\n",
      "Epoch 41/50\n",
      "7/7 [==============================] - 0s 5ms/step - loss: 0.0319 - accuracy: 0.9905 - val_loss: 0.1455 - val_accuracy: 0.9556\n",
      "Epoch 42/50\n",
      "7/7 [==============================] - 0s 7ms/step - loss: 0.0335 - accuracy: 0.9905 - val_loss: 0.1553 - val_accuracy: 0.9556\n",
      "Epoch 43/50\n",
      "7/7 [==============================] - 0s 5ms/step - loss: 0.0320 - accuracy: 0.9810 - val_loss: 0.1490 - val_accuracy: 0.9556\n",
      "Epoch 44/50\n",
      "7/7 [==============================] - 0s 6ms/step - loss: 0.0333 - accuracy: 0.9810 - val_loss: 0.1507 - val_accuracy: 0.9556\n",
      "Epoch 45/50\n",
      "7/7 [==============================] - 0s 6ms/step - loss: 0.0336 - accuracy: 0.9810 - val_loss: 0.1439 - val_accuracy: 0.9556\n",
      "Epoch 46/50\n",
      "7/7 [==============================] - 0s 4ms/step - loss: 0.0321 - accuracy: 0.9905 - val_loss: 0.1548 - val_accuracy: 0.9556\n",
      "Epoch 47/50\n",
      "7/7 [==============================] - 0s 7ms/step - loss: 0.0288 - accuracy: 0.9905 - val_loss: 0.1628 - val_accuracy: 0.9556\n",
      "Epoch 48/50\n",
      "7/7 [==============================] - 0s 6ms/step - loss: 0.0284 - accuracy: 0.9905 - val_loss: 0.1636 - val_accuracy: 0.9556\n",
      "Epoch 49/50\n",
      "7/7 [==============================] - 0s 5ms/step - loss: 0.0300 - accuracy: 0.9905 - val_loss: 0.1503 - val_accuracy: 0.9556\n",
      "Epoch 50/50\n",
      "7/7 [==============================] - 0s 5ms/step - loss: 0.0280 - accuracy: 0.9905 - val_loss: 0.1529 - val_accuracy: 0.9556\n"
     ]
    }
   ],
   "source": [
    "history = model.fit(X_train_scaled, y_train_one_hot,\n",
    "                    epochs=50, # 에포크 50으로 증가\n",
    "                    batch_size=16, # 배치 사이즈 조정\n",
    "                    validation_data=(X_test_scaled, y_test_one_hot), # 검증 데이터 추가\n",
    "                    verbose=1)"
   ]
  },
  {
   "cell_type": "markdown",
   "metadata": {},
   "source": [
    "## 6. 학습 결과 시각화"
   ]
  },
  {
   "cell_type": "code",
   "execution_count": 6,
   "metadata": {},
   "outputs": [
    {
     "data": {
      "image/png": "[encoded data removed]",
      "text/plain": [
       "<Figure size 1200x500 with 2 Axes>"
      ]
     },
     "metadata": {},
     "output_type": "display_data"
    }
   ],
   "source": [
    "history_dict = history.history\n",
    "acc = history_dict['accuracy']\n",
    "val_acc = history_dict['val_accuracy']\n",
    "loss = history_dict['loss']\n",
    "val_loss = history_dict['val_loss']\n",
    "epochs = range(1, len(acc) + 1)\n",
    "\n",
    "plt.figure(figsize=(12, 5))\n",
    "\n",
    "# 정확도 그래프\n",
    "plt.subplot(1, 2, 1)\n",
    "plt.plot(epochs, acc, 'bo', label='Training accuracy')\n",
    "plt.plot(epochs, val_acc, 'b', label='Validation accuracy')\n",
    "plt.title('Training and validation accuracy')\n",
    "plt.xlabel('Epochs')\n",
    "plt.ylabel('Accuracy')\n",
    "plt.legend()\n",
    "\n",
    "# 손실 그래프\n",
    "plt.subplot(1, 2, 2)\n",
    "plt.plot(epochs, loss, 'bo', label='Training loss')\n",
    "plt.plot(epochs, val_loss, 'b', label='Validation loss')\n",
    "plt.title('Training and validation loss')\n",
    "plt.xlabel('Epochs')\n",
    "plt.ylabel('Loss')\n",
    "plt.legend()\n",
    "\n",
    "plt.show()"
   ]
  },
  {
   "cell_type": "markdown",
   "metadata": {},
   "source": [
    "## 7. 모델 평가"
   ]
  },
  {
   "cell_type": "code",
   "execution_count": 7,
   "metadata": {},
   "outputs": [
    {
     "name": "stdout",
     "output_type": "stream",
     "text": [
      "--- 테스트 데이터셋 최종 평가 ---\n",
      "2/2 [==============================] - 0s 0s/step - loss: 0.1529 - accuracy: 0.9556\n",
      "테스트 손실: 0.1529\n",
      "테스트 정확도: 0.9556\n"
     ]
    }
   ],
   "source": [
    "print(\"--- 테스트 데이터셋 최종 평가 ---\")\n",
    "test_loss, test_acc = model.evaluate(X_test_scaled, y_test_one_hot)\n",
    "print(f\"테스트 손실: {test_loss:.4f}\")\n",
    "print(f\"테스트 정확도: {test_acc:.4f}\")"
   ]
  }
 ],
 "metadata": {
  "kernelspec": {
   "display_name": "aiops",
   "language": "python",
   "name": "python3"
  },
  "language_info": {
   "codemirror_mode": {
    "name": "ipython",
    "version": 3
   },
   "file_extension": ".py",
   "mimetype": "text/x-python",
   "name": "python",
   "nbconvert_exporter": "python",
   "pygments_lexer": "ipython3",
   "version": "3.11.13"
  }
 },
 "nbformat": 4,
 "nbformat_minor": 5
}
