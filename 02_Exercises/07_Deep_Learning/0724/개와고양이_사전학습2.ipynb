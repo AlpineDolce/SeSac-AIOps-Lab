{
 "cells": [
  {
   "cell_type": "markdown",
   "metadata": {},
   "source": [
    "# 개와 고양이 분류 (사전 학습 모델 VGG19 - 인라인 방식)"
   ]
  },
  {
   "cell_type": "markdown",
   "metadata": {},
   "source": [
    "이 노트북은 사전 학습된 VGG19 모델을 사용하여 개와 고양이 이미지를 분류합니다. \n",
    "**인라인(Inline) 특성 추출** 방식을 사용하여, VGG19의 합성곱 기반(Convolutional Base)과 새로운 분류기를 하나의 모델로 통합합니다.\n",
    "\n",
    "**장점:**\n",
    "- 데이터 증강(Data Augmentation)이 원본 이미지에 직접 적용되어 과적합을 효과적으로 방지합니다.\n",
    "- 전체 프로세스가 단일 모델 학습으로 이루어져 코드가 더 간결합니다.\n",
    "\n",
    "**단점:**\n",
    "- 2단계 방식보다 학습 속도가 느립니다 (매 에포크마다 VGG19 특성 추출을 반복해야 함)."
   ]
  },
  {
   "cell_type": "markdown",
   "metadata": {},
   "source": [
    "## 1. 라이브러리 임포트"
   ]
  },
  {
   "cell_type": "code",
   "execution_count": 1,
   "metadata": {},
   "outputs": [
    {
     "name": "stdout",
     "output_type": "stream",
     "text": [
      "WARNING:tensorflow:From c:\\Users\\Admin\\anaconda3\\envs\\aiops\\Lib\\site-packages\\keras\\src\\losses.py:2976: The name tf.losses.sparse_softmax_cross_entropy is deprecated. Please use tf.compat.v1.losses.sparse_softmax_cross_entropy instead.\n",
      "\n"
     ]
    }
   ],
   "source": [
    "import os\n",
    "import shutil\n",
    "import pathlib\n",
    "import numpy as np\n",
    "import tensorflow as tf\n",
    "from tensorflow import keras\n",
    "from keras import layers, models, applications\n",
    "import matplotlib.pyplot as plt"
   ]
  },
  {
   "cell_type": "markdown",
   "metadata": {},
   "source": [
    "## 2. 데이터 준비"
   ]
  },
  {
   "cell_type": "markdown",
   "metadata": {},
   "source": [
    "### 2.1. 데이터셋 다운로드 및 손상된 파일 제거"
   ]
  },
  {
   "cell_type": "code",
   "execution_count": 2,
   "metadata": {},
   "outputs": [
    {
     "name": "stdout",
     "output_type": "stream",
     "text": [
      "원본 데이터 경로: C:\\Users\\Admin\\.keras\\datasets\\PetImages\n",
      "손상되었거나 읽을 수 없는 이미지 1578개를 삭제했습니다.\n"
     ]
    }
   ],
   "source": [
    "dataset_url = 'https://download.microsoft.com/download/3/E/1/3E1C3F21-ECDB-4869-8368-6DEBA77B919F/kagglecatsanddogs_5340.zip'\n",
    "zip_path = tf.keras.utils.get_file('kagglecatsanddogs.zip', origin=dataset_url, extract=True)\n",
    "original_dir = pathlib.Path(zip_path).parent / 'PetImages'\n",
    "\n",
    "# 손상된 이미지 제거 (파일이 아니거나 읽을 수 없는 파일 포함)\n",
    "print(f\"원본 데이터 경로: {original_dir}\")\n",
    "num_skipped = 0\n",
    "for folder_name in (\"Cat\", \"Dog\"):\n",
    "    folder_path = original_dir / folder_name\n",
    "    if not folder_path.is_dir():\n",
    "        print(f\"경고: '{folder_path}' 디렉토리를 찾을 수 없습니다.\")\n",
    "        continue\n",
    "    for fname in os.listdir(folder_path):\n",
    "        fpath = folder_path / fname\n",
    "        # 파일이 아니면 건너뛰기\n",
    "        if not fpath.is_file():\n",
    "            continue\n",
    "        try:\n",
    "            with open(fpath, \"rb\") as fobj:\n",
    "                is_jfif = tf.compat.as_bytes(\"JFIF\") in fobj.peek(10)\n",
    "        except Exception as e:\n",
    "            # 파일을 열거나 읽는 데 실패하면 손상된 것으로 간주\n",
    "            print(f\"파일 읽기 오류 {fpath}: {e}\")\n",
    "            is_jfif = False\n",
    "        if not is_jfif:\n",
    "            num_skipped += 1\n",
    "            os.remove(fpath)\n",
    "\n",
    "print(f\"손상되었거나 읽을 수 없는 이미지 {num_skipped}개를 삭제했습니다.\")"
   ]
  },
  {
   "cell_type": "markdown",
   "metadata": {},
   "source": [
    "### 2.2. 훈련/검증/테스트용 서브셋 생성"
   ]
  },
  {
   "cell_type": "code",
   "execution_count": 3,
   "metadata": {},
   "outputs": [
    {
     "name": "stdout",
     "output_type": "stream",
     "text": [
      "훈련, 검증, 테스트 서브셋을 새로 생성합니다...\n",
      "'train' 서브셋 생성 완료: Cats=1000, Dogs=1000\n",
      "'validation' 서브셋 생성 완료: Cats=500, Dogs=500\n",
      "'test' 서브셋 생성 완료: Cats=500, Dogs=500\n"
     ]
    }
   ],
   "source": [
    "new_base_dir = pathlib.Path(\"./cats_vs_dogs_small_inline\")\n",
    "\n",
    "def make_subset(subset_name, start_index, end_index):\n",
    "    for category in (\"Cat\", \"Dog\"):\n",
    "        dir = new_base_dir / subset_name / category\n",
    "        os.makedirs(dir, exist_ok=True)\n",
    "        \n",
    "        # 재현성을 위해 파일 목록을 정렬\n",
    "        fnames = sorted(os.listdir(original_dir / category))\n",
    "        selected_fnames = fnames[start_index:end_index]\n",
    "        \n",
    "        for fname in selected_fnames:\n",
    "            shutil.copyfile(src=original_dir / category / fname, dst=dir / fname)\n",
    "            \n",
    "    # 생성된 파일 수 확인\n",
    "    cat_count = len(os.listdir(new_base_dir / subset_name / 'Cat'))\n",
    "    dog_count = len(os.listdir(new_base_dir / subset_name / 'Dog'))\n",
    "    print(f\"'{subset_name}' 서브셋 생성 완료: Cats={cat_count}, Dogs={dog_count}\")\n",
    "\n",
    "# 서브셋 디렉토리가 비어있을 경우에만 생성\n",
    "if not new_base_dir.exists() or not any((new_base_dir / 'train').iterdir()):\n",
    "    print(\"훈련, 검증, 테스트 서브셋을 새로 생성합니다...\")\n",
    "    make_subset(\"train\", start_index=0, end_index=1000)\n",
    "    make_subset(\"validation\", start_index=1000, end_index=1500)\n",
    "    make_subset(\"test\", start_index=1500, end_index=2000)\n",
    "else:\n",
    "    print(\"서브셋 디렉토리가 이미 존재하여 재생성하지 않습니다.\")"
   ]
  },
  {
   "cell_type": "markdown",
   "metadata": {},
   "source": [
    "## 3. 모델 정의 (인라인 방식)"
   ]
  },
  {
   "cell_type": "markdown",
   "metadata": {},
   "source": [
    "### 3.1. 데이터 증강 및 VGG19 기반 모델 로드"
   ]
  },
  {
   "cell_type": "code",
   "execution_count": 4,
   "metadata": {},
   "outputs": [
    {
     "name": "stdout",
     "output_type": "stream",
     "text": [
      "WARNING:tensorflow:From c:\\Users\\Admin\\anaconda3\\envs\\aiops\\Lib\\site-packages\\keras\\src\\backend.py:873: The name tf.get_default_graph is deprecated. Please use tf.compat.v1.get_default_graph instead.\n",
      "\n",
      "WARNING:tensorflow:From c:\\Users\\Admin\\anaconda3\\envs\\aiops\\Lib\\site-packages\\keras\\src\\layers\\pooling\\max_pooling2d.py:161: The name tf.nn.max_pool is deprecated. Please use tf.nn.max_pool2d instead.\n",
      "\n",
      "VGG19 동결 전 훈련 가능 가중치 수: 0\n",
      "VGG19 동결 후 훈련 가능 가중치 수: 0\n"
     ]
    }
   ],
   "source": [
    "# 데이터 증강 레이어\n",
    "data_augmentation = keras.Sequential([\n",
    "    layers.RandomFlip(\"horizontal\"),\n",
    "    layers.RandomRotation(0.1),\n",
    "    layers.RandomZoom(0.2),\n",
    "]) \n",
    "\n",
    "# VGG19 합성곱 기반 로드\n",
    "conv_base = applications.vgg19.VGG19(\n",
    "    weights=\"imagenet\",\n",
    "    include_top=False,\n",
    "    input_shape=(180, 180, 3)\n",
    ")\n",
    "\n",
    "# VGG19의 가중치가 훈련 중에 업데이트되지 않도록 동결\n",
    "conv_base.trainable = False\n",
    "\n",
    "print(f\"VGG19 동결 전 훈련 가능 가중치 수: {len(conv_base.trainable_weights)}\")\n",
    "print(f\"VGG19 동결 후 훈련 가능 가중치 수: {len(conv_base.trainable_weights)}\")"
   ]
  },
  {
   "cell_type": "markdown",
   "metadata": {},
   "source": [
    "### 3.2. 전체 모델 구성"
   ]
  },
  {
   "cell_type": "code",
   "execution_count": 8,
   "metadata": {},
   "outputs": [
    {
     "name": "stdout",
     "output_type": "stream",
     "text": [
      "Model: \"model_1\"\n",
      "_________________________________________________________________\n",
      " Layer (type)                Output Shape              Param #   \n",
      "=================================================================\n",
      " input_3 (InputLayer)        [(None, 180, 180, 3)]     0         \n",
      "                                                                 \n",
      " sequential (Sequential)     (None, 180, 180, 3)       0         \n",
      "                                                                 \n",
      " tf.__operators__.getitem_1  (None, 180, 180, 3)       0         \n",
      "  (SlicingOpLambda)                                              \n",
      "                                                                 \n",
      " tf.nn.bias_add_1 (TFOpLamb  (None, 180, 180, 3)       0         \n",
      " da)                                                             \n",
      "                                                                 \n",
      " vgg19 (Functional)          (None, 5, 5, 512)         20024384  \n",
      "                                                                 \n",
      " flatten_1 (Flatten)         (None, 12800)             0         \n",
      "                                                                 \n",
      " dense_2 (Dense)             (None, 256)               3277056   \n",
      "                                                                 \n",
      " dropout_1 (Dropout)         (None, 256)               0         \n",
      "                                                                 \n",
      " dense_3 (Dense)             (None, 1)                 257       \n",
      "                                                                 \n",
      "=================================================================\n",
      "Total params: 23301697 (88.89 MB)\n",
      "Trainable params: 3277313 (12.50 MB)\n",
      "Non-trainable params: 20024384 (76.39 MB)\n",
      "_________________________________________________________________\n"
     ]
    }
   ],
   "source": [
    "inputs = keras.Input(shape=(180, 180, 3))\n",
    "\n",
    "# 1. 데이터 증강\n",
    "x = data_augmentation(inputs)\n",
    "\n",
    "# 2. VGG19에 맞는 전처리\n",
    "x = applications.vgg19.preprocess_input(x)\n",
    "\n",
    "# 3. VGG19 특성 추출\n",
    "x = conv_base(x)\n",
    "\n",
    "# 4. 새로운 분류기\n",
    "x = layers.Flatten()(x)\n",
    "x = layers.Dense(256, activation='relu')(x)\n",
    "x = layers.Dropout(0.5)(x)\n",
    "outputs = layers.Dense(1, activation='sigmoid')(x)\n",
    "\n",
    "model = keras.Model(inputs, outputs)\n",
    "\n",
    "model.compile(loss='binary_crossentropy',\n",
    "              optimizer=keras.optimizers.RMSprop(learning_rate=1e-5),\n",
    "              metrics=['accuracy'])\n",
    "\n",
    "model.summary()"
   ]
  },
  {
   "cell_type": "markdown",
   "metadata": {},
   "source": [
    "## 4. 모델 학습"
   ]
  },
  {
   "cell_type": "code",
   "execution_count": 10,
   "metadata": {},
   "outputs": [
    {
     "name": "stdout",
     "output_type": "stream",
     "text": [
      "Found 2000 files belonging to 2 classes.\n",
      "Found 1000 files belonging to 2 classes.\n",
      "Found 1000 files belonging to 2 classes.\n",
      "Epoch 1/30\n",
      "63/63 [==============================] - 102s 2s/step - loss: 2.2448 - accuracy: 0.8005 - val_loss: 0.5669 - val_accuracy: 0.9360\n",
      "Epoch 2/30\n",
      "63/63 [==============================] - 103s 2s/step - loss: 1.5445 - accuracy: 0.8555 - val_loss: 0.4567 - val_accuracy: 0.9490\n",
      "Epoch 3/30\n",
      "63/63 [==============================] - 103s 2s/step - loss: 1.1587 - accuracy: 0.8775 - val_loss: 0.4336 - val_accuracy: 0.9540\n",
      "Epoch 4/30\n",
      "63/63 [==============================] - 102s 2s/step - loss: 1.2160 - accuracy: 0.8805 - val_loss: 0.4014 - val_accuracy: 0.9530\n",
      "Epoch 5/30\n",
      "63/63 [==============================] - 103s 2s/step - loss: 0.9963 - accuracy: 0.9000 - val_loss: 0.3942 - val_accuracy: 0.9570\n",
      "Epoch 6/30\n",
      "63/63 [==============================] - 103s 2s/step - loss: 0.9041 - accuracy: 0.9165 - val_loss: 0.3752 - val_accuracy: 0.9550\n",
      "Epoch 7/30\n",
      "63/63 [==============================] - 103s 2s/step - loss: 0.7524 - accuracy: 0.9115 - val_loss: 0.3344 - val_accuracy: 0.9610\n",
      "Epoch 8/30\n",
      "63/63 [==============================] - 103s 2s/step - loss: 0.6991 - accuracy: 0.9185 - val_loss: 0.3377 - val_accuracy: 0.9670\n",
      "Epoch 9/30\n",
      "63/63 [==============================] - 105s 2s/step - loss: 0.6127 - accuracy: 0.9330 - val_loss: 0.3239 - val_accuracy: 0.9680\n",
      "Epoch 10/30\n",
      "63/63 [==============================] - 105s 2s/step - loss: 0.6145 - accuracy: 0.9310 - val_loss: 0.3111 - val_accuracy: 0.9690\n",
      "Epoch 11/30\n",
      "63/63 [==============================] - 105s 2s/step - loss: 0.5901 - accuracy: 0.9335 - val_loss: 0.3145 - val_accuracy: 0.9690\n",
      "Epoch 12/30\n",
      "63/63 [==============================] - 105s 2s/step - loss: 0.5206 - accuracy: 0.9275 - val_loss: 0.3119 - val_accuracy: 0.9710\n",
      "Epoch 13/30\n",
      "63/63 [==============================] - 106s 2s/step - loss: 0.5576 - accuracy: 0.9290 - val_loss: 0.3039 - val_accuracy: 0.9690\n",
      "Epoch 14/30\n",
      "63/63 [==============================] - 107s 2s/step - loss: 0.4345 - accuracy: 0.9480 - val_loss: 0.2974 - val_accuracy: 0.9720\n",
      "Epoch 15/30\n",
      "63/63 [==============================] - 105s 2s/step - loss: 0.4769 - accuracy: 0.9345 - val_loss: 0.2925 - val_accuracy: 0.9720\n",
      "Epoch 16/30\n",
      "63/63 [==============================] - 107s 2s/step - loss: 0.4634 - accuracy: 0.9465 - val_loss: 0.3118 - val_accuracy: 0.9710\n",
      "Epoch 17/30\n",
      "63/63 [==============================] - 108s 2s/step - loss: 0.4026 - accuracy: 0.9410 - val_loss: 0.2902 - val_accuracy: 0.9720\n",
      "Epoch 18/30\n",
      "63/63 [==============================] - 109s 2s/step - loss: 0.5214 - accuracy: 0.9415 - val_loss: 0.3201 - val_accuracy: 0.9680\n",
      "Epoch 19/30\n",
      "63/63 [==============================] - 108s 2s/step - loss: 0.4144 - accuracy: 0.9485 - val_loss: 0.2927 - val_accuracy: 0.9720\n",
      "Epoch 20/30\n",
      "63/63 [==============================] - 106s 2s/step - loss: 0.4177 - accuracy: 0.9420 - val_loss: 0.2776 - val_accuracy: 0.9750\n",
      "Epoch 21/30\n",
      "63/63 [==============================] - 106s 2s/step - loss: 0.3717 - accuracy: 0.9425 - val_loss: 0.2800 - val_accuracy: 0.9740\n",
      "Epoch 22/30\n",
      "63/63 [==============================] - 106s 2s/step - loss: 0.3700 - accuracy: 0.9475 - val_loss: 0.2675 - val_accuracy: 0.9750\n",
      "Epoch 23/30\n",
      "63/63 [==============================] - 105s 2s/step - loss: 0.2969 - accuracy: 0.9550 - val_loss: 0.2744 - val_accuracy: 0.9730\n",
      "Epoch 24/30\n",
      "63/63 [==============================] - 107s 2s/step - loss: 0.3134 - accuracy: 0.9570 - val_loss: 0.2561 - val_accuracy: 0.9750\n",
      "Epoch 25/30\n",
      "63/63 [==============================] - 108s 2s/step - loss: 0.3023 - accuracy: 0.9555 - val_loss: 0.2653 - val_accuracy: 0.9760\n",
      "Epoch 26/30\n",
      "63/63 [==============================] - 111s 2s/step - loss: 0.2889 - accuracy: 0.9535 - val_loss: 0.2536 - val_accuracy: 0.9740\n",
      "Epoch 27/30\n",
      "63/63 [==============================] - 107s 2s/step - loss: 0.2965 - accuracy: 0.9520 - val_loss: 0.2515 - val_accuracy: 0.9750\n",
      "Epoch 28/30\n",
      "63/63 [==============================] - 107s 2s/step - loss: 0.3166 - accuracy: 0.9535 - val_loss: 0.2554 - val_accuracy: 0.9750\n",
      "Epoch 29/30\n",
      "63/63 [==============================] - 108s 2s/step - loss: 0.2972 - accuracy: 0.9470 - val_loss: 0.2552 - val_accuracy: 0.9750\n",
      "Epoch 30/30\n",
      "63/63 [==============================] - 110s 2s/step - loss: 0.2482 - accuracy: 0.9590 - val_loss: 0.2539 - val_accuracy: 0.9750\n"
     ]
    }
   ],
   "source": [
    "from keras.utils import image_dataset_from_directory\n",
    "\n",
    "BATCH_SIZE = 32\n",
    "IMAGE_SIZE = (180, 180)\n",
    "\n",
    "train_ds = image_dataset_from_directory(\n",
    "    new_base_dir / \"train\",\n",
    "    image_size=IMAGE_SIZE,\n",
    "    batch_size=BATCH_SIZE\n",
    ")\n",
    "validation_ds = image_dataset_from_directory(\n",
    "    new_base_dir / \"validation\",\n",
    "    image_size=IMAGE_SIZE,\n",
    "    batch_size=BATCH_SIZE\n",
    ")\n",
    "test_ds = image_dataset_from_directory(\n",
    "    new_base_dir / \"test\",\n",
    "    image_size=IMAGE_SIZE,\n",
    "    batch_size=BATCH_SIZE\n",
    ")\n",
    "\n",
    "callbacks = [\n",
    "    keras.callbacks.ModelCheckpoint(\n",
    "        filepath=\"inline_feature_extraction.keras\",\n",
    "        save_best_only=True,\n",
    "        save_weights_only=True,\n",
    "        monitor=\"val_loss\"\n",
    "    )\n",
    "]\n",
    "\n",
    "history = model.fit(\n",
    "    train_ds,\n",
    "    epochs=30, # 충분한 학습을 위해 에포크 수 증가\n",
    "    validation_data=validation_ds,\n",
    "    callbacks=callbacks\n",
    ")"
   ]
  },
  {
   "cell_type": "markdown",
   "metadata": {},
   "source": [
    "## 5. 학습 결과 시각화"
   ]
  },
  {
   "cell_type": "code",
   "execution_count": 11,
   "metadata": {},
   "outputs": [
    {
     "data": {
      "image/png": "[encoded data removed]",
      "text/plain": [
       "<Figure size 1200x500 with 2 Axes>"
      ]
     },
     "metadata": {},
     "output_type": "display_data"
    }
   ],
   "source": [
    "acc = history.history['accuracy']\n",
    "val_acc = history.history['val_accuracy']\n",
    "loss = history.history['loss']\n",
    "val_loss = history.history['val_loss']\n",
    "epochs = range(1, len(acc) + 1)\n",
    "\n",
    "plt.figure(figsize=(12, 5))\n",
    "\n",
    "plt.subplot(1, 2, 1)\n",
    "plt.plot(epochs, acc, 'bo', label='Training accuracy')\n",
    "plt.plot(epochs, val_acc, 'b', label='Validation accuracy')\n",
    "plt.title('Training and validation accuracy')\n",
    "plt.legend()\n",
    "\n",
    "plt.subplot(1, 2, 2)\n",
    "plt.plot(epochs, loss, 'bo', label='Training loss')\n",
    "plt.plot(epochs, val_loss, 'b', label='Validation loss')\n",
    "plt.title('Training and validation loss')\n",
    "plt.legend()\n",
    "\n",
    "plt.show()"
   ]
  },
  {
   "cell_type": "markdown",
   "metadata": {},
   "source": [
    "## 6. 모델 평가"
   ]
  },
  {
   "cell_type": "code",
   "execution_count": 27,
   "metadata": {},
   "outputs": [
    {
     "ename": "ValueError",
     "evalue": "Layer count mismatch when loading weights from file. Model expected 2 layers, found 3 saved layers.",
     "output_type": "error",
     "traceback": [
      "\u001b[31m---------------------------------------------------------------------------\u001b[39m",
      "\u001b[31mValueError\u001b[39m                                Traceback (most recent call last)",
      "\u001b[36mCell\u001b[39m\u001b[36m \u001b[39m\u001b[32mIn[27]\u001b[39m\u001b[32m, line 10\u001b[39m\n\u001b[32m      2\u001b[39m best_model = keras.Sequential([\n\u001b[32m      3\u001b[39m     \u001b[38;5;66;03m# 모델 구조를 여기에 맞게 정의해야 합니다.\u001b[39;00m\n\u001b[32m      4\u001b[39m     keras.layers.InputLayer(input_shape=(\u001b[32m180\u001b[39m,\u001b[32m180\u001b[39m)),  \u001b[38;5;66;03m# 실제 입력 형태로 변경\u001b[39;00m\n\u001b[32m      5\u001b[39m     keras.layers.Dense(\u001b[32m128\u001b[39m, activation=\u001b[33m'\u001b[39m\u001b[33mrelu\u001b[39m\u001b[33m'\u001b[39m),\n\u001b[32m      6\u001b[39m     keras.layers.Dense(\u001b[32m10\u001b[39m, activation=\u001b[33m'\u001b[39m\u001b[33msoftmax\u001b[39m\u001b[33m'\u001b[39m)\n\u001b[32m      7\u001b[39m ])\n\u001b[32m      9\u001b[39m \u001b[38;5;66;03m# 가중치만 로드합니다.\u001b[39;00m\n\u001b[32m---> \u001b[39m\u001b[32m10\u001b[39m \u001b[43mbest_model\u001b[49m\u001b[43m.\u001b[49m\u001b[43mload_weights\u001b[49m\u001b[43m(\u001b[49m\u001b[33;43m\"\u001b[39;49m\u001b[33;43minline_feature_extraction.keras\u001b[39;49m\u001b[33;43m\"\u001b[39;49m\u001b[43m)\u001b[49m\n\u001b[32m     12\u001b[39m \u001b[38;5;66;03m# 테스트 데이터셋으로 최종 모델을 평가합니다.\u001b[39;00m\n\u001b[32m     13\u001b[39m \u001b[38;5;28mprint\u001b[39m(\u001b[33m\"\u001b[39m\u001b[33m테스트 데이터셋으로 최종 모델을 평가합니다...\u001b[39m\u001b[33m\"\u001b[39m)\n",
      "\u001b[36mFile \u001b[39m\u001b[32mc:\\Users\\Admin\\anaconda3\\envs\\aiops\\Lib\\site-packages\\keras\\src\\utils\\traceback_utils.py:70\u001b[39m, in \u001b[36mfilter_traceback.<locals>.error_handler\u001b[39m\u001b[34m(*args, **kwargs)\u001b[39m\n\u001b[32m     67\u001b[39m     filtered_tb = _process_traceback_frames(e.__traceback__)\n\u001b[32m     68\u001b[39m     \u001b[38;5;66;03m# To get the full stack trace, call:\u001b[39;00m\n\u001b[32m     69\u001b[39m     \u001b[38;5;66;03m# `tf.debugging.disable_traceback_filtering()`\u001b[39;00m\n\u001b[32m---> \u001b[39m\u001b[32m70\u001b[39m     \u001b[38;5;28;01mraise\u001b[39;00m e.with_traceback(filtered_tb) \u001b[38;5;28;01mfrom\u001b[39;00m\u001b[38;5;250m \u001b[39m\u001b[38;5;28;01mNone\u001b[39;00m\n\u001b[32m     71\u001b[39m \u001b[38;5;28;01mfinally\u001b[39;00m:\n\u001b[32m     72\u001b[39m     \u001b[38;5;28;01mdel\u001b[39;00m filtered_tb\n",
      "\u001b[36mFile \u001b[39m\u001b[32mc:\\Users\\Admin\\anaconda3\\envs\\aiops\\Lib\\site-packages\\keras\\src\\saving\\legacy\\hdf5_format.py:819\u001b[39m, in \u001b[36mload_weights_from_hdf5_group\u001b[39m\u001b[34m(f, model)\u001b[39m\n\u001b[32m    817\u001b[39m layer_names = filtered_layer_names\n\u001b[32m    818\u001b[39m \u001b[38;5;28;01mif\u001b[39;00m \u001b[38;5;28mlen\u001b[39m(layer_names) != \u001b[38;5;28mlen\u001b[39m(filtered_layers):\n\u001b[32m--> \u001b[39m\u001b[32m819\u001b[39m     \u001b[38;5;28;01mraise\u001b[39;00m \u001b[38;5;167;01mValueError\u001b[39;00m(\n\u001b[32m    820\u001b[39m         \u001b[33m\"\u001b[39m\u001b[33mLayer count mismatch when loading weights from file. \u001b[39m\u001b[33m\"\u001b[39m\n\u001b[32m    821\u001b[39m         \u001b[33mf\u001b[39m\u001b[33m\"\u001b[39m\u001b[33mModel expected \u001b[39m\u001b[38;5;132;01m{\u001b[39;00m\u001b[38;5;28mlen\u001b[39m(filtered_layers)\u001b[38;5;132;01m}\u001b[39;00m\u001b[33m layers, found \u001b[39m\u001b[33m\"\u001b[39m\n\u001b[32m    822\u001b[39m         \u001b[33mf\u001b[39m\u001b[33m\"\u001b[39m\u001b[38;5;132;01m{\u001b[39;00m\u001b[38;5;28mlen\u001b[39m(layer_names)\u001b[38;5;132;01m}\u001b[39;00m\u001b[33m saved layers.\u001b[39m\u001b[33m\"\u001b[39m\n\u001b[32m    823\u001b[39m     )\n\u001b[32m    825\u001b[39m \u001b[38;5;66;03m# We batch weight value assignments in a single backend call\u001b[39;00m\n\u001b[32m    826\u001b[39m \u001b[38;5;66;03m# which provides a speedup in TensorFlow.\u001b[39;00m\n\u001b[32m    827\u001b[39m weight_value_tuples = []\n",
      "\u001b[31mValueError\u001b[39m: Layer count mismatch when loading weights from file. Model expected 2 layers, found 3 saved layers."
     ]
    }
   ],
   "source": [
    "# 모델을 먼저 정의해야 합니다.\n",
    "best_model = keras.Sequential([\n",
    "    # 모델 구조를 여기에 맞게 정의해야 합니다.\n",
    "    keras.layers.InputLayer(input_shape=(180,180)),  # 실제 입력 형태로 변경\n",
    "    keras.layers.Dense(128, activation='relu'),\n",
    "    keras.layers.Dense(10, activation='softmax')\n",
    "])\n",
    "\n",
    "# 가중치만 로드합니다.\n",
    "best_model.load_weights(\"inline_feature_extraction.keras\")\n",
    "\n",
    "# 테스트 데이터셋으로 최종 모델을 평가합니다.\n",
    "print(\"테스트 데이터셋으로 최종 모델을 평가합니다...\")\n",
    "test_loss, test_acc = best_model.evaluate(test_ds)\n",
    "print(f'테스트 정확도: {test_acc*100:.2f}%')"
   ]
  }
 ],
 "metadata": {
  "kernelspec": {
   "display_name": "aiops",
   "language": "python",
   "name": "python3"
  },
  "language_info": {
   "codemirror_mode": {
    "name": "ipython",
    "version": 3
   },
   "file_extension": ".py",
   "mimetype": "text/x-python",
   "name": "python",
   "nbconvert_exporter": "python",
   "pygments_lexer": "ipython3",
   "version": "3.11.13"
  }
 },
 "nbformat": 4,
 "nbformat_minor": 5
}
