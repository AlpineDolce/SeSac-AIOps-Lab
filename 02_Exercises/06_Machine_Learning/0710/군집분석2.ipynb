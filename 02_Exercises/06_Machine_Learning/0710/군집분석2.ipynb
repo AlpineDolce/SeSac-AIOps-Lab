{
 "cells": [
  {
   "cell_type": "markdown",
   "metadata": {},
   "source": [
    "# Iris 데이터셋을 이용한 군집 분석\n",
    "\n",
    "- 이 예제는 `sklearn.datasets.load_iris`를 사용하여 Iris(붓꽃) 데이터셋에 K-Means 군집 분석을 적용합니다.\n",
    "- 비지도 학습이므로 데이터의 특성(X)만 사용하고, 실제 품종(y) 정보는 사용하지 않습니다.\n",
    "- 군집의 개수(`n_clusters`)를 다르게 설정했을 때의 결과를 확인하고, 최적의 군집 수를 찾는 것의 중요성을 이해합니다."
   ]
  },
  {
   "cell_type": "code",
   "execution_count": null,
   "metadata": {},
   "outputs": [],
   "source": [
    "import numpy as np\n",
    "import matplotlib.pyplot as plt\n",
    "from sklearn.cluster import KMeans\n",
    "from sklearn.datasets import load_iris"
   ]
  },
  {
   "cell_type": "markdown",
   "metadata": {},
   "source": [
    "## 1. 데이터 로드 및 확인\n",
    "\n",
    "- `load_iris()` 함수를 호출하여 데이터셋을 로드합니다.\n",
    "- 데이터의 특성(X)만 사용하여 군집 분석을 수행합니다."
   ]
  },
  {
   "cell_type": "code",
   "execution_count": null,
   "metadata": {},
   "outputs": [],
   "source": [
    "X = load_iris()['data']\n",
    "\n",
    "# 데이터 형태와 일부 데이터 확인\n",
    "print(\"Data Shape:\", X.shape)\n",
    "print(\"Data Sample (first 10 rows):\")\n",
    "print(X[:10])"
   ]
  },
  {
   "cell_type": "markdown",
   "metadata": {},
   "source": [
    "## 2. K-Means 모델 학습\n",
    "\n",
    "- `KMeans` 모델을 생성하고 학습시킵니다.\n",
    "- **`n_clusters` (군집 개수) 설정의 중요성**:\n",
    "  - **실제보다 적게 설정**: 서로 다른 특성을 가진 군집이 하나로 합쳐져 정보 손실이 발생하고 해석이 어려워집니다.\n",
    "  - **실제보다 많게 설정**: 하나의 군집이 강제로 여러 개로 나뉘게 됩니다.\n",
    "  - 최적의 `n_clusters`를 모를 때는 **엘보우(Elbow) 방법**, **실루엣(Silhouette) 점수**, 또는 해당 분야의 전문 지식을 활용하여 결정합니다.\n",
    "- 여기서는 임의로 `n_clusters=5`로 설정하여 군집을 실제보다 많이 나누는 경우를 살펴봅니다. (실제 Iris 품종은 3개)"
   ]
  },
  {
   "cell_type": "code",
   "execution_count": null,
   "metadata": {},
   "outputs": [],
   "source": [
    "# 군집 개수를 5개로 설정 (실제 품종 수보다 많음)\n",
    "kmeans = KMeans(n_clusters=5, random_state=42, n_init=10)\n",
    "kmeans.fit(X)\n",
    "\n",
    "# 각 데이터가 속한 군집을 예측\n",
    "y_kmeans = kmeans.predict(X)\n",
    "print(\"Predicted clusters (first 20):\")\n",
    "print(y_kmeans[:20])"
   ]
  },
  {
   "cell_type": "markdown",
   "metadata": {},
   "source": [
    "## 3. 군집 중심 확인\n",
    "\n",
    "- `cluster_centers_` 속성을 사용하여 5개 군집의 중심 좌표를 확인합니다."
   ]
  },
  {
   "cell_type": "code",
   "execution_count": null,
   "metadata": {},
   "outputs": [],
   "source": [
    "centers = kmeans.cluster_centers_\n",
    "print(\"Cluster Centers:\")\n",
    "print(centers)"
   ]
  },
  {
   "cell_type": "markdown",
   "metadata": {},
   "source": [
    "## 4. 시각화\n",
    "\n",
    "- `matplotlib.pyplot.scatter`를 사용하여 군집 결과를 시각화합니다.\n",
    "- Iris 데이터의 3번째(`X[:, 2]`, Petal Length)와 4번째(`X[:, 3]`, Petal Width) 특성을 사용하여 2D 평면에 나타냅니다.\n",
    "- 각 데이터 포인트를 예측된 군집에 따라 다른 색상으로 표시하고, 군집의 중심은 빨간색 'X'로 표시합니다."
   ]
  },
  {
   "cell_type": "code",
   "execution_count": null,
   "metadata": {},
   "outputs": [],
   "source": [
    "plt.figure(figsize=(10, 7))\n",
    "\n",
    "# 3번째, 4번째 특성을 사용하여 데이터 시각화\n",
    "plt.scatter(X[:, 2], X[:, 3], c=y_kmeans, cmap='viridis', s=50, alpha=0.7)\n",
    "\n",
    "# 군집의 중심점 시각화\n",
    "plt.scatter(centers[:, 2], centers[:, 3], c='red', s=200, marker='X', label='Centroids')\n",
    "\n",
    "plt.title('Iris Clustering (k=5)')\n",
    "plt.xlabel('Petal Length (cm)')\n",
    "plt.ylabel('Petal Width (cm)')\n",
    "plt.legend()\n",
    "plt.grid(True)\n",
    "plt.show()"
   ]
  }
 ],
 "metadata": {
  "kernelspec": {
   "display_name": "Python 3",
   "language": "python",
   "name": "python3"
  },
  "language_info": {
   "codemirror_mode": {
    "name": "ipython",
    "version": 3
   },
   "file_extension": ".py",
   "mimetype": "text/x-python",
   "name": "python",
   "nbconvert_exporter": "python",
   "pygments_lexer": "ipython3",
   "version": "3.10.0"
  }
 },
 "nbformat": 4,
 "nbformat_minor": 4
}