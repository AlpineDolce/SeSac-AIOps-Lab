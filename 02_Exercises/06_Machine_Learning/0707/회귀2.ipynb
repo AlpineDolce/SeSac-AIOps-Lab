{
 "cells": [
  {
   "cell_type": "markdown",
   "metadata": {},
   "source": [
    "# Wave 데이터셋 회귀 분석 노트북\n",
    "\n",
    "이 Jupyter Notebook은 `mglearn` 라이브러리의 `make_wave` 데이터셋을 사용하여 **선형 회귀(Linear Regression)**와 **K-최근접 이웃(K-Nearest Neighbors) 회귀** 모델을 학습하고 평가하는 과정을 보여줍니다."
   ]
  },
  {
   "cell_type": "markdown",
   "metadata": {},
   "source": [
    "---",
    "\n",
    "## 1. 라이브러리 임포트\n",
    "\n",
    "필요한 라이브러리들을 임포트합니다."
   ]
  },
  {
   "cell_type": "code",
   "execution_count": null,
   "metadata": {},
   "outputs": [],
   "source": [
    "import mglearn # 사이킷런 책 쓴 사람이 차트 그리기 편하고 가끔 가짜 데이터 만들어보라고 만든 라이브러리\n",
    "from sklearn.model_selection import train_test_split\n",
    "from sklearn.linear_model import LinearRegression\n",
    "from sklearn.neighbors import KNeighborsRegressor"
   ]
  },
  {
   "cell_type": "markdown",
   "metadata": {},
   "source": [
    "---",
    "\n",
    "## 2. 데이터 로드 및 확인\n",
    "\n",
    "`mglearn.datasets.make_wave`를 사용하여 200개의 샘플을 가진 가상의 회귀 데이터셋을 생성하고 데이터를 확인합니다."
   ]
  },
  {
   "cell_type": "code",
   "execution_count": null,
   "metadata": {},
   "outputs": [],
   "source": [
    "X, y = mglearn.datasets.make_wave(n_samples=200)\n",
    "print(\"X 데이터 샘플 (상위 10개):\\n\", X[:10])\n",
    "print(\"y 데이터 샘플 (상위 10개):\\n\", y[:10])"
   ]
  },
  {
   "cell_type": "markdown",
   "metadata": {},
   "source": [
    "---",
    "\n",
    "## 3. 데이터 분할\n",
    "\n",
    "생성된 데이터를 훈련 세트와 테스트 세트로 분할합니다."
   ]
  },
  {
   "cell_type": "code",
   "execution_count": null,
   "metadata": {},
   "outputs": [],
   "source": [
    "X_train, X_test, y_train, y_test = train_test_split(X, y, random_state=1)"
   ]
  },
  {
   "cell_type": "markdown",
   "metadata": {},
   "source": [
    "---",
    "\n",
    "## 4. 선형 회귀 모델\n",
    "\n",
    "가장 기본적인 회귀 모델인 선형 회귀를 학습하고 훈련 세트와 테스트 세트에서의 성능(결정계수 R-squared)을 평가합니다. 또한 모델의 기울기(`coef_`)와 절편(`intercept_`)을 확인합니다."
   ]
  },
  {
   "cell_type": "code",
   "execution_count": null,
   "metadata": {},
   "outputs": [],
   "source": [
    "model = LinearRegression() # 하이퍼파라미터 없음. 과대/과소 적합 시 데이터셋 늘려주기 밖에 없다.\n",
    "model.fit(X_train, y_train)\n",
    "y_pred = model.predict(X_test)\n",
    "print(\"=== Linear Regression Model ===\")\n",
    "print(\"훈련셋 결정계수:\", model.score(X_train, y_train))\n",
    "print(\"테스트셋 결정계수:\", model.score(X_test, y_test))\n",
    "print(\"기울기:\", model.coef_)\n",
    "print(\"절편:\", model.intercept_)\n",
    "\n",
    "# 수동으로 예측값 계산 (단일 특성인 경우)\n",
    "y_pred2 = X_test * model.coef_ + model.intercept_\n",
    "print(\"\\n실제 y_test 값:\\n\", y_test)\n",
    "print(\"모델 예측 y_pred 값:\\n\", y_pred)\n",
    "print(\"수동 계산 y_pred2 값:\\n\", y_pred2)\n",
    "# 다중회귀분석의 경우 가중치가 많다. 각 독립변수마다 별도의 가중치를 가져온다.\n",
    "\"\"\"\n",
    "# (w1,w2,w3,...wn) X (x1,\n",
    "#                   x2,\n",
    "#                   x3,\n",
    "#                   x4, ......\n",
    "#                   xn)\n",
    "\"\"\""
   ]
  },
  {
   "cell_type": "markdown",
   "metadata": {},
   "source": [
    "---",
    "\n",
    "## 5. K-최근접 이웃(KNN) 회귀 모델\n",
    "\n",
    "K-최근접 이웃 회귀 모델을 학습하고 훈련 세트와 테스트 세트에서의 성능을 평가합니다. `n_neighbors` 파라미터를 통해 이웃의 수를 조절할 수 있습니다."
   ]
  },
  {
   "cell_type": "code",
   "execution_count": null,
   "metadata": {},
   "outputs": [],
   "source": [
    "# Knn 이웃 회귀 알고리즘\n",
    "model = KNeighborsRegressor(n_neighbors=3)\n",
    "model.fit(X_train, y_train)\n",
    "y_pred = model.predict(X_test)\n",
    "print(\"=== K-Nearest Neighbors Regressor Model ===\")\n",
    "print(\"훈련셋 결정계수:\", model.score(X_train, y_train))\n",
    "print(\"테스트셋 결정계수:\", model.score(X_test, y_test))\n",
    "print(\"\\n실제 y_test 값:\\n\", y_test)\n",
    "print(\"모델 예측 y_pred 값:\\n\", y_pred)"
   ]
  }
 ],
 "metadata": {
  "kernelspec": {
   "display_name": "Python 3",
   "language": "python",
   "name": "python3"
  },
  "language_info": {
   "codemirror_mode": {
    "name": "ipython",
    "version": 3
   },
   "file_extension": ".py",
   "mimetype": "text/x-python",
   "name": "python",
   "nbconvert_exporter": "python",
   "pygments_lexer": "ipython3",
   "version": "3.9.13"
  }
 },
 "nbformat": 4,
 "nbformat_minor": 4
}
