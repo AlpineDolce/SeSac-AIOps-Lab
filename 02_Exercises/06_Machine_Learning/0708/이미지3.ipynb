{
 "cells": [
  {
   "cell_type": "markdown",
   "metadata": {},
   "source": [
    "# 이미지 데이터셋 구축 (샘플링 및 전체 과정 설계)\n",
    "\n",
    "이 노트북은 대규모 이미지 데이터셋을 처리하기 전, 일부 데이터를 **샘플링**하여 전처리 과정을 테스트하고, 향후 전체 데이터셋을 구축하는 방법을 설계하는 과정을 다룹니다.\n",
    "\n",
    "**학습 목표:**\n",
    "1.  대규모 데이터 중 일부만 가져와 처리하는 방법을 익힙니다.\n",
    "2.  처리된 이미지 샘플을 `.npz` 파일로 저장하고, 시각화를 통해 확인합니다.\n",
    "3.  여러 클래스(폴더)를 가진 전체 데이터셋을 입력 데이터(X)와 라벨(y)로 구성하는 방법을 이해합니다."
   ]
  },
  {
   "cell_type": "markdown",
   "metadata": {},
   "source": [
    "### 1. 라이브러리 임포트"
   ]
  },
  {
   "cell_type": "code",
   "execution_count": null,
   "metadata": {},
   "outputs": [],
   "source": [
    "import PIL.Image as pilimg\n",
    "import os\n",
    "import matplotlib.pyplot as plt\n",
    "import numpy as np"
   ]
  },
  {
   "cell_type": "markdown",
   "metadata": {},
   "source": [
    "### 2. 이미지 파일 샘플링 및 처리\n",
    "\n",
    "`./images/mnist` 폴더에 있는 이미지들 중, 테스트를 위해 **처음 10개**만 불러와 크기를 80x80으로 통일하고 Numpy 배열로 변환합니다."
   ]
  },
  {
   "cell_type": "code",
   "execution_count": null,
   "metadata": {},
   "outputs": [],
   "source": [
    "path = \"./images/mnist\"\n",
    "image_list = []\n",
    "\n",
    "try:\n",
    "    filename_list = os.listdir(path)\n",
    "    print(f\"{path} 폴더에서 {len(filename_list)}개의 파일을 찾았습니다.\")\n",
    "    \n",
    "    # 10개의 이미지만 샘플링하여 처리\n",
    "    for i, filename in enumerate(filename_list):\n",
    "        if i >= 10: # 10개만 처리하고 중단\n",
    "            break\n",
    "            \n",
    "        filepath = os.path.join(path, filename)\n",
    "        try:\n",
    "            temp_img = pilimg.open(filepath)\n",
    "            resized_img = temp_img.resize((80, 80))\n",
    "            img_array = np.array(resized_img)\n",
    "            image_list.append(img_array)\n",
    "        except Exception as e:\n",
    "            print(f\"{filename} 처리 중 오류: {e}\")\n",
    "            \n",
    "    print(f\"\n총 {len(image_list)}개의 이미지 샘플을 처리했습니다.\")\n",
    "\n",
    "except FileNotFoundError:\n",
    "    print(f\"오류: {path} 폴더를 찾을 수 없습니다.\")\n",
    "    print(\"노트북 파일과 같은 위치에 'images/mnist' 폴더를 만들고 이미지 파일들을 넣어주세요.\")"
   ]
  },
  {
   "cell_type": "markdown",
   "metadata": {},
   "source": [
    "### 3. 샘플 데이터셋 저장 및 확인\n",
    "\n",
    "처리된 10개의 이미지 배열을 `mnist_sample.npz` 파일로 저장하고, 다시 불러와 시각적으로 확인합니다."
   ]
  },
  {
   "cell_type": "code",
   "execution_count": null,
   "metadata": {},
   "outputs": [],
   "source": [
    "if image_list:\n",
    "    # 샘플 데이터를 npz 파일로 저장\n",
    "    np.savez(\"mnist_sample.npz\", data=image_list)\n",
    "    print(\"mnist_sample.npz 파일 저장 완료!\")\n",
    "\n",
    "    # 저장된 파일 다시 로드\n",
    "    loaded_data = np.load(\"mnist_sample.npz\")\n",
    "    image_dataset = loaded_data[\"data\"]\n",
    "\n",
    "    # 시각화\n",
    "    plt.figure(figsize=(20, 5))\n",
    "    for i in range(len(image_dataset)):\n",
    "        plt.subplot(1, 10, i + 1)\n",
    "        plt.imshow(image_dataset[i])\n",
    "        plt.axis('off')\n",
    "    plt.show()"
   ]
  },
  {
   "cell_type": "markdown",
   "metadata": {},
   "source": [
    "### 4. 향후 과제: 전체 분류용 데이터셋 구축하기\n",
    "\n",
    "샘플링을 통해 전처리 과정의 유효성을 확인했다면, 이제 전체 데이터를 분류 모델 학습에 사용할 수 있는 형태로 만들어야 합니다. 예를 들어, 꽃 이미지 데이터셋(`daisy`, `dandelion`, `rose`, `sunflower`, `tulip` 폴더)이 있다고 가정해 봅시다.\n",
    "\n",
    "**목표**: 모든 이미지 데이터를 담는 입력 데이터 `X`와, 각 이미지가 어떤 꽃인지 알려주는 라벨 데이터 `y`를 만드는 것입니다.\n",
    "\n",
    "1.  각 폴더 이름에 숫자 라벨을 부여합니다. (예: `daisy`=0, `dandelion`=1, `rose`=2, ...)\n",
    "2.  모든 폴더를 순회하면서 이미지를 불러와 리사이즈 및 `Numpy` 배열로 변환합니다.\n",
    "3.  이미지 배열은 `X` 리스트에, 해당 이미지의 폴더 라벨은 `y` 리스트에 추가합니다.\n",
    "4.  최종적으로 `X`와 `y`를 `Numpy` 배열로 변환하여 저장합니다."
   ]
  },
  {
   "cell_type": "code",
   "execution_count": null,
   "metadata": {},
   "source": [
    "# 아래는 실제 실행 코드가 아닌, 개념을 설명하기 위한 예시(pseudo-code)입니다.\n",
    "\n",
    "# base_path = \"./flower_photos\"\n",
    "# class_names = ['daisy', 'dandelion', 'rose', 'sunflower', 'tulip']\n",
    "\n",
    "# X_data = []\n",
    "# y_data = []\n",
    "\n",
    "# for label, class_name in enumerate(class_names):\n",
    "#     class_path = os.path.join(base_path, class_name)\n",
    "#     image_files = os.listdir(class_path)\n",
    "#     print(f\"{class_name}(라벨:{label}) 폴더 처리 중...\")\n",
    "#     \n",
    "#     for image_file in image_files:\n",
    "#         filepath = os.path.join(class_path, image_file)\n",
    "#         # 이미지 열기, 리사이즈, Numpy 변환...\n",
    "#         img_array = ... \n",
    "#         \n",
    "#         X_data.append(img_array)\n",
    "#         y_data.append(label) # 해당 이미지의 라벨 추가\n",
    "\n",
    "# # 최종적으로 Numpy 배열로 변환\n",
    "# X = np.array(X_data)\n",
    "# y = np.array(y_data)\n",
    "\n",
    "# print(f\"최종 데이터 형태: X={X.shape}, y={y.shape}\")"
   ]
  }
 ],
 "metadata": {
  "kernelspec": {
   "display_name": "Python 3",
   "language": "python",
   "name": "python3"
  },
  "language_info": {
   "codemirror_mode": {
    "name": "ipython",
    "version": 3
   },
   "file_extension": ".py",
   "mimetype": "text/x-python",
   "name": "python",
   "nbconvert_exporter": "python",
   "pygments_lexer": "ipython3",
   "version": "3.9.7"
  }
 },
 "nbformat": 4,
 "nbformat_minor": 4
}