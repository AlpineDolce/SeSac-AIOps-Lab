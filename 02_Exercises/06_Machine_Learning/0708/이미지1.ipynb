{
 "cells": [
  {
   "cell_type": "markdown",
   "metadata": {},
   "source": [
    "# 이미지 데이터 처리의 첫걸음: 이미지 파일을 Numpy 배열로 변환하기\n",
    "\n",
    "이 노트북은 이미지 파일을 열고, 이를 머신러닝 모델이 처리할 수 있는 숫자 데이터, 즉 **Numpy 배열**로 변환하는 가장 기본적인 방법을 다룹니다.\n",
    "\n",
    "이미지 분류, 객체 탐지 등 모든 컴퓨터 비전 작업은 이미지를 픽셀 값으로 이루어진 행렬(배열)로 변환하는 것에서 시작합니다.\n",
    "\n",
    "**사용 라이브러리:**\n",
    "- **Pillow (PIL)**: 파이썬에서 이미지를 쉽게 다룰 수 있게 해주는 대표적인 라이브러리입니다.\n",
    "- **Numpy**: 다차원 배열을 효율적으로 처리하기 위한 핵심 라이브러리입니다."
   ]
  },
  {
   "cell_type": "markdown",
   "metadata": {},
   "source": [
    "### 1. 라이브러리 임포트"
   ]
  },
  {
   "cell_type": "code",
   "execution_count": null,
   "metadata": {},
   "outputs": [],
   "source": [
    "# Pillow 라이브러리에서 Image 모듈을 pilimg라는 별칭으로 가져옵니다.\n",
    "import PIL.Image as pilimg\n",
    "import numpy as np"
   ]
  },
  {
   "cell_type": "markdown",
   "metadata": {},
   "source": [
    "### 2. 이미지 파일 열기\n",
    "\n",
    "`pilimg.open()` 함수를 사용하여 지정된 경로의 이미지 파일을 엽니다."
   ]
  },
  {
   "cell_type": "code",
   "execution_count": null,
   "metadata": {},
   "outputs": [],
   "source": [
    "image_path = \"./images/1.jpg\"\n",
    "\n",
    "try:\n",
    "    # 이미지 파일을 열어 Image 객체를 생성합니다.\n",
    "    img = pilimg.open(image_path)\n",
    "    print(f\"{image_path} 파일 로드 성공!\")\n",
    "    print(\"이미지 객체 타입:\", type(img))\n",
    "except FileNotFoundError:\n",
    "    print(f\"오류: {image_path} 파일을 찾을 수 없습니다.\")\n",
    "    print(\"노트북 파일과 같은 위치에 'images' 폴더를 만들고, 그 안에 '1.jpg' 파일을 넣어주세요.\")\n",
    "    img = None"
   ]
  },
  {
   "cell_type": "markdown",
   "metadata": {},
   "source": [
    "### 3. 이미지를 Numpy 배열로 변환\n",
    "\n",
    "`np.array()` 함수를 사용하여 `Pillow`의 이미지 객체를 `Numpy` 배열로 변환합니다. 이 배열은 이미지의 각 픽셀에 대한 숫자 정보를 담고 있습니다."
   ]
  },
  {
   "cell_type": "code",
   "execution_count": null,
   "metadata": {},
   "outputs": [],
   "source": [
    "if img:\n",
    "    # Image 객체를 Numpy 배열로 변환\n",
    "    pix = np.array(img)\n",
    "    \n",
    "    # 배열의 형태(shape) 확인\n",
    "    print(\"Numpy 배열의 형태:\", pix.shape)\n",
    "    # 결과 해석: (세로 픽셀 수, 가로 픽셀 수, 채널 수)\n",
    "    # 컬러 이미지(RGB)는 R, G, B 3개의 채널을 가지므로 마지막 차원이 3이 됩니다.\n",
    "    # 흑백 이미지의 경우 채널 정보가 없는 2차원 배열로 나타납니다."
   ]
  },
  {
   "cell_type": "markdown",
   "metadata": {},
   "source": [
    "### 4. 픽셀 데이터 확인\n",
    "\n",
    "변환된 배열의 일부를 출력하여 실제 픽셀 값이 어떻게 저장되어 있는지 확인합니다. 각 값은 0(검은색)부터 255(흰색/가장 밝은 색) 사이의 정수로 표현됩니다."
   ]
  },
  {
   "cell_type": "code",
   "execution_count": null,
   "metadata": {},
   "outputs": [],
   "source": [
    "if img:\n",
    "    # 배열 전체를 출력하면 매우 길기 때문에, 일부만 확인합니다.\n",
    "    print(\"\n픽셀 데이터 (상위 5x5, 모든 채널):\")\n",
    "    print(pix[:5, :5, :])"
   ]
  },
  {
   "cell_type": "markdown",
   "metadata": {},
   "source": [
    "### 5. 이미지 형식 변환 및 저장\n",
    "\n",
    "`Pillow`를 사용하면 이미지를 다른 형식으로 쉽게 저장할 수 있습니다."
   ]
  },
  {
   "cell_type": "code",
   "execution_count": null,
   "metadata": {},
   "outputs": [],
   "source": [
    "if img:\n",
    "    try:\n",
    "        # 이미지를 BMP 형식으로 저장\n",
    "        img.save(\"./images/1_converted.bmp\")\n",
    "        print(\"\n./images/1_converted.bmp 파일로 성공적으로 저장했습니다.\")\n",
    "    except Exception as e:\n",
    "        print(f\"파일 저장 중 오류 발생: {e}\")"
   ]
  }
 ],
 "metadata": {
  "kernelspec": {
   "display_name": "Python 3",
   "language": "python",
   "name": "python3"
  },
  "language_info": {
   "codemirror_mode": {
    "name": "ipython",
    "version": 3
   },
   "file_extension": ".py",
   "mimetype": "text/x-python",
   "name": "python",
   "nbconvert_exporter": "python",
   "pygments_lexer": "ipython3",
   "version": "3.9.7"
  }
 },
 "nbformat": 4,
 "nbformat_minor": 4
}