{
 "cells": [
  {
   "cell_type": "markdown",
   "metadata": {},
   "source": [
    "# 이상치(Outlier) 탐지 및 처리: IQR 규칙 활용하기\n",
    "\n",
    "이 노트북은 데이터 전처리 과정에서 중요한 단계 중 하나인 **이상치(Outlier)**를 탐지하고 처리하는 방법을 다룹니다.\n",
    "\n",
    "### 이상치란?\n",
    "이상치란 대부분의 데이터 값들과는 동떨어진, 극단적으로 크거나 작은 값을 의미합니다. (예: 직원 연봉 데이터에 포함된 CEO의 연봉) 이러한 값들은 데이터의 평균을 왜곡하고, 머신러닝 모델의 학습을 방해할 수 있어 적절한 처리가 필요합니다.\n",
    "\n",
    "**학습 목표:**\n",
    "1.  `Boxplot`을 사용하여 이상치를 시각적으로 확인합니다.\n",
    "2.  **IQR(사분위수 범위, Interquartile Range)** 규칙을 사용하여 이상치를 수학적으로 정의하고 탐지합니다.\n",
    "3.  탐지된 이상치를 경계값으로 대체(Capping)하는 방법을 알아봅니다."
   ]
  },
  {
   "cell_type": "markdown",
   "metadata": {},
   "source": [
    "### 1. 라이브러리 임포트 및 샘플 데이터 생성"
   ]
  },
  {
   "cell_type": "code",
   "execution_count": null,
   "metadata": {},
   "outputs": [],
   "source": [
    "import pandas as pd\n",
    "import numpy as np\n",
    "import matplotlib.pyplot as plt"
   ]
  },
  {
   "cell_type": "code",
   "execution_count": null,
   "metadata": {},
   "outputs": [],
   "source": [
    "# 결측치(NaN)를 포함한 샘플 데이터 생성\n",
    "data = pd.Series([1, 2, np.nan, 4, 5, 6, np.nan, 8, 9, 10])\n",
    "\n",
    "# 결측치를 100이라는 극단적인 값으로 대체하여 이상치를 만듭니다.\n",
    "data[data.isna()] = 100\n",
    "\n",
    "print(\"이상치가 포함된 데이터:\")\n",
    "print(data.values)"
   ]
  },
  {
   "cell_type": "markdown",
   "metadata": {},
   "source": [
    "### 2. Boxplot으로 이상치 시각적 확인 (처리 전)\n",
    "\n",
    "Boxplot은 데이터의 분포를 시각적으로 보여주는 강력한 도구입니다. 상자 바깥쪽에 그려지는 점(o)들은 이상치를 의미합니다."
   ]
  },
  {
   "cell_type": "code",
   "execution_count": null,
   "metadata": {},
   "outputs": [],
   "source": [
    "plt.figure(figsize=(8, 6))\n",
    "plt.boxplot(data, vert=True) # vert=True: 수직, False: 수평\n",
    "plt.title(\"Boxplot of Data with Outliers\")\n",
    "plt.ylabel(\"Value\")\n",
    "plt.show()\n",
    "# 100이라는 값이 다른 데이터들과 동떨어져 이상치로 표시된 것을 볼 수 있습니다."
   ]
  },
  {
   "cell_type": "markdown",
   "metadata": {},
   "source": [
    "### 3. IQR 규칙으로 이상치 탐지\n",
    "\n",
    "가장 널리 사용되는 이상치 탐지 규칙 중 하나는 IQR(사분위수 범위)을 이용하는 것입니다.\n",
    "\n",
    "1.  **Q1**: 데이터의 25% 지점에 있는 값 (1사분위수)\n",
    "2.  **Q3**: 데이터의 75% 지점에 있는 값 (3사분위수)\n",
    "3.  **IQR**: `Q3 - Q1`\n",
    "4.  **정상 범위**: `Q1 - 1.5 * IQR` (하한) 부터 `Q3 + 1.5 * IQR` (상한) 까지\n",
    "\n",
    "이 범위를 벗어나는 모든 값은 이상치로 간주합니다."
   ]
  },
  {
   "cell_type": "code",
   "execution_count": null,
   "metadata": {},
   "outputs": [],
   "source": [
    "def find_outlier_boundaries(data):\n",
    "    \"\"\"IQR 규칙에 따라 이상치의 하한과 상한 경계를 반환합니다.\"\"\"\n",
    "    # 1사분위수(Q1)와 3사분위수(Q3) 계산\n",
    "    q1, q3 = np.percentile(data, [25, 75])\n",
    "    \n",
    "    # IQR 계산\n",
    "    iqr = q3 - q1\n",
    "    \n",
    "    # 하한 및 상한 경계 계산\n",
    "    lower_bound = q1 - (iqr * 1.5)\n",
    "    upper_bound = q3 + (iqr * 1.5)\n",
    "    \n",
    "    return lower_bound, upper_bound\n",
    "\n",
    "# 실제 데이터에 함수를 적용하여 경계값 찾기\n",
    "lower, upper = find_outlier_boundaries(data)\n",
    "print(f\"이상치 하한 경계: {lower:.2f}\")\n",
    "print(f\"이상치 상한 경계: {upper:.2f}\")"
   ]
  },
  {
   "cell_type": "markdown",
   "metadata": {},
   "source": [
    "### 4. 이상치 처리 (Capping)\n",
    "\n",
    "탐지된 이상치를 처리하는 방법에는 여러 가지가 있습니다 (제거, 평균/중앙값으로 대체 등). 여기서는 **Capping** 방법을 사용하여, 이상치를 위에서 계산한 하한/상한 경계값으로 대체해 보겠습니다."
   ]
  },
  {
   "cell_type": "code",
   "execution_count": null,
   "metadata": {},
   "outputs": [],
   "source": [
    "# 원본 데이터를 복사하여 처리\n",
    "data_capped = data.copy()\n",
    "\n",
    "# 하한보다 작은 값은 하한값으로, 상한보다 큰 값은 상한값으로 대체\n",
    "data_capped[data_capped < lower] = lower\n",
    "data_capped[data_capped > upper] = upper\n",
    "\n",
    "print(\"이상치 처리 후 데이터:\")\n",
    "print(data_capped.values)"
   ]
  },
  {
   "cell_type": "markdown",
   "metadata": {},
   "source": [
    "### 5. Boxplot으로 결과 확인 (처리 후)\n",
    "\n",
    "이상치가 처리된 데이터로 다시 Boxplot을 그려보면, 더 이상 상자 바깥쪽에 점이 나타나지 않는 것을 확인할 수 있습니다."
   ]
  },
  {
   "cell_type": "code",
   "execution_count": null,
   "metadata": {},
   "outputs": [],
   "source": [
    "plt.figure(figsize=(8, 6))\n",
    "plt.boxplot(data_capped, vert=True)\n",
    "plt.title(\"Boxplot of Data after Capping Outliers\")\n",
    "plt.ylabel(\"Value\")\n",
    "plt.show()"
   ]
  }
 ],
 "metadata": {
  "kernelspec": {
   "display_name": "Python 3",
   "language": "python",
   "name": "python3"
  },
  "language_info": {
   "codemirror_mode": {
    "name": "ipython",
    "version": 3
   },
   "file_extension": ".py",
   "mimetype": "text/x-python",
   "name": "python",
   "nbconvert_exporter": "python",
   "pygments_lexer": "ipython3",
   "version": "3.9.7"
  }
 },
 "nbformat": 4,
 "nbformat_minor": 4
}