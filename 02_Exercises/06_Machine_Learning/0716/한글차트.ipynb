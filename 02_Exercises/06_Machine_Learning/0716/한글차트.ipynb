{
 "cells": [
  {
   "cell_type": "markdown",
   "metadata": {},
   "source": [
    "# Matplotlib 및 Seaborn에서 한글 폰트 설정하기\n",
    "\n",
    "이 노트북은 `matplotlib`과 `seaborn` 라이브러리를 사용하여 그래프를 그릴 때 **한글 폰트가 깨지는 문제**를 해결하는 방법을 다룹니다. 파이썬 시각화 도구에서 한글을 올바르게 표시하기 위한 필수적인 설정 과정을 단계별로 안내합니다."
   ]
  },
  {
   "cell_type": "markdown",
   "metadata": {},
   "source": [
    "### 1. 라이브러리 임포트"
   ]
  },
  {
   "cell_type": "code",
   "execution_count": null,
   "metadata": {},
   "outputs": [],
   "source": [
    "import matplotlib.font_manager as fm\n",
    "import matplotlib.pyplot as plt \n",
    "import seaborn as sns \n"
   ]
  },
  {
   "cell_type": "markdown",
   "metadata": {},
   "source": [
    "### 2. 시스템에 설치된 글꼴 확인\n",
    "\n",
    "`matplotlib.font_manager`를 사용하여 현재 시스템에 설치된 모든 글꼴 목록을 확인할 수 있습니다. 이 목록에서 한글을 지원하는 글꼴(예: Malgun Gothic, NanumGothic 등)을 찾아 사용합니다."
   ]
  },
  {
   "cell_type": "code",
   "execution_count": null,
   "metadata": {},
   "outputs": [],
   "source": [
    "font_list = [font.name for font in fm.fontManager.ttflist]\n",
    "print(\"시스템에 설치된 글꼴 목록 (일부):\")\n",
    "# 모든 글꼴을 출력하면 너무 길 수 있으므로, 일부만 출력하거나 특정 키워드로 필터링하여 확인합니다.\n",
    "print([f for f in font_list if 'Malgun' in f or 'Nanum' in f or 'Apple' in f]) # 예시: Malgun, Nanum, Apple 계열 폰트만 필터링"
   ]
  },
  {
   "cell_type": "markdown",
   "metadata": {},
   "source": [
    "### 3. Matplotlib 한글 폰트 및 마이너스 부호 설정\n",
    "\n",
    "`plt.rcParams`를 사용하여 `matplotlib`의 기본 설정을 변경합니다.\n",
    "\n",
    "- `font.family`: 그래프에 사용할 글꼴을 지정합니다. 시스템에 설치된 한글 글꼴 이름을 사용합니다. (Windows: 'Malgun Gothic', macOS: 'AppleGothic', Linux: 'NanumGothic' 등)\n",
    "- `axes.unicode_minus`: 마이너스 부호가 깨지는 현상을 방지하기 위해 `False`로 설정합니다."
   ]
  },
  {
   "cell_type": "code",
   "execution_count": null,
   "metadata": {},
   "outputs": [],
   "source": [
    "# 사용할 한글 폰트 이름으로 변경 (예: Windows의 경우 'Malgun Gothic')\n",
    "plt.rcParams['font.family'] = 'Malgun Gothic' \n",
    "# 마이너스 부호 깨짐 방지\n",
    "plt.rcParams['axes.unicode_minus'] = False\n",
    "\n",
    "print(\"Matplotlib 폰트 설정 완료.\")"
   ]
  },
  {
   "cell_type": "markdown",
   "metadata": {},
   "source": [
    "### 4. 한글이 포함된 차트 그리기\n",
    "\n",
    "이제 `seaborn`의 `iris` 데이터셋을 사용하여 산포도 행렬을 그리고, 한글 제목을 추가하여 폰트 설정이 정상적으로 적용되었는지 확인합니다."
   ]
  },
  {
   "cell_type": "code",
   "execution_count": null,
   "metadata": {},
   "outputs": [],
   "source": [
    "# iris 데이터셋 로드\n",
    "iris = sns.load_dataset(\"iris\")\n",
    "\n",
    "# pairplot 그리기\n",
    "sns.pairplot(iris, hue='species') \n",
    "\n",
    "# 한글 제목 추가\n",
    "plt.suptitle('iris 데이터셋 산포도 행렬', y=1.02) # y는 제목의 위치를 조절합니다.\n",
    "\n",
    "# 차트 표시\n",
    "plt.show()\n",
    "\n",
    "print(\"한글 폰트가 적용된 차트가 성공적으로 표시되었습니다.\")"
   ]
  }
 ],
 "metadata": {
  "kernelspec": {
   "display_name": "Python 3",
   "language": "python",
   "name": "python3"
  },
  "language_info": {
   "codemirror_mode": {
    "name": "ipython",
    "version": 3
   },
   "file_extension": ".py",
   "mimetype": "text/x-python",
   "name": "python",
   "nbconvert_exporter": "python",
   "pygments_lexer": "ipython3",
   "version": "3.9.7"
  }
 },
 "nbformat": 4,
 "nbformat_minor": 4
}