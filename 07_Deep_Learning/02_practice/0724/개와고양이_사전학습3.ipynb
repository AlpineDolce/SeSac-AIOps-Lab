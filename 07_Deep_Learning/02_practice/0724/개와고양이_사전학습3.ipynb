{
 "cells": [
  {
   "cell_type": "markdown",
   "metadata": {},
   "source": [
    "# 개와 고양이 분류 (사전 학습 모델 VGG19 - 미세 조정)"
   ]
  },
  {
   "cell_type": "markdown",
   "metadata": {},
   "source": [
    "이 노트북은 **미세 조정(Fine-Tuning)** 기법을 사용하여 개와 고양이 이미지를 분류합니다. 미세 조정은 사전 학습된 모델의 일부(주로 상위 레이어)를 새로운 데이터셋에 맞게 재학습시키는 고급 전이 학습 방법입니다.\n",
    "\n",
    "**프로세스:**\n",
    "1. **1단계: 특성 추출기 학습**\n",
    "   - VGG19의 합성곱 기반(Convolutional Base)을 **동결(freeze)**한 상태로 두고, 그 위에 새로 추가한 분류기(Dense 레이어)만 학습시킵니다.\n",
    "   - 이는 `개와고양이_사전학습2.ipynb`의 인라인 방식과 동일합니다.\n",
    "2. **2단계: 미세 조정**\n",
    "   - VGG19 합성곱 기반의 일부 상위 레이어의 동결을 **해제(unfreeze)**합니다.\n",
    "   - 매우 낮은 학습률(learning rate)로 모델 전체를 다시 학습시킵니다. 이는 사전 학습된 가중치가 급격하게 변하는 것을 방지하고, 새로운 데이터에 맞게 세밀하게 조정하기 위함입니다."
   ]
  },
  {
   "cell_type": "markdown",
   "metadata": {},
   "source": [
    "## 1. 라이브러리 임포트"
   ]
  },
  {
   "cell_type": "code",
   "execution_count": 1,
   "metadata": {},
   "outputs": [
    {
     "name": "stdout",
     "output_type": "stream",
     "text": [
      "WARNING:tensorflow:From c:\\Users\\Admin\\anaconda3\\envs\\aiops\\Lib\\site-packages\\keras\\src\\losses.py:2976: The name tf.losses.sparse_softmax_cross_entropy is deprecated. Please use tf.compat.v1.losses.sparse_softmax_cross_entropy instead.\n",
      "\n"
     ]
    }
   ],
   "source": [
    "import os\n",
    "import shutil\n",
    "import pathlib\n",
    "import numpy as np\n",
    "import tensorflow as tf\n",
    "from tensorflow import keras\n",
    "from keras import layers, models, applications, optimizers\n",
    "import matplotlib.pyplot as plt"
   ]
  },
  {
   "cell_type": "markdown",
   "metadata": {},
   "source": [
    "## 2. 데이터 준비"
   ]
  },
  {
   "cell_type": "markdown",
   "metadata": {},
   "source": [
    "### 2.1. 데이터셋 다운로드 및 정리"
   ]
  },
  {
   "cell_type": "code",
   "execution_count": 2,
   "metadata": {},
   "outputs": [
    {
     "name": "stdout",
     "output_type": "stream",
     "text": [
      "손상된 이미지 1578개를 삭제했습니다.\n"
     ]
    }
   ],
   "source": [
    "dataset_url = 'https://download.microsoft.com/download/3/E/1/3E1C3F21-ECDB-4869-8368-6DEBA77B919F/kagglecatsanddogs_5340.zip'\n",
    "zip_path = tf.keras.utils.get_file('kagglecatsanddogs.zip', origin=dataset_url, extract=True)\n",
    "original_dir = pathlib.Path(zip_path).parent / 'PetImages'\n",
    "\n",
    "# 손상된 이미지 제거\n",
    "num_skipped = 0\n",
    "for folder_name in (\"Cat\", \"Dog\"):\n",
    "    folder_path = original_dir / folder_name\n",
    "    if not folder_path.is_dir(): continue\n",
    "    for fname in os.listdir(folder_path):\n",
    "        fpath = folder_path / fname\n",
    "        if not fpath.is_file(): continue\n",
    "        try:\n",
    "            with open(fpath, \"rb\") as fobj:\n",
    "                is_jfif = tf.compat.as_bytes(\"JFIF\") in fobj.peek(10)\n",
    "        except Exception:\n",
    "            is_jfif = False\n",
    "        if not is_jfif:\n",
    "            num_skipped += 1\n",
    "            os.remove(fpath)\n",
    "print(f\"손상된 이미지 {num_skipped}개를 삭제했습니다.\")"
   ]
  },
  {
   "cell_type": "markdown",
   "metadata": {},
   "source": [
    "### 2.2. 훈련/검증/테스트용 서브셋 생성"
   ]
  },
  {
   "cell_type": "code",
   "execution_count": 3,
   "metadata": {},
   "outputs": [
    {
     "name": "stdout",
     "output_type": "stream",
     "text": [
      "훈련, 검증, 테스트 서브셋을 새로 생성합니다...\n"
     ]
    }
   ],
   "source": [
    "new_base_dir = pathlib.Path(\"./cats_vs_dogs_small_finetune\")\n",
    "if not new_base_dir.exists():\n",
    "    print(\"훈련, 검증, 테스트 서브셋을 새로 생성합니다...\")\n",
    "    for subset_name, start, end in [(\"train\", 0, 1000), (\"validation\", 1000, 1500), (\"test\", 1500, 2000)]:\n",
    "        for category in (\"Cat\", \"Dog\"):\n",
    "            dir = new_base_dir / subset_name / category\n",
    "            os.makedirs(dir, exist_ok=True)\n",
    "            fnames = sorted(os.listdir(original_dir / category))[start:end]\n",
    "            for fname in fnames:\n",
    "                shutil.copyfile(src=original_dir / category / fname, dst=dir / fname)\n",
    "else:\n",
    "    print(\"서브셋 디렉토리가 이미 존재하여 재생성하지 않습니다.\")"
   ]
  },
  {
   "cell_type": "markdown",
   "metadata": {},
   "source": [
    "### 2.3. 데이터 로더 생성"
   ]
  },
  {
   "cell_type": "code",
   "execution_count": 4,
   "metadata": {},
   "outputs": [
    {
     "name": "stdout",
     "output_type": "stream",
     "text": [
      "Found 2000 files belonging to 2 classes.\n",
      "Found 1000 files belonging to 2 classes.\n",
      "Found 1000 files belonging to 2 classes.\n"
     ]
    }
   ],
   "source": [
    "from tensorflow.keras.utils import image_dataset_from_directory\n",
    "\n",
    "BATCH_SIZE = 32\n",
    "IMAGE_SIZE = (180, 180)\n",
    "\n",
    "train_ds = image_dataset_from_directory(new_base_dir / \"train\", image_size=IMAGE_SIZE, batch_size=BATCH_SIZE)\n",
    "validation_ds = image_dataset_from_directory(new_base_dir / \"validation\", image_size=IMAGE_SIZE, batch_size=BATCH_SIZE)\n",
    "test_ds = image_dataset_from_directory(new_base_dir / \"test\", image_size=IMAGE_SIZE, batch_size=BATCH_SIZE)"
   ]
  },
  {
   "cell_type": "markdown",
   "metadata": {},
   "source": [
    "## 3. 모델 구성 및 1단계 학습 (분류기만 학습)"
   ]
  },
  {
   "cell_type": "code",
   "execution_count": 5,
   "metadata": {},
   "outputs": [
    {
     "name": "stdout",
     "output_type": "stream",
     "text": [
      "WARNING:tensorflow:From c:\\Users\\Admin\\anaconda3\\envs\\aiops\\Lib\\site-packages\\keras\\src\\backend.py:1398: The name tf.executing_eagerly_outside_functions is deprecated. Please use tf.compat.v1.executing_eagerly_outside_functions instead.\n",
      "\n",
      "WARNING:tensorflow:From c:\\Users\\Admin\\anaconda3\\envs\\aiops\\Lib\\site-packages\\keras\\src\\layers\\pooling\\max_pooling2d.py:161: The name tf.nn.max_pool is deprecated. Please use tf.nn.max_pool2d instead.\n",
      "\n",
      "--- 1단계: 동결된 VGG19 기반으로 분류기 학습 ---\n",
      "Epoch 1/30\n",
      "WARNING:tensorflow:From c:\\Users\\Admin\\anaconda3\\envs\\aiops\\Lib\\site-packages\\keras\\src\\utils\\tf_utils.py:492: The name tf.ragged.RaggedTensorValue is deprecated. Please use tf.compat.v1.ragged.RaggedTensorValue instead.\n",
      "\n",
      "WARNING:tensorflow:From c:\\Users\\Admin\\anaconda3\\envs\\aiops\\Lib\\site-packages\\keras\\src\\engine\\base_layer_utils.py:384: The name tf.executing_eagerly_outside_functions is deprecated. Please use tf.compat.v1.executing_eagerly_outside_functions instead.\n",
      "\n",
      "63/63 [==============================] - 113s 2s/step - loss: 1.8520 - accuracy: 0.8595 - val_loss: 0.4243 - val_accuracy: 0.9640\n",
      "Epoch 2/30\n",
      "63/63 [==============================] - 111s 2s/step - loss: 0.7836 - accuracy: 0.9215 - val_loss: 0.4055 - val_accuracy: 0.9620\n",
      "Epoch 3/30\n",
      "63/63 [==============================] - 111s 2s/step - loss: 0.6026 - accuracy: 0.9350 - val_loss: 0.3207 - val_accuracy: 0.9700\n",
      "Epoch 4/30\n",
      "63/63 [==============================] - 112s 2s/step - loss: 0.3864 - accuracy: 0.9475 - val_loss: 0.2910 - val_accuracy: 0.9670\n",
      "Epoch 5/30\n",
      "63/63 [==============================] - 116s 2s/step - loss: 0.3780 - accuracy: 0.9485 - val_loss: 0.3129 - val_accuracy: 0.9640\n",
      "Epoch 6/30\n",
      "63/63 [==============================] - 113s 2s/step - loss: 0.2318 - accuracy: 0.9605 - val_loss: 0.2278 - val_accuracy: 0.9710\n",
      "Epoch 7/30\n",
      "63/63 [==============================] - 113s 2s/step - loss: 0.2946 - accuracy: 0.9555 - val_loss: 0.2045 - val_accuracy: 0.9740\n",
      "Epoch 8/30\n",
      "63/63 [==============================] - 113s 2s/step - loss: 0.2237 - accuracy: 0.9665 - val_loss: 0.2440 - val_accuracy: 0.9720\n",
      "Epoch 9/30\n",
      "63/63 [==============================] - 114s 2s/step - loss: 0.1972 - accuracy: 0.9610 - val_loss: 0.2314 - val_accuracy: 0.9690\n",
      "Epoch 10/30\n",
      "63/63 [==============================] - 116s 2s/step - loss: 0.1412 - accuracy: 0.9720 - val_loss: 0.2536 - val_accuracy: 0.9740\n",
      "Epoch 11/30\n",
      "63/63 [==============================] - 122s 2s/step - loss: 0.1854 - accuracy: 0.9710 - val_loss: 0.2040 - val_accuracy: 0.9780\n",
      "Epoch 12/30\n",
      "63/63 [==============================] - 117s 2s/step - loss: 0.1224 - accuracy: 0.9735 - val_loss: 0.2346 - val_accuracy: 0.9710\n",
      "Epoch 13/30\n",
      "63/63 [==============================] - 114s 2s/step - loss: 0.1031 - accuracy: 0.9735 - val_loss: 0.2043 - val_accuracy: 0.9810\n",
      "Epoch 14/30\n",
      "63/63 [==============================] - 113s 2s/step - loss: 0.1179 - accuracy: 0.9770 - val_loss: 0.2087 - val_accuracy: 0.9730\n",
      "Epoch 15/30\n",
      "63/63 [==============================] - 113s 2s/step - loss: 0.1199 - accuracy: 0.9785 - val_loss: 0.2357 - val_accuracy: 0.9690\n",
      "Epoch 16/30\n",
      "63/63 [==============================] - 111s 2s/step - loss: 0.1050 - accuracy: 0.9810 - val_loss: 0.2086 - val_accuracy: 0.9730\n",
      "Epoch 17/30\n",
      "63/63 [==============================] - 114s 2s/step - loss: 0.0893 - accuracy: 0.9820 - val_loss: 0.2543 - val_accuracy: 0.9700\n",
      "Epoch 18/30\n",
      "63/63 [==============================] - 112s 2s/step - loss: 0.0922 - accuracy: 0.9810 - val_loss: 0.2258 - val_accuracy: 0.9750\n",
      "Epoch 19/30\n",
      "63/63 [==============================] - 114s 2s/step - loss: 0.0596 - accuracy: 0.9880 - val_loss: 0.2216 - val_accuracy: 0.9740\n",
      "Epoch 20/30\n",
      "63/63 [==============================] - 118s 2s/step - loss: 0.0521 - accuracy: 0.9910 - val_loss: 0.2255 - val_accuracy: 0.9760\n",
      "Epoch 21/30\n",
      "63/63 [==============================] - 114s 2s/step - loss: 0.0584 - accuracy: 0.9875 - val_loss: 0.2433 - val_accuracy: 0.9720\n",
      "Epoch 22/30\n",
      "63/63 [==============================] - 124s 2s/step - loss: 0.0610 - accuracy: 0.9865 - val_loss: 0.2729 - val_accuracy: 0.9740\n",
      "Epoch 23/30\n",
      "63/63 [==============================] - 115s 2s/step - loss: 0.0434 - accuracy: 0.9885 - val_loss: 0.2350 - val_accuracy: 0.9750\n",
      "Epoch 24/30\n",
      "63/63 [==============================] - 114s 2s/step - loss: 0.0649 - accuracy: 0.9875 - val_loss: 0.2457 - val_accuracy: 0.9750\n",
      "Epoch 25/30\n",
      "63/63 [==============================] - 115s 2s/step - loss: 0.0398 - accuracy: 0.9900 - val_loss: 0.2673 - val_accuracy: 0.9710\n",
      "Epoch 26/30\n",
      "63/63 [==============================] - 116s 2s/step - loss: 0.0566 - accuracy: 0.9900 - val_loss: 0.2679 - val_accuracy: 0.9760\n",
      "Epoch 27/30\n",
      "63/63 [==============================] - 115s 2s/step - loss: 0.0504 - accuracy: 0.9875 - val_loss: 0.2906 - val_accuracy: 0.9750\n",
      "Epoch 28/30\n",
      "63/63 [==============================] - 112s 2s/step - loss: 0.0461 - accuracy: 0.9905 - val_loss: 0.2931 - val_accuracy: 0.9750\n",
      "Epoch 29/30\n",
      "63/63 [==============================] - 111s 2s/step - loss: 0.0498 - accuracy: 0.9900 - val_loss: 0.2557 - val_accuracy: 0.9740\n",
      "Epoch 30/30\n",
      "63/63 [==============================] - 112s 2s/step - loss: 0.0490 - accuracy: 0.9920 - val_loss: 0.2536 - val_accuracy: 0.9710\n"
     ]
    }
   ],
   "source": [
    "# VGG19 합성곱 기반 로드 및 동결\n",
    "conv_base = applications.vgg19.VGG19(\n",
    "    weights=\"imagenet\",\n",
    "    include_top=False,\n",
    "    input_shape=(180, 180, 3)\n",
    ")\n",
    "conv_base.trainable = False\n",
    "\n",
    "# 데이터 증강 및 전체 모델 구성\n",
    "data_augmentation = keras.Sequential([\n",
    "    layers.RandomFlip(\"horizontal\"),\n",
    "    layers.RandomRotation(0.1),\n",
    "    layers.RandomZoom(0.2),\n",
    "])\n",
    "\n",
    "inputs = keras.Input(shape=(180, 180, 3))\n",
    "x = data_augmentation(inputs)\n",
    "x = applications.vgg19.preprocess_input(x)\n",
    "x = conv_base(x)\n",
    "x = layers.Flatten()(x)\n",
    "x = layers.Dense(256, activation='relu')(x)\n",
    "x = layers.Dropout(0.5)(x)\n",
    "outputs = layers.Dense(1, activation='sigmoid')(x)\n",
    "model = keras.Model(inputs, outputs)\n",
    "\n",
    "# 모델 컴파일\n",
    "model.compile(loss='binary_crossentropy',\n",
    "              optimizer=optimizers.RMSprop(learning_rate=1e-4), # 1단계 학습률\n",
    "              metrics=['accuracy'])\n",
    "\n",
    "print(\"--- 1단계: 동결된 VGG19 기반으로 분류기 학습 ---\")\n",
    "history_phase1 = model.fit(train_ds, epochs=30, validation_data=validation_ds)"
   ]
  },
  {
   "cell_type": "markdown",
   "metadata": {},
   "source": [
    "## 4. 2단계 학습 (미세 조정)"
   ]
  },
  {
   "cell_type": "markdown",
   "metadata": {},
   "source": [
    "### 4.1. VGG19 상위 레이어 동결 해제"
   ]
  },
  {
   "cell_type": "code",
   "execution_count": 6,
   "metadata": {},
   "outputs": [
    {
     "name": "stdout",
     "output_type": "stream",
     "text": [
      "--- VGG19 레이어별 학습 가능 상태 ---\n",
      "input_1: 동결\n",
      "block1_conv1: 동결\n",
      "block1_conv2: 동결\n",
      "block1_pool: 동결\n",
      "block2_conv1: 동결\n",
      "block2_conv2: 동결\n",
      "block2_pool: 동결\n",
      "block3_conv1: 동결\n",
      "block3_conv2: 동결\n",
      "block3_conv3: 동결\n",
      "block3_conv4: 동결\n",
      "block3_pool: 동결\n",
      "block4_conv1: 동결\n",
      "block4_conv2: 동결\n",
      "block4_conv3: 동결\n",
      "block4_conv4: 동결\n",
      "block4_pool: 동결\n",
      "block5_conv1: 동결\n",
      "block5_conv2: 학습 가능\n",
      "block5_conv3: 학습 가능\n",
      "block5_conv4: 학습 가능\n",
      "block5_pool: 학습 가능\n"
     ]
    }
   ],
   "source": [
    "# conv_base를 다시 학습 가능하도록 설정\n",
    "conv_base.trainable = True\n",
    "\n",
    "# 마지막 4개 레이어(block5_conv1, block5_conv2, block5_conv3, block5_pool)만 학습\n",
    "for layer in conv_base.layers[:-4]:\n",
    "    layer.trainable = False\n",
    "\n",
    "print(\"--- VGG19 레이어별 학습 가능 상태 ---\")\n",
    "for layer in conv_base.layers:\n",
    "    print(f\"{layer.name}: {'학습 가능' if layer.trainable else '동결'}\")"
   ]
  },
  {
   "cell_type": "markdown",
   "metadata": {},
   "source": [
    "### 4.2. 미세 조정 학습 실행"
   ]
  },
  {
   "cell_type": "code",
   "execution_count": null,
   "metadata": {},
   "outputs": [
    {
     "name": "stdout",
     "output_type": "stream",
     "text": [
      "\n",
      "--- 2단계: VGG19 상위 레이어 미세 조정 학습 ---\n"
     ]
    }
   ],
   "source": [
    "# 매우 낮은 학습률로 모델을 다시 컴파일\n",
    "model.compile(loss='binary_crossentropy',\n",
    "              optimizer=optimizers.RMSprop(learning_rate=1e-5), # 미세 조정을 위한 낮은 학습률\n",
    "              metrics=['accuracy'])\n",
    "\n",
    "callbacks = [\n",
    "    keras.callbacks.ModelCheckpoint(\n",
    "        filepath=\"fine_tuning_model.keras\",\n",
    "        save_best_only=True,\n",
    "        monitor=\"val_loss\"\n",
    "    )\n",
    "]\n",
    "\n",
    "print(\"\\n--- 2단계: VGG19 상위 레이어 미세 조정 학습 ---\")\n",
    "history_phase2 = model.fit(\n",
    "    train_ds,\n",
    "    epochs=20, # 추가 에포크\n",
    "    validation_data=validation_ds,\n",
    "    callbacks=callbacks,\n",
    "    initial_epoch=history_phase1.epoch[-1] if history_phase1.epoch else 0  # 이전 학습의 마지막 에포크에서 시작\n",
    ")"
   ]
  },
  {
   "cell_type": "markdown",
   "metadata": {},
   "source": [
    "## 5. 학습 결과 시각화"
   ]
  },
  {
   "cell_type": "code",
   "execution_count": 8,
   "metadata": {},
   "outputs": [
    {
     "ename": "KeyError",
     "evalue": "'accuracy'",
     "output_type": "error",
     "traceback": [
      "\u001b[31m---------------------------------------------------------------------------\u001b[39m",
      "\u001b[31mKeyError\u001b[39m                                  Traceback (most recent call last)",
      "\u001b[36mCell\u001b[39m\u001b[36m \u001b[39m\u001b[32mIn[8]\u001b[39m\u001b[32m, line 1\u001b[39m\n\u001b[32m----> \u001b[39m\u001b[32m1\u001b[39m acc = history_phase1.history[\u001b[33m'\u001b[39m\u001b[33maccuracy\u001b[39m\u001b[33m'\u001b[39m] + \u001b[43mhistory_phase2\u001b[49m\u001b[43m.\u001b[49m\u001b[43mhistory\u001b[49m\u001b[43m[\u001b[49m\u001b[33;43m'\u001b[39;49m\u001b[33;43maccuracy\u001b[39;49m\u001b[33;43m'\u001b[39;49m\u001b[43m]\u001b[49m\n\u001b[32m      2\u001b[39m val_acc = history_phase1.history[\u001b[33m'\u001b[39m\u001b[33mval_accuracy\u001b[39m\u001b[33m'\u001b[39m] + history_phase2.history[\u001b[33m'\u001b[39m\u001b[33mval_accuracy\u001b[39m\u001b[33m'\u001b[39m]\n\u001b[32m      3\u001b[39m loss = history_phase1.history[\u001b[33m'\u001b[39m\u001b[33mloss\u001b[39m\u001b[33m'\u001b[39m] + history_phase2.history[\u001b[33m'\u001b[39m\u001b[33mloss\u001b[39m\u001b[33m'\u001b[39m]\n",
      "\u001b[31mKeyError\u001b[39m: 'accuracy'"
     ]
    }
   ],
   "source": [
    "acc = history_phase1.history['accuracy'] + history_phase2.history['accuracy']\n",
    "val_acc = history_phase1.history['val_accuracy'] + history_phase2.history['val_accuracy']\n",
    "loss = history_phase1.history['loss'] + history_phase2.history['loss']\n",
    "val_loss = history_phase1.history['val_loss'] + history_phase2.history['val_loss']\n",
    "epochs = range(1, len(acc) + 1)\n",
    "\n",
    "plt.figure(figsize=(14, 5))\n",
    "\n",
    "plt.subplot(1, 2, 1)\n",
    "plt.plot(epochs, acc, 'bo', label='Training accuracy')\n",
    "plt.plot(epochs, val_acc, 'b', label='Validation accuracy')\n",
    "plt.axvline(history_phase1.epoch[-1] + 1, linestyle='--', color='k', label='Fine-tuning starts')\n",
    "plt.title('Training and validation accuracy')\n",
    "plt.xlabel('Epochs')\n",
    "plt.ylabel('Accuracy')\n",
    "plt.legend()\n",
    "\n",
    "plt.subplot(1, 2, 2)\n",
    "plt.plot(epochs, loss, 'bo', label='Training loss')\n",
    "plt.plot(epochs, val_loss, 'b', label='Validation loss')\n",
    "plt.axvline(history_phase1.epoch[-1] + 1, linestyle='--', color='k', label='Fine-tuning starts')\n",
    "plt.title('Training and validation loss')\n",
    "plt.xlabel('Epochs')\n",
    "plt.ylabel('Loss')\n",
    "plt.legend()\n",
    "\n",
    "plt.tight_layout()\n",
    "plt.show()"
   ]
  },
  {
   "cell_type": "markdown",
   "metadata": {},
   "source": [
    "## 6. 최종 모델 평가"
   ]
  },
  {
   "cell_type": "code",
   "execution_count": null,
   "metadata": {},
   "outputs": [],
   "source": [
    "best_model = keras.models.load_model(\"fine_tuning_model.keras\")\n",
    "\n",
    "print(\"테스트 데이터셋으로 최종 모델을 평가합니다...\")\n",
    "test_loss, test_acc = best_model.evaluate(test_ds)\n",
    "print(f'최종 테스트 정확도: {test_acc*100:.2f}%')"
   ]
  }
 ],
 "metadata": {
  "kernelspec": {
   "display_name": "aiops",
   "language": "python",
   "name": "python3"
  },
  "language_info": {
   "codemirror_mode": {
    "name": "ipython",
    "version": 3
   },
   "file_extension": ".py",
   "mimetype": "text/x-python",
   "name": "python",
   "nbconvert_exporter": "python",
   "pygments_lexer": "ipython3",
   "version": "3.11.13"
  }
 },
 "nbformat": 4,
 "nbformat_minor": 5
}
