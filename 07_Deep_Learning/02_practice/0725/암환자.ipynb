{
 "cells": [
  {
   "cell_type": "markdown",
   "metadata": {},
   "source": [
    "## 유방암 환자 분류: 딥러닝을 이용한 이진 분류\n",
    "\n",
    "이 노트북은 Scikit-learn에 내장된 위스콘신 유방암 데이터셋을 사용하여 악성(malignant)과 양성(benign) 종양을 분류하는 딥러닝 모델을 구축합니다. 이진 분류 문제에 딥러닝을 적용하는 전체 과정을 다룹니다."
   ]
  },
  {
   "cell_type": "markdown",
   "metadata": {},
   "source": [
    "### 1. 라이브러리 임포트"
   ]
  },
  {
   "cell_type": "code",
   "execution_count": null,
   "metadata": {},
   "outputs": [],
   "source": [
    "import pandas as pd\n",
    "import numpy as np\n",
    "import tensorflow as tf\n",
    "from tensorflow import keras\n",
    "from tensorflow.keras import models, layers\n",
    "from sklearn.datasets import load_breast_cancer\n",
    "from sklearn.model_selection import train_test_split\n",
    "from sklearn.preprocessing import StandardScaler\n",
    "import matplotlib.pyplot as plt\n",
    "import pickle"
   ]
  },
  {
   "cell_type": "markdown",
   "metadata": {},
   "source": [
    "### 2. 데이터 로드 및 탐색\n",
    "Scikit-learn의 `load_breast_cancer` 함수를 사용하여 데이터를 로드하고, Pandas DataFrame으로 변환하여 내용을 쉽게 확인합니다. 그 후, 데이터를 훈련 세트와 테스트 세트로 분할합니다."
   ]
  },
  {
   "cell_type": "code",
   "execution_count": null,
   "metadata": {},
   "outputs": [],
   "source": [
    "def load_data():\n",
    "    \"\"\"데이터를 로드하고 훈련/테스트 세트로 분할합니다.\"\"\"\n",
    "    cancer = load_breast_cancer()\n",
    "    X = pd.DataFrame(cancer.data, columns=cancer.feature_names)\n",
    "    y = cancer.target # 0: 악성(malignant), 1: 양성(benign)\n",
    "\n",
    "    X_train, X_test, y_train, y_test = train_test_split(\n",
    "        X, y, \n",
    "        test_size=0.2, \n",
    "        random_state=123, \n",
    "        stratify=y # 원본 데이터의 클래스 비율을 유지\n",
    "    )\n",
    "    return X_train, X_test, y_train, y_test\n",
    "\n",
    "X_train, X_test, y_train, y_test = load_data()\n",
    "\n",
    "print(\"--- 데이터 확인 ---\")\n",
    "print(\"훈련 데이터 형태:\", X_train.shape)\n",
    "print(\"테스트 데이터 형태:\", X_test.shape)\n",
    "print(\"\\n첫 5개 훈련 데이터 샘플:\")\n",
    "print(X_train.head())"
   ]
  },
  {
   "cell_type": "markdown",
   "metadata": {},
   "source": [
    "### 3. 데이터 전처리: 특성 스케일링\n",
    "각 특성(feature)의 값 범위가 다르기 때문에, 모델이 안정적으로 학습할 수 있도록 `StandardScaler`를 사용하여 모든 특성을 표준화합니다."
   ]
  },
  {
   "cell_type": "code",
   "execution_count": null,
   "metadata": {},
   "outputs": [],
   "source": [
    "scaler = StandardScaler()\n",
    "X_train_scaled = scaler.fit_transform(X_train)\n",
    "X_test_scaled = scaler.transform(X_test)\n",
    "\n",
    "print(\"--- 스케일링 후 데이터 확인 ---\")\n",
    "print(\"평균:\", X_train_scaled.mean(axis=0).round(2))\n",
    "print(\"표준편차:\", X_train_scaled.std(axis=0).round(2))"
   ]
  },
  {
   "cell_type": "markdown",
   "metadata": {},
   "source": [
    "### 4. 딥러닝 모델 구축\n",
    "이진 분류를 위한 `Sequential` 모델을 정의합니다.\n",
    "\n",
    "- **은닉층**: `relu` 활성화 함수를 사용하는 여러 개의 `Dense` 층으로 구성됩니다.\n",
    "- **출력층**: 두 개의 클래스(악성/양성) 중 하나일 확률을 출력해야 하므로, 하나의 뉴런과 `sigmoid` 활성화 함수를 사용합니다. Sigmoid 함수는 출력을 0과 1 사이의 값으로 변환하여 확률처럼 해석할 수 있게 합니다.\n",
    "\n",
    "모델 컴파일 시:\n",
    "- **Optimizer**: `rmsprop`\n",
    "- **Loss Function**: 이진 분류 문제이므로 `binary_crossentropy`를 사용합니다.\n",
    "- **Metrics**: `accuracy`를 사용하여 모델 성능을 측정합니다."
   ]
  },
  {
   "cell_type": "code",
   "execution_count": null,
   "metadata": {},
   "outputs": [],
   "source": [
    "def create_model():\n",
    "    model = models.Sequential([\n",
    "        layers.Input(shape=(X_train_scaled.shape[1],)), # 입력 특성의 수\n",
    "        layers.Dense(128, activation='relu'),\n",
    "        layers.Dense(64, activation='relu'),\n",
    "        layers.Dense(32, activation='relu'),\n",
    "        layers.Dense(32, activation='relu'),\n",
    "        layers.Dense(1, activation='sigmoid'),\n",
    "    ])\n",
    "\n",
    "    model.compile(optimizer='rmsprop',\n",
    "                  loss='binary_crossentropy',\n",
    "                  metrics=['accuracy'])\n",
    "    return model\n",
    "\n",
    "model = create_model()\n",
    "model.summary()"
   ]
  },
  {
   "cell_type": "markdown",
   "metadata": {},
   "source": [
    "### 5. 모델 훈련\n",
    "모델을 훈련시키면서 `ModelCheckpoint` 콜백을 사용하여 검증 손실(`val_loss`)이 가장 낮은 최적의 모델을 파일로 저장합니다. 이렇게 하면 훈련이 끝난 후 가장 성능이 좋았던 시점의 모델을 사용할 수 있습니다."
   ]
  },
  {
   "cell_type": "code",
   "execution_count": null,
   "metadata": {},
   "outputs": [],
   "source": [
    "callbacks = [\n",
    "    keras.callbacks.ModelCheckpoint(\n",
    "        filepath='암환자분류_최적모델.keras', # 모델 저장 경로\n",
    "        save_best_only=True,          # 가장 좋은 모델만 저장\n",
    "        monitor='val_loss'            # 검증 손실을 기준으로 판단\n",
    "    )\n",
    "]\n",
    "\n",
    "history = model.fit(X_train_scaled, y_train, \n",
    "                    epochs=20, \n",
    "                    validation_data=(X_test_scaled, y_test),\n",
    "                    callbacks=callbacks, \n",
    "                    batch_size=100,\n",
    "                    verbose=1)\n",
    "\n",
    "# 훈련 과정 기록을 pickle로 저장\n",
    "with open(\"암환자분류_훈련기록.pkl\", \"wb\") as file:\n",
    "    pickle.dump(history.history, file)"
   ]
  },
  {
   "cell_type": "markdown",
   "metadata": {},
   "source": [
    "### 6. 훈련 과정 시각화\n",
    "훈련 및 검증 과정에서의 손실과 정확도 변화를 그래프로 그려, 모델이 어떻게 학습되었는지, 과대적합은 발생하지 않았는지 확인합니다."
   ]
  },
  {
   "cell_type": "code",
   "execution_count": null,
   "metadata": {},
   "outputs": [],
   "source": [
    "def plot_history(history):\n",
    "    plt.figure(figsize=(12, 5))\n",
    "\n",
    "    # 손실 그래프\n",
    "    plt.subplot(1, 2, 1)\n",
    "    plt.plot(history.history['loss'], label='Training Loss')\n",
    "    plt.plot(history.history['val_loss'], label='Validation Loss')\n",
    "    plt.title('Loss Over Epochs')\n",
    "    plt.xlabel('Epochs')\n",
    "    plt.ylabel('Loss')\n",
    "    plt.legend()\n",
    "\n",
    "    # 정확도 그래프\n",
    "    plt.subplot(1, 2, 2)\n",
    "    plt.plot(history.history['accuracy'], label='Training Accuracy')\n",
    "    plt.plot(history.history['val_accuracy'], label='Validation Accuracy')\n",
    "    plt.title('Accuracy Over Epochs')\n",
    "    plt.xlabel('Epochs')\n",
    "    plt.ylabel('Accuracy')\n",
    "    plt.legend()\n",
    "\n",
    "    plt.tight_layout()\n",
    "    plt.show()\n",
    "\n",
    "plot_history(history)"
   ]
  },
  {
   "cell_type": "markdown",
   "metadata": {},
   "source": [
    "### 7. 모델 평가\n",
    "훈련이 완료된 후, 저장된 최적의 모델을 불러와 최종 성능을 평가합니다."
   ]
  },
  {
   "cell_type": "code",
   "execution_count": null,
   "metadata": {},
   "outputs": [],
   "source": [
    "# 저장된 최적 모델 로드\n",
    "best_model = keras.models.load_model('암환자분류_최적모델.keras')\n",
    "\n",
    "print(\"--- 최종 모델 평가 (최적 모델) ---\")\n",
    "train_loss, train_acc = best_model.evaluate(X_train_scaled, y_train)\n",
    "test_loss, test_acc = best_model.evaluate(X_test_scaled, y_test)\n",
    "\n",
    "print(f\"훈련셋 손실값: {train_loss:.4f}, 정확도: {train_acc:.4f}\")\n",
    "print(f\"테스트셋 손실값: {test_loss:.4f}, 정확도: {test_acc:.4f}\")"
   ]
  }
 ],
 "metadata": {
  "kernelspec": {
   "display_name": "Python 3",
   "language": "python",
   "name": "python3"
  },
  "language_info": {
   "codemirror_mode": {
    "name": "ipython",
    "version": 3
   },
   "file_extension": ".py",
   "mimetype": "text/x-python",
   "name": "python",
   "nbconvert_exporter": "python",
   "pygments_lexer": "ipython3",
   "version": "3.9.7"
  }
 },
 "nbformat": 4,
 "nbformat_minor": 2
}